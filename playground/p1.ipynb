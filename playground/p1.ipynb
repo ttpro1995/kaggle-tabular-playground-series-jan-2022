{
 "cells": [
  {
   "cell_type": "code",
   "execution_count": 1,
   "metadata": {
    "collapsed": true
   },
   "outputs": [],
   "source": [
    "import pandas as pd\n",
    "import seaborn as sns\n",
    "import prophet\n",
    "import swifter\n",
    "from prophet import Prophet\n",
    "from tqdm import tqdm"
   ]
  },
  {
   "cell_type": "code",
   "execution_count": 16,
   "outputs": [],
   "source": [
    "from util.jan2022process import link_store, unlink_store, process_a_store"
   ],
   "metadata": {
    "collapsed": false,
    "pycharm": {
     "name": "#%%\n"
    }
   }
  },
  {
   "cell_type": "code",
   "execution_count": 2,
   "outputs": [],
   "source": [
    "df = pd.read_csv(\"/data/kaggle/tabular-playground-series-jan-2022/train.csv\")"
   ],
   "metadata": {
    "collapsed": false,
    "pycharm": {
     "name": "#%%\n"
    }
   }
  },
  {
   "cell_type": "code",
   "execution_count": 3,
   "outputs": [
    {
     "data": {
      "text/plain": "   row_id        date  country       store         product  num_sold\n0       0  2015-01-01  Finland  KaggleMart      Kaggle Mug       329\n1       1  2015-01-01  Finland  KaggleMart      Kaggle Hat       520\n2       2  2015-01-01  Finland  KaggleMart  Kaggle Sticker       146\n3       3  2015-01-01  Finland  KaggleRama      Kaggle Mug       572\n4       4  2015-01-01  Finland  KaggleRama      Kaggle Hat       911",
      "text/html": "<div>\n<style scoped>\n    .dataframe tbody tr th:only-of-type {\n        vertical-align: middle;\n    }\n\n    .dataframe tbody tr th {\n        vertical-align: top;\n    }\n\n    .dataframe thead th {\n        text-align: right;\n    }\n</style>\n<table border=\"1\" class=\"dataframe\">\n  <thead>\n    <tr style=\"text-align: right;\">\n      <th></th>\n      <th>row_id</th>\n      <th>date</th>\n      <th>country</th>\n      <th>store</th>\n      <th>product</th>\n      <th>num_sold</th>\n    </tr>\n  </thead>\n  <tbody>\n    <tr>\n      <th>0</th>\n      <td>0</td>\n      <td>2015-01-01</td>\n      <td>Finland</td>\n      <td>KaggleMart</td>\n      <td>Kaggle Mug</td>\n      <td>329</td>\n    </tr>\n    <tr>\n      <th>1</th>\n      <td>1</td>\n      <td>2015-01-01</td>\n      <td>Finland</td>\n      <td>KaggleMart</td>\n      <td>Kaggle Hat</td>\n      <td>520</td>\n    </tr>\n    <tr>\n      <th>2</th>\n      <td>2</td>\n      <td>2015-01-01</td>\n      <td>Finland</td>\n      <td>KaggleMart</td>\n      <td>Kaggle Sticker</td>\n      <td>146</td>\n    </tr>\n    <tr>\n      <th>3</th>\n      <td>3</td>\n      <td>2015-01-01</td>\n      <td>Finland</td>\n      <td>KaggleRama</td>\n      <td>Kaggle Mug</td>\n      <td>572</td>\n    </tr>\n    <tr>\n      <th>4</th>\n      <td>4</td>\n      <td>2015-01-01</td>\n      <td>Finland</td>\n      <td>KaggleRama</td>\n      <td>Kaggle Hat</td>\n      <td>911</td>\n    </tr>\n  </tbody>\n</table>\n</div>"
     },
     "execution_count": 3,
     "metadata": {},
     "output_type": "execute_result"
    }
   ],
   "source": [
    "df.head()"
   ],
   "metadata": {
    "collapsed": false,
    "pycharm": {
     "name": "#%%\n"
    }
   }
  },
  {
   "cell_type": "code",
   "execution_count": 4,
   "outputs": [],
   "source": [
    "df_test = pd.read_csv(\"/data/kaggle/tabular-playground-series-jan-2022/test.csv\")"
   ],
   "metadata": {
    "collapsed": false,
    "pycharm": {
     "name": "#%%\n"
    }
   }
  },
  {
   "cell_type": "code",
   "execution_count": 5,
   "outputs": [
    {
     "data": {
      "text/plain": "   row_id        date  country       store         product\n0   26298  2019-01-01  Finland  KaggleMart      Kaggle Mug\n1   26299  2019-01-01  Finland  KaggleMart      Kaggle Hat\n2   26300  2019-01-01  Finland  KaggleMart  Kaggle Sticker\n3   26301  2019-01-01  Finland  KaggleRama      Kaggle Mug\n4   26302  2019-01-01  Finland  KaggleRama      Kaggle Hat",
      "text/html": "<div>\n<style scoped>\n    .dataframe tbody tr th:only-of-type {\n        vertical-align: middle;\n    }\n\n    .dataframe tbody tr th {\n        vertical-align: top;\n    }\n\n    .dataframe thead th {\n        text-align: right;\n    }\n</style>\n<table border=\"1\" class=\"dataframe\">\n  <thead>\n    <tr style=\"text-align: right;\">\n      <th></th>\n      <th>row_id</th>\n      <th>date</th>\n      <th>country</th>\n      <th>store</th>\n      <th>product</th>\n    </tr>\n  </thead>\n  <tbody>\n    <tr>\n      <th>0</th>\n      <td>26298</td>\n      <td>2019-01-01</td>\n      <td>Finland</td>\n      <td>KaggleMart</td>\n      <td>Kaggle Mug</td>\n    </tr>\n    <tr>\n      <th>1</th>\n      <td>26299</td>\n      <td>2019-01-01</td>\n      <td>Finland</td>\n      <td>KaggleMart</td>\n      <td>Kaggle Hat</td>\n    </tr>\n    <tr>\n      <th>2</th>\n      <td>26300</td>\n      <td>2019-01-01</td>\n      <td>Finland</td>\n      <td>KaggleMart</td>\n      <td>Kaggle Sticker</td>\n    </tr>\n    <tr>\n      <th>3</th>\n      <td>26301</td>\n      <td>2019-01-01</td>\n      <td>Finland</td>\n      <td>KaggleRama</td>\n      <td>Kaggle Mug</td>\n    </tr>\n    <tr>\n      <th>4</th>\n      <td>26302</td>\n      <td>2019-01-01</td>\n      <td>Finland</td>\n      <td>KaggleRama</td>\n      <td>Kaggle Hat</td>\n    </tr>\n  </tbody>\n</table>\n</div>"
     },
     "execution_count": 5,
     "metadata": {},
     "output_type": "execute_result"
    }
   ],
   "source": [
    "df_test.head()"
   ],
   "metadata": {
    "collapsed": false,
    "pycharm": {
     "name": "#%%\n"
    }
   }
  },
  {
   "cell_type": "markdown",
   "source": [
    "# Compare category"
   ],
   "metadata": {
    "collapsed": false,
    "pycharm": {
     "name": "#%% md\n"
    }
   }
  },
  {
   "cell_type": "markdown",
   "source": [
    "## see single columns"
   ],
   "metadata": {
    "collapsed": false,
    "pycharm": {
     "name": "#%% md\n"
    }
   }
  },
  {
   "cell_type": "code",
   "execution_count": 6,
   "outputs": [
    {
     "data": {
      "text/plain": "array(['Finland', 'Norway', 'Sweden'], dtype=object)"
     },
     "execution_count": 6,
     "metadata": {},
     "output_type": "execute_result"
    }
   ],
   "source": [
    "df[\"country\"].unique()"
   ],
   "metadata": {
    "collapsed": false,
    "pycharm": {
     "name": "#%%\n"
    }
   }
  },
  {
   "cell_type": "code",
   "execution_count": 7,
   "outputs": [
    {
     "data": {
      "text/plain": "array(['Finland', 'Norway', 'Sweden'], dtype=object)"
     },
     "execution_count": 7,
     "metadata": {},
     "output_type": "execute_result"
    }
   ],
   "source": [
    "df_test[\"country\"].unique()"
   ],
   "metadata": {
    "collapsed": false,
    "pycharm": {
     "name": "#%%\n"
    }
   }
  },
  {
   "cell_type": "code",
   "execution_count": 10,
   "outputs": [
    {
     "data": {
      "text/plain": "array(['KaggleMart', 'KaggleRama'], dtype=object)"
     },
     "execution_count": 10,
     "metadata": {},
     "output_type": "execute_result"
    }
   ],
   "source": [
    "df[\"store\"].unique()"
   ],
   "metadata": {
    "collapsed": false,
    "pycharm": {
     "name": "#%%\n"
    }
   }
  },
  {
   "cell_type": "code",
   "execution_count": 11,
   "outputs": [
    {
     "data": {
      "text/plain": "array(['KaggleMart', 'KaggleRama'], dtype=object)"
     },
     "execution_count": 11,
     "metadata": {},
     "output_type": "execute_result"
    }
   ],
   "source": [
    "df_test[\"store\"].unique()"
   ],
   "metadata": {
    "collapsed": false,
    "pycharm": {
     "name": "#%%\n"
    }
   }
  },
  {
   "cell_type": "code",
   "execution_count": 12,
   "outputs": [
    {
     "data": {
      "text/plain": "array(['Kaggle Mug', 'Kaggle Hat', 'Kaggle Sticker'], dtype=object)"
     },
     "execution_count": 12,
     "metadata": {},
     "output_type": "execute_result"
    }
   ],
   "source": [
    "df[\"product\"].unique()"
   ],
   "metadata": {
    "collapsed": false,
    "pycharm": {
     "name": "#%%\n"
    }
   }
  },
  {
   "cell_type": "code",
   "execution_count": 13,
   "outputs": [
    {
     "data": {
      "text/plain": "array(['Kaggle Mug', 'Kaggle Hat', 'Kaggle Sticker'], dtype=object)"
     },
     "execution_count": 13,
     "metadata": {},
     "output_type": "execute_result"
    }
   ],
   "source": [
    "df_test[\"product\"].unique()"
   ],
   "metadata": {
    "collapsed": false,
    "pycharm": {
     "name": "#%%\n"
    }
   }
  },
  {
   "cell_type": "markdown",
   "source": [
    "## link 3 columns"
   ],
   "metadata": {
    "collapsed": false,
    "pycharm": {
     "name": "#%% md\n"
    }
   }
  },
  {
   "cell_type": "code",
   "execution_count": 18,
   "outputs": [],
   "source": [
    "df_test_link = df_test.apply(link_store, axis=1)"
   ],
   "metadata": {
    "collapsed": false,
    "pycharm": {
     "name": "#%%\n"
    }
   }
  },
  {
   "cell_type": "code",
   "execution_count": 19,
   "outputs": [],
   "source": [
    "df_link = df.apply(link_store, axis=1)"
   ],
   "metadata": {
    "collapsed": false,
    "pycharm": {
     "name": "#%%\n"
    }
   }
  },
  {
   "cell_type": "code",
   "execution_count": 21,
   "outputs": [
    {
     "data": {
      "text/plain": "   row_id        date  country       store         product  num_sold  \\\n0       0  2015-01-01  Finland  KaggleMart      Kaggle Mug       329   \n1       1  2015-01-01  Finland  KaggleMart      Kaggle Hat       520   \n2       2  2015-01-01  Finland  KaggleMart  Kaggle Sticker       146   \n3       3  2015-01-01  Finland  KaggleRama      Kaggle Mug       572   \n4       4  2015-01-01  Finland  KaggleRama      Kaggle Hat       911   \n\n                              store_name  \n0      Finland___KaggleMart___KagglexMug  \n1      Finland___KaggleMart___KagglexHat  \n2  Finland___KaggleMart___KagglexSticker  \n3      Finland___KaggleRama___KagglexMug  \n4      Finland___KaggleRama___KagglexHat  ",
      "text/html": "<div>\n<style scoped>\n    .dataframe tbody tr th:only-of-type {\n        vertical-align: middle;\n    }\n\n    .dataframe tbody tr th {\n        vertical-align: top;\n    }\n\n    .dataframe thead th {\n        text-align: right;\n    }\n</style>\n<table border=\"1\" class=\"dataframe\">\n  <thead>\n    <tr style=\"text-align: right;\">\n      <th></th>\n      <th>row_id</th>\n      <th>date</th>\n      <th>country</th>\n      <th>store</th>\n      <th>product</th>\n      <th>num_sold</th>\n      <th>store_name</th>\n    </tr>\n  </thead>\n  <tbody>\n    <tr>\n      <th>0</th>\n      <td>0</td>\n      <td>2015-01-01</td>\n      <td>Finland</td>\n      <td>KaggleMart</td>\n      <td>Kaggle Mug</td>\n      <td>329</td>\n      <td>Finland___KaggleMart___KagglexMug</td>\n    </tr>\n    <tr>\n      <th>1</th>\n      <td>1</td>\n      <td>2015-01-01</td>\n      <td>Finland</td>\n      <td>KaggleMart</td>\n      <td>Kaggle Hat</td>\n      <td>520</td>\n      <td>Finland___KaggleMart___KagglexHat</td>\n    </tr>\n    <tr>\n      <th>2</th>\n      <td>2</td>\n      <td>2015-01-01</td>\n      <td>Finland</td>\n      <td>KaggleMart</td>\n      <td>Kaggle Sticker</td>\n      <td>146</td>\n      <td>Finland___KaggleMart___KagglexSticker</td>\n    </tr>\n    <tr>\n      <th>3</th>\n      <td>3</td>\n      <td>2015-01-01</td>\n      <td>Finland</td>\n      <td>KaggleRama</td>\n      <td>Kaggle Mug</td>\n      <td>572</td>\n      <td>Finland___KaggleRama___KagglexMug</td>\n    </tr>\n    <tr>\n      <th>4</th>\n      <td>4</td>\n      <td>2015-01-01</td>\n      <td>Finland</td>\n      <td>KaggleRama</td>\n      <td>Kaggle Hat</td>\n      <td>911</td>\n      <td>Finland___KaggleRama___KagglexHat</td>\n    </tr>\n  </tbody>\n</table>\n</div>"
     },
     "execution_count": 21,
     "metadata": {},
     "output_type": "execute_result"
    }
   ],
   "source": [
    "df_link.head()"
   ],
   "metadata": {
    "collapsed": false,
    "pycharm": {
     "name": "#%%\n"
    }
   }
  },
  {
   "cell_type": "code",
   "execution_count": 22,
   "outputs": [
    {
     "data": {
      "text/plain": "array(['Finland___KaggleMart___KagglexMug',\n       'Finland___KaggleMart___KagglexHat',\n       'Finland___KaggleMart___KagglexSticker',\n       'Finland___KaggleRama___KagglexMug',\n       'Finland___KaggleRama___KagglexHat',\n       'Finland___KaggleRama___KagglexSticker',\n       'Norway___KaggleMart___KagglexMug',\n       'Norway___KaggleMart___KagglexHat',\n       'Norway___KaggleMart___KagglexSticker',\n       'Norway___KaggleRama___KagglexMug',\n       'Norway___KaggleRama___KagglexHat',\n       'Norway___KaggleRama___KagglexSticker',\n       'Sweden___KaggleMart___KagglexMug',\n       'Sweden___KaggleMart___KagglexHat',\n       'Sweden___KaggleMart___KagglexSticker',\n       'Sweden___KaggleRama___KagglexMug',\n       'Sweden___KaggleRama___KagglexHat',\n       'Sweden___KaggleRama___KagglexSticker'], dtype=object)"
     },
     "execution_count": 22,
     "metadata": {},
     "output_type": "execute_result"
    }
   ],
   "source": [
    "df_link[\"store_name\"].unique()"
   ],
   "metadata": {
    "collapsed": false,
    "pycharm": {
     "name": "#%%\n"
    }
   }
  },
  {
   "cell_type": "code",
   "execution_count": 23,
   "outputs": [
    {
     "data": {
      "text/plain": "array(['Finland___KaggleMart___KagglexMug',\n       'Finland___KaggleMart___KagglexHat',\n       'Finland___KaggleMart___KagglexSticker',\n       'Finland___KaggleRama___KagglexMug',\n       'Finland___KaggleRama___KagglexHat',\n       'Finland___KaggleRama___KagglexSticker',\n       'Norway___KaggleMart___KagglexMug',\n       'Norway___KaggleMart___KagglexHat',\n       'Norway___KaggleMart___KagglexSticker',\n       'Norway___KaggleRama___KagglexMug',\n       'Norway___KaggleRama___KagglexHat',\n       'Norway___KaggleRama___KagglexSticker',\n       'Sweden___KaggleMart___KagglexMug',\n       'Sweden___KaggleMart___KagglexHat',\n       'Sweden___KaggleMart___KagglexSticker',\n       'Sweden___KaggleRama___KagglexMug',\n       'Sweden___KaggleRama___KagglexHat',\n       'Sweden___KaggleRama___KagglexSticker'], dtype=object)"
     },
     "execution_count": 23,
     "metadata": {},
     "output_type": "execute_result"
    }
   ],
   "source": [
    "df_test_link[\"store_name\"].unique()"
   ],
   "metadata": {
    "collapsed": false,
    "pycharm": {
     "name": "#%%\n"
    }
   }
  },
  {
   "cell_type": "code",
   "execution_count": null,
   "outputs": [],
   "source": [],
   "metadata": {
    "collapsed": false,
    "pycharm": {
     "name": "#%%\n"
    }
   }
  }
 ],
 "metadata": {
  "kernelspec": {
   "display_name": "Python 3",
   "language": "python",
   "name": "python3"
  },
  "language_info": {
   "codemirror_mode": {
    "name": "ipython",
    "version": 2
   },
   "file_extension": ".py",
   "mimetype": "text/x-python",
   "name": "python",
   "nbconvert_exporter": "python",
   "pygments_lexer": "ipython2",
   "version": "2.7.6"
  }
 },
 "nbformat": 4,
 "nbformat_minor": 0
}