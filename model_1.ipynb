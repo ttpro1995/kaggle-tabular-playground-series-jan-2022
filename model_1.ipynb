{
 "cells": [
  {
   "cell_type": "code",
   "execution_count": 1,
   "metadata": {
    "collapsed": true
   },
   "outputs": [],
   "source": [
    "import pandas as pd\n",
    "import seaborn as sns\n",
    "import prophet\n",
    "import swifter\n",
    "from prophet import Prophet\n",
    "from tqdm import tqdm"
   ]
  },
  {
   "cell_type": "code",
   "execution_count": 2,
   "outputs": [],
   "source": [
    "df = pd.read_csv(\"/data/kaggle/tabular-playground-series-jan-2022/train.csv\")"
   ],
   "metadata": {
    "collapsed": false,
    "pycharm": {
     "name": "#%%\n"
    }
   }
  },
  {
   "cell_type": "code",
   "execution_count": 3,
   "outputs": [],
   "source": [
    "df_test = pd.read_csv(\"/data/kaggle/tabular-playground-series-jan-2022/test.csv\")"
   ],
   "metadata": {
    "collapsed": false,
    "pycharm": {
     "name": "#%%\n"
    }
   }
  },
  {
   "cell_type": "code",
   "execution_count": 4,
   "outputs": [
    {
     "data": {
      "text/plain": "   row_id        date  country       store         product  num_sold\n0       0  2015-01-01  Finland  KaggleMart      Kaggle Mug       329\n1       1  2015-01-01  Finland  KaggleMart      Kaggle Hat       520\n2       2  2015-01-01  Finland  KaggleMart  Kaggle Sticker       146\n3       3  2015-01-01  Finland  KaggleRama      Kaggle Mug       572\n4       4  2015-01-01  Finland  KaggleRama      Kaggle Hat       911",
      "text/html": "<div>\n<style scoped>\n    .dataframe tbody tr th:only-of-type {\n        vertical-align: middle;\n    }\n\n    .dataframe tbody tr th {\n        vertical-align: top;\n    }\n\n    .dataframe thead th {\n        text-align: right;\n    }\n</style>\n<table border=\"1\" class=\"dataframe\">\n  <thead>\n    <tr style=\"text-align: right;\">\n      <th></th>\n      <th>row_id</th>\n      <th>date</th>\n      <th>country</th>\n      <th>store</th>\n      <th>product</th>\n      <th>num_sold</th>\n    </tr>\n  </thead>\n  <tbody>\n    <tr>\n      <th>0</th>\n      <td>0</td>\n      <td>2015-01-01</td>\n      <td>Finland</td>\n      <td>KaggleMart</td>\n      <td>Kaggle Mug</td>\n      <td>329</td>\n    </tr>\n    <tr>\n      <th>1</th>\n      <td>1</td>\n      <td>2015-01-01</td>\n      <td>Finland</td>\n      <td>KaggleMart</td>\n      <td>Kaggle Hat</td>\n      <td>520</td>\n    </tr>\n    <tr>\n      <th>2</th>\n      <td>2</td>\n      <td>2015-01-01</td>\n      <td>Finland</td>\n      <td>KaggleMart</td>\n      <td>Kaggle Sticker</td>\n      <td>146</td>\n    </tr>\n    <tr>\n      <th>3</th>\n      <td>3</td>\n      <td>2015-01-01</td>\n      <td>Finland</td>\n      <td>KaggleRama</td>\n      <td>Kaggle Mug</td>\n      <td>572</td>\n    </tr>\n    <tr>\n      <th>4</th>\n      <td>4</td>\n      <td>2015-01-01</td>\n      <td>Finland</td>\n      <td>KaggleRama</td>\n      <td>Kaggle Hat</td>\n      <td>911</td>\n    </tr>\n  </tbody>\n</table>\n</div>"
     },
     "execution_count": 4,
     "metadata": {},
     "output_type": "execute_result"
    }
   ],
   "source": [
    "df.head()"
   ],
   "metadata": {
    "collapsed": false,
    "pycharm": {
     "name": "#%%\n"
    }
   }
  },
  {
   "cell_type": "markdown",
   "source": [
    "# preprocess"
   ],
   "metadata": {
    "collapsed": false,
    "pycharm": {
     "name": "#%% md\n"
    }
   }
  },
  {
   "cell_type": "markdown",
   "source": [
    "We link country, store, product together"
   ],
   "metadata": {
    "collapsed": false,
    "pycharm": {
     "name": "#%% md\n"
    }
   }
  },
  {
   "cell_type": "code",
   "execution_count": 5,
   "outputs": [],
   "source": [
    "def link_store(row):\n",
    "    sep = \"___\"\n",
    "    store_name = row[\"country\"] + sep + row[\"store\"] + sep + row[\"product\"].replace(\" \", \"x\")\n",
    "    row[\"store_name\"] = store_name\n",
    "    return row"
   ],
   "metadata": {
    "collapsed": false,
    "pycharm": {
     "name": "#%%\n"
    }
   }
  },
  {
   "cell_type": "code",
   "execution_count": 6,
   "outputs": [],
   "source": [
    "df_small = df.head()"
   ],
   "metadata": {
    "collapsed": false,
    "pycharm": {
     "name": "#%%\n"
    }
   }
  },
  {
   "cell_type": "code",
   "execution_count": 7,
   "outputs": [
    {
     "data": {
      "text/plain": "   row_id        date  country       store         product  num_sold  \\\n0       0  2015-01-01  Finland  KaggleMart      Kaggle Mug       329   \n1       1  2015-01-01  Finland  KaggleMart      Kaggle Hat       520   \n2       2  2015-01-01  Finland  KaggleMart  Kaggle Sticker       146   \n3       3  2015-01-01  Finland  KaggleRama      Kaggle Mug       572   \n4       4  2015-01-01  Finland  KaggleRama      Kaggle Hat       911   \n\n                              store_name  \n0      Finland___KaggleMart___KagglexMug  \n1      Finland___KaggleMart___KagglexHat  \n2  Finland___KaggleMart___KagglexSticker  \n3      Finland___KaggleRama___KagglexMug  \n4      Finland___KaggleRama___KagglexHat  ",
      "text/html": "<div>\n<style scoped>\n    .dataframe tbody tr th:only-of-type {\n        vertical-align: middle;\n    }\n\n    .dataframe tbody tr th {\n        vertical-align: top;\n    }\n\n    .dataframe thead th {\n        text-align: right;\n    }\n</style>\n<table border=\"1\" class=\"dataframe\">\n  <thead>\n    <tr style=\"text-align: right;\">\n      <th></th>\n      <th>row_id</th>\n      <th>date</th>\n      <th>country</th>\n      <th>store</th>\n      <th>product</th>\n      <th>num_sold</th>\n      <th>store_name</th>\n    </tr>\n  </thead>\n  <tbody>\n    <tr>\n      <th>0</th>\n      <td>0</td>\n      <td>2015-01-01</td>\n      <td>Finland</td>\n      <td>KaggleMart</td>\n      <td>Kaggle Mug</td>\n      <td>329</td>\n      <td>Finland___KaggleMart___KagglexMug</td>\n    </tr>\n    <tr>\n      <th>1</th>\n      <td>1</td>\n      <td>2015-01-01</td>\n      <td>Finland</td>\n      <td>KaggleMart</td>\n      <td>Kaggle Hat</td>\n      <td>520</td>\n      <td>Finland___KaggleMart___KagglexHat</td>\n    </tr>\n    <tr>\n      <th>2</th>\n      <td>2</td>\n      <td>2015-01-01</td>\n      <td>Finland</td>\n      <td>KaggleMart</td>\n      <td>Kaggle Sticker</td>\n      <td>146</td>\n      <td>Finland___KaggleMart___KagglexSticker</td>\n    </tr>\n    <tr>\n      <th>3</th>\n      <td>3</td>\n      <td>2015-01-01</td>\n      <td>Finland</td>\n      <td>KaggleRama</td>\n      <td>Kaggle Mug</td>\n      <td>572</td>\n      <td>Finland___KaggleRama___KagglexMug</td>\n    </tr>\n    <tr>\n      <th>4</th>\n      <td>4</td>\n      <td>2015-01-01</td>\n      <td>Finland</td>\n      <td>KaggleRama</td>\n      <td>Kaggle Hat</td>\n      <td>911</td>\n      <td>Finland___KaggleRama___KagglexHat</td>\n    </tr>\n  </tbody>\n</table>\n</div>"
     },
     "execution_count": 7,
     "metadata": {},
     "output_type": "execute_result"
    }
   ],
   "source": [
    "r1 = df_small.apply(link_store, axis=1)\n",
    "r1.head()"
   ],
   "metadata": {
    "collapsed": false,
    "pycharm": {
     "name": "#%%\n"
    }
   }
  },
  {
   "cell_type": "code",
   "execution_count": 8,
   "outputs": [],
   "source": [
    "df2 = df.swifter.apply(link_store, axis=1)"
   ],
   "metadata": {
    "collapsed": false,
    "pycharm": {
     "name": "#%%\n"
    }
   }
  },
  {
   "cell_type": "code",
   "execution_count": 9,
   "outputs": [
    {
     "data": {
      "text/plain": "   row_id        date  country       store         product  num_sold  \\\n0       0  2015-01-01  Finland  KaggleMart      Kaggle Mug       329   \n1       1  2015-01-01  Finland  KaggleMart      Kaggle Hat       520   \n2       2  2015-01-01  Finland  KaggleMart  Kaggle Sticker       146   \n3       3  2015-01-01  Finland  KaggleRama      Kaggle Mug       572   \n4       4  2015-01-01  Finland  KaggleRama      Kaggle Hat       911   \n\n                              store_name  \n0      Finland___KaggleMart___KagglexMug  \n1      Finland___KaggleMart___KagglexHat  \n2  Finland___KaggleMart___KagglexSticker  \n3      Finland___KaggleRama___KagglexMug  \n4      Finland___KaggleRama___KagglexHat  ",
      "text/html": "<div>\n<style scoped>\n    .dataframe tbody tr th:only-of-type {\n        vertical-align: middle;\n    }\n\n    .dataframe tbody tr th {\n        vertical-align: top;\n    }\n\n    .dataframe thead th {\n        text-align: right;\n    }\n</style>\n<table border=\"1\" class=\"dataframe\">\n  <thead>\n    <tr style=\"text-align: right;\">\n      <th></th>\n      <th>row_id</th>\n      <th>date</th>\n      <th>country</th>\n      <th>store</th>\n      <th>product</th>\n      <th>num_sold</th>\n      <th>store_name</th>\n    </tr>\n  </thead>\n  <tbody>\n    <tr>\n      <th>0</th>\n      <td>0</td>\n      <td>2015-01-01</td>\n      <td>Finland</td>\n      <td>KaggleMart</td>\n      <td>Kaggle Mug</td>\n      <td>329</td>\n      <td>Finland___KaggleMart___KagglexMug</td>\n    </tr>\n    <tr>\n      <th>1</th>\n      <td>1</td>\n      <td>2015-01-01</td>\n      <td>Finland</td>\n      <td>KaggleMart</td>\n      <td>Kaggle Hat</td>\n      <td>520</td>\n      <td>Finland___KaggleMart___KagglexHat</td>\n    </tr>\n    <tr>\n      <th>2</th>\n      <td>2</td>\n      <td>2015-01-01</td>\n      <td>Finland</td>\n      <td>KaggleMart</td>\n      <td>Kaggle Sticker</td>\n      <td>146</td>\n      <td>Finland___KaggleMart___KagglexSticker</td>\n    </tr>\n    <tr>\n      <th>3</th>\n      <td>3</td>\n      <td>2015-01-01</td>\n      <td>Finland</td>\n      <td>KaggleRama</td>\n      <td>Kaggle Mug</td>\n      <td>572</td>\n      <td>Finland___KaggleRama___KagglexMug</td>\n    </tr>\n    <tr>\n      <th>4</th>\n      <td>4</td>\n      <td>2015-01-01</td>\n      <td>Finland</td>\n      <td>KaggleRama</td>\n      <td>Kaggle Hat</td>\n      <td>911</td>\n      <td>Finland___KaggleRama___KagglexHat</td>\n    </tr>\n  </tbody>\n</table>\n</div>"
     },
     "execution_count": 9,
     "metadata": {},
     "output_type": "execute_result"
    }
   ],
   "source": [
    "df2.head()"
   ],
   "metadata": {
    "collapsed": false,
    "pycharm": {
     "name": "#%%\n"
    }
   }
  },
  {
   "cell_type": "code",
   "execution_count": 10,
   "outputs": [
    {
     "data": {
      "text/plain": "(26298, 7)"
     },
     "execution_count": 10,
     "metadata": {},
     "output_type": "execute_result"
    }
   ],
   "source": [
    "df2.shape"
   ],
   "metadata": {
    "collapsed": false,
    "pycharm": {
     "name": "#%%\n"
    }
   }
  },
  {
   "cell_type": "code",
   "execution_count": 11,
   "outputs": [],
   "source": [
    "df3 = df2[[\"row_id\", \"date\", \"store_name\", \"num_sold\"]]"
   ],
   "metadata": {
    "collapsed": false,
    "pycharm": {
     "name": "#%%\n"
    }
   }
  },
  {
   "cell_type": "code",
   "execution_count": 12,
   "outputs": [
    {
     "data": {
      "text/plain": "   row_id        date                             store_name  num_sold\n0       0  2015-01-01      Finland___KaggleMart___KagglexMug       329\n1       1  2015-01-01      Finland___KaggleMart___KagglexHat       520\n2       2  2015-01-01  Finland___KaggleMart___KagglexSticker       146\n3       3  2015-01-01      Finland___KaggleRama___KagglexMug       572\n4       4  2015-01-01      Finland___KaggleRama___KagglexHat       911",
      "text/html": "<div>\n<style scoped>\n    .dataframe tbody tr th:only-of-type {\n        vertical-align: middle;\n    }\n\n    .dataframe tbody tr th {\n        vertical-align: top;\n    }\n\n    .dataframe thead th {\n        text-align: right;\n    }\n</style>\n<table border=\"1\" class=\"dataframe\">\n  <thead>\n    <tr style=\"text-align: right;\">\n      <th></th>\n      <th>row_id</th>\n      <th>date</th>\n      <th>store_name</th>\n      <th>num_sold</th>\n    </tr>\n  </thead>\n  <tbody>\n    <tr>\n      <th>0</th>\n      <td>0</td>\n      <td>2015-01-01</td>\n      <td>Finland___KaggleMart___KagglexMug</td>\n      <td>329</td>\n    </tr>\n    <tr>\n      <th>1</th>\n      <td>1</td>\n      <td>2015-01-01</td>\n      <td>Finland___KaggleMart___KagglexHat</td>\n      <td>520</td>\n    </tr>\n    <tr>\n      <th>2</th>\n      <td>2</td>\n      <td>2015-01-01</td>\n      <td>Finland___KaggleMart___KagglexSticker</td>\n      <td>146</td>\n    </tr>\n    <tr>\n      <th>3</th>\n      <td>3</td>\n      <td>2015-01-01</td>\n      <td>Finland___KaggleRama___KagglexMug</td>\n      <td>572</td>\n    </tr>\n    <tr>\n      <th>4</th>\n      <td>4</td>\n      <td>2015-01-01</td>\n      <td>Finland___KaggleRama___KagglexHat</td>\n      <td>911</td>\n    </tr>\n  </tbody>\n</table>\n</div>"
     },
     "execution_count": 12,
     "metadata": {},
     "output_type": "execute_result"
    }
   ],
   "source": [
    "df3.head()"
   ],
   "metadata": {
    "collapsed": false,
    "pycharm": {
     "name": "#%%\n"
    }
   }
  },
  {
   "cell_type": "code",
   "execution_count": 13,
   "outputs": [],
   "source": [
    "df4 = df3[[\"date\", \"store_name\", \"num_sold\"]]"
   ],
   "metadata": {
    "collapsed": false,
    "pycharm": {
     "name": "#%%\n"
    }
   }
  },
  {
   "cell_type": "code",
   "execution_count": 14,
   "outputs": [
    {
     "data": {
      "text/plain": "         date                             store_name  num_sold\n0  2015-01-01      Finland___KaggleMart___KagglexMug       329\n1  2015-01-01      Finland___KaggleMart___KagglexHat       520\n2  2015-01-01  Finland___KaggleMart___KagglexSticker       146\n3  2015-01-01      Finland___KaggleRama___KagglexMug       572\n4  2015-01-01      Finland___KaggleRama___KagglexHat       911",
      "text/html": "<div>\n<style scoped>\n    .dataframe tbody tr th:only-of-type {\n        vertical-align: middle;\n    }\n\n    .dataframe tbody tr th {\n        vertical-align: top;\n    }\n\n    .dataframe thead th {\n        text-align: right;\n    }\n</style>\n<table border=\"1\" class=\"dataframe\">\n  <thead>\n    <tr style=\"text-align: right;\">\n      <th></th>\n      <th>date</th>\n      <th>store_name</th>\n      <th>num_sold</th>\n    </tr>\n  </thead>\n  <tbody>\n    <tr>\n      <th>0</th>\n      <td>2015-01-01</td>\n      <td>Finland___KaggleMart___KagglexMug</td>\n      <td>329</td>\n    </tr>\n    <tr>\n      <th>1</th>\n      <td>2015-01-01</td>\n      <td>Finland___KaggleMart___KagglexHat</td>\n      <td>520</td>\n    </tr>\n    <tr>\n      <th>2</th>\n      <td>2015-01-01</td>\n      <td>Finland___KaggleMart___KagglexSticker</td>\n      <td>146</td>\n    </tr>\n    <tr>\n      <th>3</th>\n      <td>2015-01-01</td>\n      <td>Finland___KaggleRama___KagglexMug</td>\n      <td>572</td>\n    </tr>\n    <tr>\n      <th>4</th>\n      <td>2015-01-01</td>\n      <td>Finland___KaggleRama___KagglexHat</td>\n      <td>911</td>\n    </tr>\n  </tbody>\n</table>\n</div>"
     },
     "execution_count": 14,
     "metadata": {},
     "output_type": "execute_result"
    }
   ],
   "source": [
    "df4.head()"
   ],
   "metadata": {
    "collapsed": false,
    "pycharm": {
     "name": "#%%\n"
    }
   }
  },
  {
   "cell_type": "code",
   "execution_count": 15,
   "outputs": [],
   "source": [
    "df_pivot1 = pd.pivot_table(df4, index=\"date\", columns=\"store_name\", values=\"num_sold\")"
   ],
   "metadata": {
    "collapsed": false,
    "pycharm": {
     "name": "#%%\n"
    }
   }
  },
  {
   "cell_type": "code",
   "execution_count": 16,
   "outputs": [
    {
     "data": {
      "text/plain": "store_name  Finland___KaggleMart___KagglexHat  \\\ndate                                            \n2015-01-01                                520   \n2015-01-02                                493   \n2015-01-03                                535   \n2015-01-04                                544   \n2015-01-05                                378   \n\nstore_name  Finland___KaggleMart___KagglexMug  \\\ndate                                            \n2015-01-01                                329   \n2015-01-02                                318   \n2015-01-03                                360   \n2015-01-04                                332   \n2015-01-05                                243   \n\nstore_name  Finland___KaggleMart___KagglexSticker  \\\ndate                                                \n2015-01-01                                    146   \n2015-01-02                                    127   \n2015-01-03                                    141   \n2015-01-04                                    125   \n2015-01-05                                    102   \n\nstore_name  Finland___KaggleRama___KagglexHat  \\\ndate                                            \n2015-01-01                                911   \n2015-01-02                                794   \n2015-01-03                                843   \n2015-01-04                                873   \n2015-01-05                                668   \n\nstore_name  Finland___KaggleRama___KagglexMug  \\\ndate                                            \n2015-01-01                                572   \n2015-01-02                                544   \n2015-01-03                                579   \n2015-01-04                                582   \n2015-01-05                                423   \n\nstore_name  Finland___KaggleRama___KagglexSticker  \\\ndate                                                \n2015-01-01                                    283   \n2015-01-02                                    249   \n2015-01-03                                    265   \n2015-01-04                                    245   \n2015-01-05                                    187   \n\nstore_name  Norway___KaggleMart___KagglexHat  \\\ndate                                           \n2015-01-01                               906   \n2015-01-02                               845   \n2015-01-03                               930   \n2015-01-04                               889   \n2015-01-05                               671   \n\nstore_name  Norway___KaggleMart___KagglexMug  \\\ndate                                           \n2015-01-01                               526   \n2015-01-02                               538   \n2015-01-03                               614   \n2015-01-04                               589   \n2015-01-05                               435   \n\nstore_name  Norway___KaggleMart___KagglexSticker  \\\ndate                                               \n2015-01-01                                   250   \n2015-01-02                                   237   \n2015-01-03                                   254   \n2015-01-04                                   255   \n2015-01-05                                   184   \n\nstore_name  Norway___KaggleRama___KagglexHat  \\\ndate                                           \n2015-01-01                              1461   \n2015-01-02                              1446   \n2015-01-03                              1631   \n2015-01-04                              1540   \n2015-01-05                              1126   \n\nstore_name  Norway___KaggleRama___KagglexMug  \\\ndate                                           \n2015-01-01                              1005   \n2015-01-02                               949   \n2015-01-03                              1029   \n2015-01-04                               957   \n2015-01-05                               739   \n\nstore_name  Norway___KaggleRama___KagglexSticker  \\\ndate                                               \n2015-01-01                                   395   \n2015-01-02                                   415   \n2015-01-03                                   451   \n2015-01-04                                   455   \n2015-01-05                                   310   \n\nstore_name  Sweden___KaggleMart___KagglexHat  \\\ndate                                           \n2015-01-01                               624   \n2015-01-02                               572   \n2015-01-03                               630   \n2015-01-04                               697   \n2015-01-05                               442   \n\nstore_name  Sweden___KaggleMart___KagglexMug  \\\ndate                                           \n2015-01-01                               440   \n2015-01-02                               384   \n2015-01-03                               420   \n2015-01-04                               406   \n2015-01-05                               298   \n\nstore_name  Sweden___KaggleMart___KagglexSticker  \\\ndate                                               \n2015-01-01                                   175   \n2015-01-02                                   155   \n2015-01-03                                   173   \n2015-01-04                                   169   \n2015-01-05                                   127   \n\nstore_name  Sweden___KaggleRama___KagglexHat  \\\ndate                                           \n2015-01-01                              1195   \n2015-01-02                               986   \n2015-01-03                              1167   \n2015-01-04                              1112   \n2015-01-05                               796   \n\nstore_name  Sweden___KaggleRama___KagglexMug  \\\ndate                                           \n2015-01-01                               706   \n2015-01-02                               653   \n2015-01-03                               734   \n2015-01-04                               657   \n2015-01-05                               512   \n\nstore_name  Sweden___KaggleRama___KagglexSticker  \ndate                                              \n2015-01-01                                   324  \n2015-01-02                                   293  \n2015-01-03                                   319  \n2015-01-04                                   300  \n2015-01-05                                   227  ",
      "text/html": "<div>\n<style scoped>\n    .dataframe tbody tr th:only-of-type {\n        vertical-align: middle;\n    }\n\n    .dataframe tbody tr th {\n        vertical-align: top;\n    }\n\n    .dataframe thead th {\n        text-align: right;\n    }\n</style>\n<table border=\"1\" class=\"dataframe\">\n  <thead>\n    <tr style=\"text-align: right;\">\n      <th>store_name</th>\n      <th>Finland___KaggleMart___KagglexHat</th>\n      <th>Finland___KaggleMart___KagglexMug</th>\n      <th>Finland___KaggleMart___KagglexSticker</th>\n      <th>Finland___KaggleRama___KagglexHat</th>\n      <th>Finland___KaggleRama___KagglexMug</th>\n      <th>Finland___KaggleRama___KagglexSticker</th>\n      <th>Norway___KaggleMart___KagglexHat</th>\n      <th>Norway___KaggleMart___KagglexMug</th>\n      <th>Norway___KaggleMart___KagglexSticker</th>\n      <th>Norway___KaggleRama___KagglexHat</th>\n      <th>Norway___KaggleRama___KagglexMug</th>\n      <th>Norway___KaggleRama___KagglexSticker</th>\n      <th>Sweden___KaggleMart___KagglexHat</th>\n      <th>Sweden___KaggleMart___KagglexMug</th>\n      <th>Sweden___KaggleMart___KagglexSticker</th>\n      <th>Sweden___KaggleRama___KagglexHat</th>\n      <th>Sweden___KaggleRama___KagglexMug</th>\n      <th>Sweden___KaggleRama___KagglexSticker</th>\n    </tr>\n    <tr>\n      <th>date</th>\n      <th></th>\n      <th></th>\n      <th></th>\n      <th></th>\n      <th></th>\n      <th></th>\n      <th></th>\n      <th></th>\n      <th></th>\n      <th></th>\n      <th></th>\n      <th></th>\n      <th></th>\n      <th></th>\n      <th></th>\n      <th></th>\n      <th></th>\n      <th></th>\n    </tr>\n  </thead>\n  <tbody>\n    <tr>\n      <th>2015-01-01</th>\n      <td>520</td>\n      <td>329</td>\n      <td>146</td>\n      <td>911</td>\n      <td>572</td>\n      <td>283</td>\n      <td>906</td>\n      <td>526</td>\n      <td>250</td>\n      <td>1461</td>\n      <td>1005</td>\n      <td>395</td>\n      <td>624</td>\n      <td>440</td>\n      <td>175</td>\n      <td>1195</td>\n      <td>706</td>\n      <td>324</td>\n    </tr>\n    <tr>\n      <th>2015-01-02</th>\n      <td>493</td>\n      <td>318</td>\n      <td>127</td>\n      <td>794</td>\n      <td>544</td>\n      <td>249</td>\n      <td>845</td>\n      <td>538</td>\n      <td>237</td>\n      <td>1446</td>\n      <td>949</td>\n      <td>415</td>\n      <td>572</td>\n      <td>384</td>\n      <td>155</td>\n      <td>986</td>\n      <td>653</td>\n      <td>293</td>\n    </tr>\n    <tr>\n      <th>2015-01-03</th>\n      <td>535</td>\n      <td>360</td>\n      <td>141</td>\n      <td>843</td>\n      <td>579</td>\n      <td>265</td>\n      <td>930</td>\n      <td>614</td>\n      <td>254</td>\n      <td>1631</td>\n      <td>1029</td>\n      <td>451</td>\n      <td>630</td>\n      <td>420</td>\n      <td>173</td>\n      <td>1167</td>\n      <td>734</td>\n      <td>319</td>\n    </tr>\n    <tr>\n      <th>2015-01-04</th>\n      <td>544</td>\n      <td>332</td>\n      <td>125</td>\n      <td>873</td>\n      <td>582</td>\n      <td>245</td>\n      <td>889</td>\n      <td>589</td>\n      <td>255</td>\n      <td>1540</td>\n      <td>957</td>\n      <td>455</td>\n      <td>697</td>\n      <td>406</td>\n      <td>169</td>\n      <td>1112</td>\n      <td>657</td>\n      <td>300</td>\n    </tr>\n    <tr>\n      <th>2015-01-05</th>\n      <td>378</td>\n      <td>243</td>\n      <td>102</td>\n      <td>668</td>\n      <td>423</td>\n      <td>187</td>\n      <td>671</td>\n      <td>435</td>\n      <td>184</td>\n      <td>1126</td>\n      <td>739</td>\n      <td>310</td>\n      <td>442</td>\n      <td>298</td>\n      <td>127</td>\n      <td>796</td>\n      <td>512</td>\n      <td>227</td>\n    </tr>\n  </tbody>\n</table>\n</div>"
     },
     "execution_count": 16,
     "metadata": {},
     "output_type": "execute_result"
    }
   ],
   "source": [
    "df_pivot1.head()"
   ],
   "metadata": {
    "collapsed": false,
    "pycharm": {
     "name": "#%%\n"
    }
   }
  },
  {
   "cell_type": "markdown",
   "source": [
    "# 2. model"
   ],
   "metadata": {
    "collapsed": false,
    "pycharm": {
     "name": "#%% md\n"
    }
   }
  },
  {
   "cell_type": "code",
   "execution_count": 17,
   "outputs": [],
   "source": [
    "m = Prophet()"
   ],
   "metadata": {
    "collapsed": false,
    "pycharm": {
     "name": "#%%\n"
    }
   }
  },
  {
   "cell_type": "code",
   "execution_count": 18,
   "outputs": [
    {
     "data": {
      "text/plain": "['Finland___KaggleMart___KagglexHat',\n 'Finland___KaggleMart___KagglexMug',\n 'Finland___KaggleMart___KagglexSticker',\n 'Finland___KaggleRama___KagglexHat',\n 'Finland___KaggleRama___KagglexMug',\n 'Finland___KaggleRama___KagglexSticker',\n 'Norway___KaggleMart___KagglexHat',\n 'Norway___KaggleMart___KagglexMug',\n 'Norway___KaggleMart___KagglexSticker',\n 'Norway___KaggleRama___KagglexHat',\n 'Norway___KaggleRama___KagglexMug',\n 'Norway___KaggleRama___KagglexSticker',\n 'Sweden___KaggleMart___KagglexHat',\n 'Sweden___KaggleMart___KagglexMug',\n 'Sweden___KaggleMart___KagglexSticker',\n 'Sweden___KaggleRama___KagglexHat',\n 'Sweden___KaggleRama___KagglexMug',\n 'Sweden___KaggleRama___KagglexSticker']"
     },
     "execution_count": 18,
     "metadata": {},
     "output_type": "execute_result"
    }
   ],
   "source": [
    "list(df_pivot1.columns)"
   ],
   "metadata": {
    "collapsed": false,
    "pycharm": {
     "name": "#%%\n"
    }
   }
  },
  {
   "cell_type": "code",
   "execution_count": 19,
   "outputs": [
    {
     "data": {
      "text/plain": "Index(['2015-01-01', '2015-01-02', '2015-01-03', '2015-01-04', '2015-01-05',\n       '2015-01-06', '2015-01-07', '2015-01-08', '2015-01-09', '2015-01-10',\n       ...\n       '2018-12-22', '2018-12-23', '2018-12-24', '2018-12-25', '2018-12-26',\n       '2018-12-27', '2018-12-28', '2018-12-29', '2018-12-30', '2018-12-31'],\n      dtype='object', name='date', length=1461)"
     },
     "execution_count": 19,
     "metadata": {},
     "output_type": "execute_result"
    }
   ],
   "source": [
    "df_pivot1.index"
   ],
   "metadata": {
    "collapsed": false,
    "pycharm": {
     "name": "#%%\n"
    }
   }
  },
  {
   "cell_type": "code",
   "execution_count": 20,
   "outputs": [],
   "source": [
    "df_sample = pd.DataFrame(data={\"ds\": df_pivot1.index, \"y\": df_pivot1[\"Finland___KaggleMart___KagglexHat\"]})"
   ],
   "metadata": {
    "collapsed": false,
    "pycharm": {
     "name": "#%%\n"
    }
   }
  },
  {
   "cell_type": "code",
   "execution_count": 21,
   "outputs": [
    {
     "data": {
      "text/plain": "<prophet.forecaster.Prophet at 0x7f97519373d0>"
     },
     "execution_count": 21,
     "metadata": {},
     "output_type": "execute_result"
    }
   ],
   "source": [
    "m.fit(df_sample)"
   ],
   "metadata": {
    "collapsed": false,
    "pycharm": {
     "name": "#%%\n"
    }
   }
  },
  {
   "cell_type": "code",
   "execution_count": 22,
   "outputs": [
    {
     "data": {
      "text/plain": "          ds\n0 2015-01-01\n1 2015-01-02\n2 2015-01-03\n3 2015-01-04\n4 2015-01-05",
      "text/html": "<div>\n<style scoped>\n    .dataframe tbody tr th:only-of-type {\n        vertical-align: middle;\n    }\n\n    .dataframe tbody tr th {\n        vertical-align: top;\n    }\n\n    .dataframe thead th {\n        text-align: right;\n    }\n</style>\n<table border=\"1\" class=\"dataframe\">\n  <thead>\n    <tr style=\"text-align: right;\">\n      <th></th>\n      <th>ds</th>\n    </tr>\n  </thead>\n  <tbody>\n    <tr>\n      <th>0</th>\n      <td>2015-01-01</td>\n    </tr>\n    <tr>\n      <th>1</th>\n      <td>2015-01-02</td>\n    </tr>\n    <tr>\n      <th>2</th>\n      <td>2015-01-03</td>\n    </tr>\n    <tr>\n      <th>3</th>\n      <td>2015-01-04</td>\n    </tr>\n    <tr>\n      <th>4</th>\n      <td>2015-01-05</td>\n    </tr>\n  </tbody>\n</table>\n</div>"
     },
     "execution_count": 22,
     "metadata": {},
     "output_type": "execute_result"
    }
   ],
   "source": [
    "future = m.make_future_dataframe(periods=365)\n",
    "future.head()"
   ],
   "metadata": {
    "collapsed": false,
    "pycharm": {
     "name": "#%%\n"
    }
   }
  },
  {
   "cell_type": "code",
   "execution_count": 23,
   "outputs": [],
   "source": [
    "df_test_date = df_test[[\"date\"]]\n",
    "df_test_date.columns = [\"ds\"]"
   ],
   "metadata": {
    "collapsed": false,
    "pycharm": {
     "name": "#%%\n"
    }
   }
  },
  {
   "cell_type": "code",
   "execution_count": 24,
   "outputs": [],
   "source": [
    "df_forecast = m.predict(df_test_date)"
   ],
   "metadata": {
    "collapsed": false,
    "pycharm": {
     "name": "#%%\n"
    }
   }
  },
  {
   "cell_type": "code",
   "execution_count": 25,
   "outputs": [
    {
     "data": {
      "text/plain": "<Figure size 720x432 with 1 Axes>",
      "image/png": "[encoded data removed]"
     },
     "metadata": {},
     "output_type": "display_data"
    }
   ],
   "source": [
    "fig1 = m.plot(df_forecast)"
   ],
   "metadata": {
    "collapsed": false,
    "pycharm": {
     "name": "#%%\n"
    }
   }
  },
  {
   "cell_type": "markdown",
   "source": [
    "## 2.1 Loop"
   ],
   "metadata": {
    "collapsed": false,
    "pycharm": {
     "name": "#%% md\n"
    }
   }
  },
  {
   "cell_type": "code",
   "execution_count": 26,
   "outputs": [],
   "source": [
    "model_dict = {}\n",
    "train_dict = {}\n",
    "forcase_dict = {}"
   ],
   "metadata": {
    "collapsed": false,
    "pycharm": {
     "name": "#%%\n"
    }
   }
  },
  {
   "cell_type": "code",
   "execution_count": 26,
   "outputs": [],
   "source": [],
   "metadata": {
    "collapsed": false,
    "pycharm": {
     "name": "#%%\n"
    }
   }
  },
  {
   "cell_type": "code",
   "execution_count": 27,
   "outputs": [],
   "source": [
    "store_name = \"Finland___KaggleMart___KagglexHat\""
   ],
   "metadata": {
    "collapsed": false,
    "pycharm": {
     "name": "#%%\n"
    }
   }
  },
  {
   "cell_type": "code",
   "execution_count": 28,
   "outputs": [],
   "source": [
    "df_test_date = df_test[[\"date\"]]\n",
    "df_test_date.columns = [\"ds\"]"
   ],
   "metadata": {
    "collapsed": false,
    "pycharm": {
     "name": "#%%\n"
    }
   }
  },
  {
   "cell_type": "code",
   "execution_count": 29,
   "outputs": [],
   "source": [
    "df_process = pd.DataFrame(data={\"ds\": df_pivot1.index, \"y\": df_pivot1[store_name]})\n",
    "model = Prophet()\n",
    "model.fit(df_process)\n",
    "df_test_date = df_test[[\"date\"]]\n",
    "df_test_date.columns = [\"ds\"]\n",
    "df_forecast = m.predict(df_test_date)"
   ],
   "metadata": {
    "collapsed": false,
    "pycharm": {
     "name": "#%%\n"
    }
   }
  },
  {
   "cell_type": "code",
   "execution_count": 30,
   "outputs": [],
   "source": [
    "def process_a_store(store_name, model_dict, train_dict, forcase_dict):\n",
    "    df_process = pd.DataFrame(data={\"ds\": df_pivot1.index, \"y\": df_pivot1[store_name]})\n",
    "    model = Prophet()\n",
    "    model.fit(df_process)\n",
    "    df_test_date = df_test[[\"date\"]].drop_duplicates().reset_index().drop(\"index\", axis=1)\n",
    "    df_test_date.columns = [\"ds\"]\n",
    "    df_forecast = model.predict(df_test_date)\n",
    "    model_dict[store_name] = model\n",
    "    train_dict[store_name] = df_process\n",
    "    forcase_dict[store_name] = df_forecast\n",
    "    return df_forecast"
   ],
   "metadata": {
    "collapsed": false,
    "pycharm": {
     "name": "#%%\n"
    }
   }
  },
  {
   "cell_type": "code",
   "execution_count": 31,
   "outputs": [
    {
     "data": {
      "text/plain": "['Finland___KaggleMart___KagglexHat',\n 'Finland___KaggleMart___KagglexMug',\n 'Finland___KaggleMart___KagglexSticker',\n 'Finland___KaggleRama___KagglexHat',\n 'Finland___KaggleRama___KagglexMug',\n 'Finland___KaggleRama___KagglexSticker',\n 'Norway___KaggleMart___KagglexHat',\n 'Norway___KaggleMart___KagglexMug',\n 'Norway___KaggleMart___KagglexSticker',\n 'Norway___KaggleRama___KagglexHat',\n 'Norway___KaggleRama___KagglexMug',\n 'Norway___KaggleRama___KagglexSticker',\n 'Sweden___KaggleMart___KagglexHat',\n 'Sweden___KaggleMart___KagglexMug',\n 'Sweden___KaggleMart___KagglexSticker',\n 'Sweden___KaggleRama___KagglexHat',\n 'Sweden___KaggleRama___KagglexMug',\n 'Sweden___KaggleRama___KagglexSticker']"
     },
     "execution_count": 31,
     "metadata": {},
     "output_type": "execute_result"
    }
   ],
   "source": [
    "store_list = list(df_pivot1.columns)\n",
    "store_list"
   ],
   "metadata": {
    "collapsed": false,
    "pycharm": {
     "name": "#%%\n"
    }
   }
  },
  {
   "cell_type": "code",
   "execution_count": 32,
   "outputs": [
    {
     "name": "stderr",
     "output_type": "stream",
     "text": [
      "  6%|▌         | 1/18 [00:02<00:46,  2.75s/it]"
     ]
    },
    {
     "name": "stdout",
     "output_type": "stream",
     "text": [
      "done with  Finland___KaggleMart___KagglexHat\n"
     ]
    },
    {
     "name": "stderr",
     "output_type": "stream",
     "text": [
      " 11%|█         | 2/18 [00:05<00:41,  2.60s/it]"
     ]
    },
    {
     "name": "stdout",
     "output_type": "stream",
     "text": [
      "done with  Finland___KaggleMart___KagglexMug\n"
     ]
    },
    {
     "name": "stderr",
     "output_type": "stream",
     "text": [
      " 17%|█▋        | 3/18 [00:07<00:37,  2.51s/it]"
     ]
    },
    {
     "name": "stdout",
     "output_type": "stream",
     "text": [
      "done with  Finland___KaggleMart___KagglexSticker\n"
     ]
    },
    {
     "name": "stderr",
     "output_type": "stream",
     "text": [
      " 22%|██▏       | 4/18 [00:10<00:34,  2.47s/it]"
     ]
    },
    {
     "name": "stdout",
     "output_type": "stream",
     "text": [
      "done with  Finland___KaggleRama___KagglexHat\n"
     ]
    },
    {
     "name": "stderr",
     "output_type": "stream",
     "text": [
      " 28%|██▊       | 5/18 [00:12<00:31,  2.43s/it]"
     ]
    },
    {
     "name": "stdout",
     "output_type": "stream",
     "text": [
      "done with  Finland___KaggleRama___KagglexMug\n"
     ]
    },
    {
     "name": "stderr",
     "output_type": "stream",
     "text": [
      " 33%|███▎      | 6/18 [00:14<00:28,  2.40s/it]"
     ]
    },
    {
     "name": "stdout",
     "output_type": "stream",
     "text": [
      "done with  Finland___KaggleRama___KagglexSticker\n"
     ]
    },
    {
     "name": "stderr",
     "output_type": "stream",
     "text": [
      " 39%|███▉      | 7/18 [00:17<00:26,  2.41s/it]"
     ]
    },
    {
     "name": "stdout",
     "output_type": "stream",
     "text": [
      "done with  Norway___KaggleMart___KagglexHat\n"
     ]
    },
    {
     "name": "stderr",
     "output_type": "stream",
     "text": [
      " 44%|████▍     | 8/18 [00:19<00:23,  2.37s/it]"
     ]
    },
    {
     "name": "stdout",
     "output_type": "stream",
     "text": [
      "done with  Norway___KaggleMart___KagglexMug\n"
     ]
    },
    {
     "name": "stderr",
     "output_type": "stream",
     "text": [
      " 50%|█████     | 9/18 [00:22<00:21,  2.42s/it]"
     ]
    },
    {
     "name": "stdout",
     "output_type": "stream",
     "text": [
      "done with  Norway___KaggleMart___KagglexSticker\n"
     ]
    },
    {
     "name": "stderr",
     "output_type": "stream",
     "text": [
      " 56%|█████▌    | 10/18 [00:24<00:19,  2.39s/it]"
     ]
    },
    {
     "name": "stdout",
     "output_type": "stream",
     "text": [
      "done with  Norway___KaggleRama___KagglexHat\n"
     ]
    },
    {
     "name": "stderr",
     "output_type": "stream",
     "text": [
      " 61%|██████    | 11/18 [00:26<00:16,  2.39s/it]"
     ]
    },
    {
     "name": "stdout",
     "output_type": "stream",
     "text": [
      "done with  Norway___KaggleRama___KagglexMug\n"
     ]
    },
    {
     "name": "stderr",
     "output_type": "stream",
     "text": [
      " 67%|██████▋   | 12/18 [00:29<00:14,  2.40s/it]"
     ]
    },
    {
     "name": "stdout",
     "output_type": "stream",
     "text": [
      "done with  Norway___KaggleRama___KagglexSticker\n"
     ]
    },
    {
     "name": "stderr",
     "output_type": "stream",
     "text": [
      " 72%|███████▏  | 13/18 [00:31<00:11,  2.34s/it]"
     ]
    },
    {
     "name": "stdout",
     "output_type": "stream",
     "text": [
      "done with  Sweden___KaggleMart___KagglexHat\n"
     ]
    },
    {
     "name": "stderr",
     "output_type": "stream",
     "text": [
      " 78%|███████▊  | 14/18 [00:33<00:09,  2.35s/it]"
     ]
    },
    {
     "name": "stdout",
     "output_type": "stream",
     "text": [
      "done with  Sweden___KaggleMart___KagglexMug\n"
     ]
    },
    {
     "name": "stderr",
     "output_type": "stream",
     "text": [
      " 83%|████████▎ | 15/18 [00:36<00:07,  2.41s/it]"
     ]
    },
    {
     "name": "stdout",
     "output_type": "stream",
     "text": [
      "done with  Sweden___KaggleMart___KagglexSticker\n"
     ]
    },
    {
     "name": "stderr",
     "output_type": "stream",
     "text": [
      " 89%|████████▉ | 16/18 [00:38<00:04,  2.38s/it]"
     ]
    },
    {
     "name": "stdout",
     "output_type": "stream",
     "text": [
      "done with  Sweden___KaggleRama___KagglexHat\n"
     ]
    },
    {
     "name": "stderr",
     "output_type": "stream",
     "text": [
      " 94%|█████████▍| 17/18 [00:40<00:02,  2.37s/it]"
     ]
    },
    {
     "name": "stdout",
     "output_type": "stream",
     "text": [
      "done with  Sweden___KaggleRama___KagglexMug\n"
     ]
    },
    {
     "name": "stderr",
     "output_type": "stream",
     "text": [
      "100%|██████████| 18/18 [00:43<00:00,  2.40s/it]"
     ]
    },
    {
     "name": "stdout",
     "output_type": "stream",
     "text": [
      "done with  Sweden___KaggleRama___KagglexSticker\n"
     ]
    },
    {
     "name": "stderr",
     "output_type": "stream",
     "text": [
      "\n"
     ]
    }
   ],
   "source": [
    "model_dict = {}\n",
    "train_dict = {}\n",
    "forcase_dict = {}\n",
    "for store_name in tqdm(store_list):\n",
    "    process_a_store(store_name, model_dict, train_dict, forcase_dict)\n",
    "    print(\"done with \", store_name)"
   ],
   "metadata": {
    "collapsed": false,
    "pycharm": {
     "name": "#%%\n"
    }
   }
  },
  {
   "cell_type": "code",
   "execution_count": 33,
   "outputs": [
    {
     "data": {
      "text/plain": "(365, 19)"
     },
     "execution_count": 33,
     "metadata": {},
     "output_type": "execute_result"
    }
   ],
   "source": [
    "forcase_dict[\"Finland___KaggleMart___KagglexHat\"].shape"
   ],
   "metadata": {
    "collapsed": false,
    "pycharm": {
     "name": "#%%\n"
    }
   }
  },
  {
   "cell_type": "code",
   "execution_count": 34,
   "outputs": [
    {
     "data": {
      "text/plain": "(365, 1)"
     },
     "execution_count": 34,
     "metadata": {},
     "output_type": "execute_result"
    }
   ],
   "source": [
    "df_test_prepare = df_test[[\"date\"]].drop_duplicates()\n",
    "df_test_prepare.shape"
   ],
   "metadata": {
    "collapsed": false,
    "pycharm": {
     "name": "#%%\n"
    }
   }
  },
  {
   "cell_type": "code",
   "execution_count": 35,
   "outputs": [
    {
     "name": "stderr",
     "output_type": "stream",
     "text": [
      "100%|██████████| 18/18 [00:00<00:00, 255.98it/s]\n"
     ]
    }
   ],
   "source": [
    "df_test_list = []\n",
    "for store_name in tqdm(store_list):\n",
    "    df_test_prepare = df_test[[\"date\"]].drop_duplicates().reset_index().drop(\"index\", axis=1)\n",
    "    df_test_prepare[\"num_sold\"] = forcase_dict[store_name][\"yhat\"]\n",
    "    df_test_prepare[\"store_name\"] = store_name\n",
    "    df_test_list.append(df_test_prepare)"
   ],
   "metadata": {
    "collapsed": false,
    "pycharm": {
     "name": "#%%\n"
    }
   }
  },
  {
   "cell_type": "code",
   "execution_count": 36,
   "outputs": [
    {
     "data": {
      "text/plain": "         date    num_sold                         store_name\n0  2019-01-01  548.151102  Finland___KaggleMart___KagglexHat\n1  2019-01-02  550.165233  Finland___KaggleMart___KagglexHat\n2  2019-01-03  547.575335  Finland___KaggleMart___KagglexHat\n3  2019-01-04  562.405910  Finland___KaggleMart___KagglexHat\n4  2019-01-05  626.498677  Finland___KaggleMart___KagglexHat",
      "text/html": "<div>\n<style scoped>\n    .dataframe tbody tr th:only-of-type {\n        vertical-align: middle;\n    }\n\n    .dataframe tbody tr th {\n        vertical-align: top;\n    }\n\n    .dataframe thead th {\n        text-align: right;\n    }\n</style>\n<table border=\"1\" class=\"dataframe\">\n  <thead>\n    <tr style=\"text-align: right;\">\n      <th></th>\n      <th>date</th>\n      <th>num_sold</th>\n      <th>store_name</th>\n    </tr>\n  </thead>\n  <tbody>\n    <tr>\n      <th>0</th>\n      <td>2019-01-01</td>\n      <td>548.151102</td>\n      <td>Finland___KaggleMart___KagglexHat</td>\n    </tr>\n    <tr>\n      <th>1</th>\n      <td>2019-01-02</td>\n      <td>550.165233</td>\n      <td>Finland___KaggleMart___KagglexHat</td>\n    </tr>\n    <tr>\n      <th>2</th>\n      <td>2019-01-03</td>\n      <td>547.575335</td>\n      <td>Finland___KaggleMart___KagglexHat</td>\n    </tr>\n    <tr>\n      <th>3</th>\n      <td>2019-01-04</td>\n      <td>562.405910</td>\n      <td>Finland___KaggleMart___KagglexHat</td>\n    </tr>\n    <tr>\n      <th>4</th>\n      <td>2019-01-05</td>\n      <td>626.498677</td>\n      <td>Finland___KaggleMart___KagglexHat</td>\n    </tr>\n  </tbody>\n</table>\n</div>"
     },
     "execution_count": 36,
     "metadata": {},
     "output_type": "execute_result"
    }
   ],
   "source": [
    "df_test_list[0].head()"
   ],
   "metadata": {
    "collapsed": false,
    "pycharm": {
     "name": "#%%\n"
    }
   }
  },
  {
   "cell_type": "code",
   "execution_count": 37,
   "outputs": [],
   "source": [
    "df_test_prepare1 = pd.concat(df_test_list)"
   ],
   "metadata": {
    "collapsed": false,
    "pycharm": {
     "name": "#%%\n"
    }
   }
  },
  {
   "cell_type": "code",
   "execution_count": 38,
   "outputs": [
    {
     "data": {
      "text/plain": "(6570, 3)"
     },
     "execution_count": 38,
     "metadata": {},
     "output_type": "execute_result"
    }
   ],
   "source": [
    "df_test_prepare1.shape"
   ],
   "metadata": {
    "collapsed": false,
    "pycharm": {
     "name": "#%%\n"
    }
   }
  },
  {
   "cell_type": "code",
   "execution_count": 39,
   "outputs": [
    {
     "data": {
      "text/plain": "(6570, 5)"
     },
     "execution_count": 39,
     "metadata": {},
     "output_type": "execute_result"
    }
   ],
   "source": [
    "df_test.shape"
   ],
   "metadata": {
    "collapsed": false,
    "pycharm": {
     "name": "#%%\n"
    }
   }
  },
  {
   "cell_type": "code",
   "execution_count": 40,
   "outputs": [
    {
     "data": {
      "text/plain": "   row_id        date  country       store         product\n0   26298  2019-01-01  Finland  KaggleMart      Kaggle Mug\n1   26299  2019-01-01  Finland  KaggleMart      Kaggle Hat\n2   26300  2019-01-01  Finland  KaggleMart  Kaggle Sticker\n3   26301  2019-01-01  Finland  KaggleRama      Kaggle Mug\n4   26302  2019-01-01  Finland  KaggleRama      Kaggle Hat",
      "text/html": "<div>\n<style scoped>\n    .dataframe tbody tr th:only-of-type {\n        vertical-align: middle;\n    }\n\n    .dataframe tbody tr th {\n        vertical-align: top;\n    }\n\n    .dataframe thead th {\n        text-align: right;\n    }\n</style>\n<table border=\"1\" class=\"dataframe\">\n  <thead>\n    <tr style=\"text-align: right;\">\n      <th></th>\n      <th>row_id</th>\n      <th>date</th>\n      <th>country</th>\n      <th>store</th>\n      <th>product</th>\n    </tr>\n  </thead>\n  <tbody>\n    <tr>\n      <th>0</th>\n      <td>26298</td>\n      <td>2019-01-01</td>\n      <td>Finland</td>\n      <td>KaggleMart</td>\n      <td>Kaggle Mug</td>\n    </tr>\n    <tr>\n      <th>1</th>\n      <td>26299</td>\n      <td>2019-01-01</td>\n      <td>Finland</td>\n      <td>KaggleMart</td>\n      <td>Kaggle Hat</td>\n    </tr>\n    <tr>\n      <th>2</th>\n      <td>26300</td>\n      <td>2019-01-01</td>\n      <td>Finland</td>\n      <td>KaggleMart</td>\n      <td>Kaggle Sticker</td>\n    </tr>\n    <tr>\n      <th>3</th>\n      <td>26301</td>\n      <td>2019-01-01</td>\n      <td>Finland</td>\n      <td>KaggleRama</td>\n      <td>Kaggle Mug</td>\n    </tr>\n    <tr>\n      <th>4</th>\n      <td>26302</td>\n      <td>2019-01-01</td>\n      <td>Finland</td>\n      <td>KaggleRama</td>\n      <td>Kaggle Hat</td>\n    </tr>\n  </tbody>\n</table>\n</div>"
     },
     "execution_count": 40,
     "metadata": {},
     "output_type": "execute_result"
    }
   ],
   "source": [
    "df_test.head()"
   ],
   "metadata": {
    "collapsed": false,
    "pycharm": {
     "name": "#%%\n"
    }
   }
  },
  {
   "cell_type": "code",
   "execution_count": 41,
   "outputs": [],
   "source": [
    "def unlink_store(row):\n",
    "    sep = \"___\"\n",
    "    # store_name = row[\"country\"] + sep + row[\"store\"] + sep + row[\"product\"].replace(\" \", \"x\")\n",
    "    store_name = row[\"store_name\"].split(\"___\")\n",
    "    row[\"country\"] = store_name[0]\n",
    "    row[\"store\"] = store_name[1]\n",
    "    row[\"product\"] = store_name[2].replace(\"x\", \" \")\n",
    "    return row"
   ],
   "metadata": {
    "collapsed": false,
    "pycharm": {
     "name": "#%%\n"
    }
   }
  },
  {
   "cell_type": "code",
   "execution_count": 42,
   "outputs": [
    {
     "name": "stderr",
     "output_type": "stream",
     "text": [
      "UserWarning: This pandas object has duplicate indices, and swifter may not be able to improve performance. Consider resetting the indices with `df.reset_index(drop=True)`.\n"
     ]
    }
   ],
   "source": [
    "df_test_prepare2 = df_test_prepare1.swifter.apply(unlink_store, axis=1)"
   ],
   "metadata": {
    "collapsed": false,
    "pycharm": {
     "name": "#%%\n"
    }
   }
  },
  {
   "cell_type": "code",
   "execution_count": 43,
   "outputs": [
    {
     "data": {
      "text/plain": "         date    num_sold                         store_name  country  \\\n0  2019-01-01  548.151102  Finland___KaggleMart___KagglexHat  Finland   \n1  2019-01-02  550.165233  Finland___KaggleMart___KagglexHat  Finland   \n2  2019-01-03  547.575335  Finland___KaggleMart___KagglexHat  Finland   \n3  2019-01-04  562.405910  Finland___KaggleMart___KagglexHat  Finland   \n4  2019-01-05  626.498677  Finland___KaggleMart___KagglexHat  Finland   \n\n        store     product  \n0  KaggleMart  Kaggle Hat  \n1  KaggleMart  Kaggle Hat  \n2  KaggleMart  Kaggle Hat  \n3  KaggleMart  Kaggle Hat  \n4  KaggleMart  Kaggle Hat  ",
      "text/html": "<div>\n<style scoped>\n    .dataframe tbody tr th:only-of-type {\n        vertical-align: middle;\n    }\n\n    .dataframe tbody tr th {\n        vertical-align: top;\n    }\n\n    .dataframe thead th {\n        text-align: right;\n    }\n</style>\n<table border=\"1\" class=\"dataframe\">\n  <thead>\n    <tr style=\"text-align: right;\">\n      <th></th>\n      <th>date</th>\n      <th>num_sold</th>\n      <th>store_name</th>\n      <th>country</th>\n      <th>store</th>\n      <th>product</th>\n    </tr>\n  </thead>\n  <tbody>\n    <tr>\n      <th>0</th>\n      <td>2019-01-01</td>\n      <td>548.151102</td>\n      <td>Finland___KaggleMart___KagglexHat</td>\n      <td>Finland</td>\n      <td>KaggleMart</td>\n      <td>Kaggle Hat</td>\n    </tr>\n    <tr>\n      <th>1</th>\n      <td>2019-01-02</td>\n      <td>550.165233</td>\n      <td>Finland___KaggleMart___KagglexHat</td>\n      <td>Finland</td>\n      <td>KaggleMart</td>\n      <td>Kaggle Hat</td>\n    </tr>\n    <tr>\n      <th>2</th>\n      <td>2019-01-03</td>\n      <td>547.575335</td>\n      <td>Finland___KaggleMart___KagglexHat</td>\n      <td>Finland</td>\n      <td>KaggleMart</td>\n      <td>Kaggle Hat</td>\n    </tr>\n    <tr>\n      <th>3</th>\n      <td>2019-01-04</td>\n      <td>562.405910</td>\n      <td>Finland___KaggleMart___KagglexHat</td>\n      <td>Finland</td>\n      <td>KaggleMart</td>\n      <td>Kaggle Hat</td>\n    </tr>\n    <tr>\n      <th>4</th>\n      <td>2019-01-05</td>\n      <td>626.498677</td>\n      <td>Finland___KaggleMart___KagglexHat</td>\n      <td>Finland</td>\n      <td>KaggleMart</td>\n      <td>Kaggle Hat</td>\n    </tr>\n  </tbody>\n</table>\n</div>"
     },
     "execution_count": 43,
     "metadata": {},
     "output_type": "execute_result"
    }
   ],
   "source": [
    "df_test_prepare2.head()"
   ],
   "metadata": {
    "collapsed": false,
    "pycharm": {
     "name": "#%%\n"
    }
   }
  },
  {
   "cell_type": "code",
   "execution_count": 44,
   "outputs": [
    {
     "data": {
      "text/plain": "   row_id        date  country       store         product\n0   26298  2019-01-01  Finland  KaggleMart      Kaggle Mug\n1   26299  2019-01-01  Finland  KaggleMart      Kaggle Hat\n2   26300  2019-01-01  Finland  KaggleMart  Kaggle Sticker\n3   26301  2019-01-01  Finland  KaggleRama      Kaggle Mug\n4   26302  2019-01-01  Finland  KaggleRama      Kaggle Hat",
      "text/html": "<div>\n<style scoped>\n    .dataframe tbody tr th:only-of-type {\n        vertical-align: middle;\n    }\n\n    .dataframe tbody tr th {\n        vertical-align: top;\n    }\n\n    .dataframe thead th {\n        text-align: right;\n    }\n</style>\n<table border=\"1\" class=\"dataframe\">\n  <thead>\n    <tr style=\"text-align: right;\">\n      <th></th>\n      <th>row_id</th>\n      <th>date</th>\n      <th>country</th>\n      <th>store</th>\n      <th>product</th>\n    </tr>\n  </thead>\n  <tbody>\n    <tr>\n      <th>0</th>\n      <td>26298</td>\n      <td>2019-01-01</td>\n      <td>Finland</td>\n      <td>KaggleMart</td>\n      <td>Kaggle Mug</td>\n    </tr>\n    <tr>\n      <th>1</th>\n      <td>26299</td>\n      <td>2019-01-01</td>\n      <td>Finland</td>\n      <td>KaggleMart</td>\n      <td>Kaggle Hat</td>\n    </tr>\n    <tr>\n      <th>2</th>\n      <td>26300</td>\n      <td>2019-01-01</td>\n      <td>Finland</td>\n      <td>KaggleMart</td>\n      <td>Kaggle Sticker</td>\n    </tr>\n    <tr>\n      <th>3</th>\n      <td>26301</td>\n      <td>2019-01-01</td>\n      <td>Finland</td>\n      <td>KaggleRama</td>\n      <td>Kaggle Mug</td>\n    </tr>\n    <tr>\n      <th>4</th>\n      <td>26302</td>\n      <td>2019-01-01</td>\n      <td>Finland</td>\n      <td>KaggleRama</td>\n      <td>Kaggle Hat</td>\n    </tr>\n  </tbody>\n</table>\n</div>"
     },
     "execution_count": 44,
     "metadata": {},
     "output_type": "execute_result"
    }
   ],
   "source": [
    "df_test.head()"
   ],
   "metadata": {
    "collapsed": false,
    "pycharm": {
     "name": "#%%\n"
    }
   }
  },
  {
   "cell_type": "code",
   "execution_count": 45,
   "outputs": [
    {
     "data": {
      "text/plain": "   row_id        date  country       store         product  \\\n0   26298  2019-01-01  Finland  KaggleMart      Kaggle Mug   \n1   26299  2019-01-01  Finland  KaggleMart      Kaggle Hat   \n2   26300  2019-01-01  Finland  KaggleMart  Kaggle Sticker   \n3   26301  2019-01-01  Finland  KaggleRama      Kaggle Mug   \n4   26302  2019-01-01  Finland  KaggleRama      Kaggle Hat   \n\n                              store_name  \n0      Finland___KaggleMart___KagglexMug  \n1      Finland___KaggleMart___KagglexHat  \n2  Finland___KaggleMart___KagglexSticker  \n3      Finland___KaggleRama___KagglexMug  \n4      Finland___KaggleRama___KagglexHat  ",
      "text/html": "<div>\n<style scoped>\n    .dataframe tbody tr th:only-of-type {\n        vertical-align: middle;\n    }\n\n    .dataframe tbody tr th {\n        vertical-align: top;\n    }\n\n    .dataframe thead th {\n        text-align: right;\n    }\n</style>\n<table border=\"1\" class=\"dataframe\">\n  <thead>\n    <tr style=\"text-align: right;\">\n      <th></th>\n      <th>row_id</th>\n      <th>date</th>\n      <th>country</th>\n      <th>store</th>\n      <th>product</th>\n      <th>store_name</th>\n    </tr>\n  </thead>\n  <tbody>\n    <tr>\n      <th>0</th>\n      <td>26298</td>\n      <td>2019-01-01</td>\n      <td>Finland</td>\n      <td>KaggleMart</td>\n      <td>Kaggle Mug</td>\n      <td>Finland___KaggleMart___KagglexMug</td>\n    </tr>\n    <tr>\n      <th>1</th>\n      <td>26299</td>\n      <td>2019-01-01</td>\n      <td>Finland</td>\n      <td>KaggleMart</td>\n      <td>Kaggle Hat</td>\n      <td>Finland___KaggleMart___KagglexHat</td>\n    </tr>\n    <tr>\n      <th>2</th>\n      <td>26300</td>\n      <td>2019-01-01</td>\n      <td>Finland</td>\n      <td>KaggleMart</td>\n      <td>Kaggle Sticker</td>\n      <td>Finland___KaggleMart___KagglexSticker</td>\n    </tr>\n    <tr>\n      <th>3</th>\n      <td>26301</td>\n      <td>2019-01-01</td>\n      <td>Finland</td>\n      <td>KaggleRama</td>\n      <td>Kaggle Mug</td>\n      <td>Finland___KaggleRama___KagglexMug</td>\n    </tr>\n    <tr>\n      <th>4</th>\n      <td>26302</td>\n      <td>2019-01-01</td>\n      <td>Finland</td>\n      <td>KaggleRama</td>\n      <td>Kaggle Hat</td>\n      <td>Finland___KaggleRama___KagglexHat</td>\n    </tr>\n  </tbody>\n</table>\n</div>"
     },
     "execution_count": 45,
     "metadata": {},
     "output_type": "execute_result"
    }
   ],
   "source": [
    "df_test_store_name = df_test.swifter.apply(link_store, axis=1)\n",
    "df_test_store_name.head()"
   ],
   "metadata": {
    "collapsed": false,
    "pycharm": {
     "name": "#%%\n"
    }
   }
  },
  {
   "cell_type": "code",
   "execution_count": 46,
   "outputs": [],
   "source": [
    "df_test_store_name2 = df_test_store_name[[\"row_id\", \"date\", \"store_name\"]]"
   ],
   "metadata": {
    "collapsed": false,
    "pycharm": {
     "name": "#%%\n"
    }
   }
  },
  {
   "cell_type": "code",
   "execution_count": 47,
   "outputs": [],
   "source": [
    "df_sub_1 = pd.merge(df_test_prepare2, df_test_store_name2, on=[\"date\", \"store_name\"])"
   ],
   "metadata": {
    "collapsed": false,
    "pycharm": {
     "name": "#%%\n"
    }
   }
  },
  {
   "cell_type": "code",
   "execution_count": 48,
   "outputs": [
    {
     "data": {
      "text/plain": "(6570, 6)"
     },
     "execution_count": 48,
     "metadata": {},
     "output_type": "execute_result"
    }
   ],
   "source": [
    "df_test_prepare2.shape"
   ],
   "metadata": {
    "collapsed": false,
    "pycharm": {
     "name": "#%%\n"
    }
   }
  },
  {
   "cell_type": "code",
   "execution_count": 49,
   "outputs": [
    {
     "data": {
      "text/plain": "   row_id        date                             store_name\n0   26298  2019-01-01      Finland___KaggleMart___KagglexMug\n1   26299  2019-01-01      Finland___KaggleMart___KagglexHat\n2   26300  2019-01-01  Finland___KaggleMart___KagglexSticker\n3   26301  2019-01-01      Finland___KaggleRama___KagglexMug\n4   26302  2019-01-01      Finland___KaggleRama___KagglexHat",
      "text/html": "<div>\n<style scoped>\n    .dataframe tbody tr th:only-of-type {\n        vertical-align: middle;\n    }\n\n    .dataframe tbody tr th {\n        vertical-align: top;\n    }\n\n    .dataframe thead th {\n        text-align: right;\n    }\n</style>\n<table border=\"1\" class=\"dataframe\">\n  <thead>\n    <tr style=\"text-align: right;\">\n      <th></th>\n      <th>row_id</th>\n      <th>date</th>\n      <th>store_name</th>\n    </tr>\n  </thead>\n  <tbody>\n    <tr>\n      <th>0</th>\n      <td>26298</td>\n      <td>2019-01-01</td>\n      <td>Finland___KaggleMart___KagglexMug</td>\n    </tr>\n    <tr>\n      <th>1</th>\n      <td>26299</td>\n      <td>2019-01-01</td>\n      <td>Finland___KaggleMart___KagglexHat</td>\n    </tr>\n    <tr>\n      <th>2</th>\n      <td>26300</td>\n      <td>2019-01-01</td>\n      <td>Finland___KaggleMart___KagglexSticker</td>\n    </tr>\n    <tr>\n      <th>3</th>\n      <td>26301</td>\n      <td>2019-01-01</td>\n      <td>Finland___KaggleRama___KagglexMug</td>\n    </tr>\n    <tr>\n      <th>4</th>\n      <td>26302</td>\n      <td>2019-01-01</td>\n      <td>Finland___KaggleRama___KagglexHat</td>\n    </tr>\n  </tbody>\n</table>\n</div>"
     },
     "execution_count": 49,
     "metadata": {},
     "output_type": "execute_result"
    }
   ],
   "source": [
    "df_test_store_name2.head()"
   ],
   "metadata": {
    "collapsed": false,
    "pycharm": {
     "name": "#%%\n"
    }
   }
  },
  {
   "cell_type": "code",
   "execution_count": 50,
   "outputs": [
    {
     "data": {
      "text/plain": "         date    num_sold                         store_name  country  \\\n0  2019-01-01  548.151102  Finland___KaggleMart___KagglexHat  Finland   \n1  2019-01-02  550.165233  Finland___KaggleMart___KagglexHat  Finland   \n2  2019-01-03  547.575335  Finland___KaggleMart___KagglexHat  Finland   \n3  2019-01-04  562.405910  Finland___KaggleMart___KagglexHat  Finland   \n4  2019-01-05  626.498677  Finland___KaggleMart___KagglexHat  Finland   \n\n        store     product  row_id  \n0  KaggleMart  Kaggle Hat   26299  \n1  KaggleMart  Kaggle Hat   26317  \n2  KaggleMart  Kaggle Hat   26335  \n3  KaggleMart  Kaggle Hat   26353  \n4  KaggleMart  Kaggle Hat   26371  ",
      "text/html": "<div>\n<style scoped>\n    .dataframe tbody tr th:only-of-type {\n        vertical-align: middle;\n    }\n\n    .dataframe tbody tr th {\n        vertical-align: top;\n    }\n\n    .dataframe thead th {\n        text-align: right;\n    }\n</style>\n<table border=\"1\" class=\"dataframe\">\n  <thead>\n    <tr style=\"text-align: right;\">\n      <th></th>\n      <th>date</th>\n      <th>num_sold</th>\n      <th>store_name</th>\n      <th>country</th>\n      <th>store</th>\n      <th>product</th>\n      <th>row_id</th>\n    </tr>\n  </thead>\n  <tbody>\n    <tr>\n      <th>0</th>\n      <td>2019-01-01</td>\n      <td>548.151102</td>\n      <td>Finland___KaggleMart___KagglexHat</td>\n      <td>Finland</td>\n      <td>KaggleMart</td>\n      <td>Kaggle Hat</td>\n      <td>26299</td>\n    </tr>\n    <tr>\n      <th>1</th>\n      <td>2019-01-02</td>\n      <td>550.165233</td>\n      <td>Finland___KaggleMart___KagglexHat</td>\n      <td>Finland</td>\n      <td>KaggleMart</td>\n      <td>Kaggle Hat</td>\n      <td>26317</td>\n    </tr>\n    <tr>\n      <th>2</th>\n      <td>2019-01-03</td>\n      <td>547.575335</td>\n      <td>Finland___KaggleMart___KagglexHat</td>\n      <td>Finland</td>\n      <td>KaggleMart</td>\n      <td>Kaggle Hat</td>\n      <td>26335</td>\n    </tr>\n    <tr>\n      <th>3</th>\n      <td>2019-01-04</td>\n      <td>562.405910</td>\n      <td>Finland___KaggleMart___KagglexHat</td>\n      <td>Finland</td>\n      <td>KaggleMart</td>\n      <td>Kaggle Hat</td>\n      <td>26353</td>\n    </tr>\n    <tr>\n      <th>4</th>\n      <td>2019-01-05</td>\n      <td>626.498677</td>\n      <td>Finland___KaggleMart___KagglexHat</td>\n      <td>Finland</td>\n      <td>KaggleMart</td>\n      <td>Kaggle Hat</td>\n      <td>26371</td>\n    </tr>\n  </tbody>\n</table>\n</div>"
     },
     "execution_count": 50,
     "metadata": {},
     "output_type": "execute_result"
    }
   ],
   "source": [
    "df_sub_1.head()"
   ],
   "metadata": {
    "collapsed": false,
    "pycharm": {
     "name": "#%%\n"
    }
   }
  },
  {
   "cell_type": "code",
   "execution_count": 51,
   "outputs": [],
   "source": [
    "df_sub_2 = df_sub_1[[\"row_id\", \"num_sold\"]]"
   ],
   "metadata": {
    "collapsed": false,
    "pycharm": {
     "name": "#%%\n"
    }
   }
  },
  {
   "cell_type": "code",
   "execution_count": 52,
   "outputs": [],
   "source": [
    "df_sub_3 = df_sub_2.fillna(0)"
   ],
   "metadata": {
    "collapsed": false,
    "pycharm": {
     "name": "#%%\n"
    }
   }
  },
  {
   "cell_type": "code",
   "execution_count": 53,
   "outputs": [],
   "source": [
    "df_sub_3.to_csv(\"sub/submission_model_1_fix1.csv\", index=False)"
   ],
   "metadata": {
    "collapsed": false,
    "pycharm": {
     "name": "#%%\n"
    }
   }
  },
  {
   "cell_type": "code",
   "execution_count": 53,
   "outputs": [],
   "source": [],
   "metadata": {
    "collapsed": false,
    "pycharm": {
     "name": "#%%\n"
    }
   }
  },
  {
   "cell_type": "code",
   "execution_count": 54,
   "outputs": [
    {
     "data": {
      "text/plain": "(6570, 2)"
     },
     "execution_count": 54,
     "metadata": {},
     "output_type": "execute_result"
    }
   ],
   "source": [
    "df_sub_2.shape"
   ],
   "metadata": {
    "collapsed": false,
    "pycharm": {
     "name": "#%%\n"
    }
   }
  },
  {
   "cell_type": "code",
   "execution_count": 55,
   "outputs": [
    {
     "data": {
      "text/plain": "   row_id    num_sold\n0   26299  548.151102\n1   26317  550.165233\n2   26335  547.575335\n3   26353  562.405910\n4   26371  626.498677",
      "text/html": "<div>\n<style scoped>\n    .dataframe tbody tr th:only-of-type {\n        vertical-align: middle;\n    }\n\n    .dataframe tbody tr th {\n        vertical-align: top;\n    }\n\n    .dataframe thead th {\n        text-align: right;\n    }\n</style>\n<table border=\"1\" class=\"dataframe\">\n  <thead>\n    <tr style=\"text-align: right;\">\n      <th></th>\n      <th>row_id</th>\n      <th>num_sold</th>\n    </tr>\n  </thead>\n  <tbody>\n    <tr>\n      <th>0</th>\n      <td>26299</td>\n      <td>548.151102</td>\n    </tr>\n    <tr>\n      <th>1</th>\n      <td>26317</td>\n      <td>550.165233</td>\n    </tr>\n    <tr>\n      <th>2</th>\n      <td>26335</td>\n      <td>547.575335</td>\n    </tr>\n    <tr>\n      <th>3</th>\n      <td>26353</td>\n      <td>562.405910</td>\n    </tr>\n    <tr>\n      <th>4</th>\n      <td>26371</td>\n      <td>626.498677</td>\n    </tr>\n  </tbody>\n</table>\n</div>"
     },
     "execution_count": 55,
     "metadata": {},
     "output_type": "execute_result"
    }
   ],
   "source": [
    "df_sub_2.head()"
   ],
   "metadata": {
    "collapsed": false,
    "pycharm": {
     "name": "#%%\n"
    }
   }
  },
  {
   "cell_type": "markdown",
   "source": [
    "# Check why null ?"
   ],
   "metadata": {
    "collapsed": false,
    "pycharm": {
     "name": "#%% md\n"
    }
   }
  },
  {
   "cell_type": "code",
   "execution_count": 56,
   "outputs": [
    {
     "data": {
      "text/plain": "Empty DataFrame\nColumns: [date, num_sold, store_name, country, store, product, row_id]\nIndex: []",
      "text/html": "<div>\n<style scoped>\n    .dataframe tbody tr th:only-of-type {\n        vertical-align: middle;\n    }\n\n    .dataframe tbody tr th {\n        vertical-align: top;\n    }\n\n    .dataframe thead th {\n        text-align: right;\n    }\n</style>\n<table border=\"1\" class=\"dataframe\">\n  <thead>\n    <tr style=\"text-align: right;\">\n      <th></th>\n      <th>date</th>\n      <th>num_sold</th>\n      <th>store_name</th>\n      <th>country</th>\n      <th>store</th>\n      <th>product</th>\n      <th>row_id</th>\n    </tr>\n  </thead>\n  <tbody>\n  </tbody>\n</table>\n</div>"
     },
     "execution_count": 56,
     "metadata": {},
     "output_type": "execute_result"
    }
   ],
   "source": [
    "df_sub_1[df_sub_1[\"num_sold\"].isna()]"
   ],
   "metadata": {
    "collapsed": false,
    "pycharm": {
     "name": "#%%\n"
    }
   }
  },
  {
   "cell_type": "code",
   "execution_count": 57,
   "outputs": [],
   "source": [
    "df_sub_na = df_sub_1[df_sub_1[\"num_sold\"].isna()]"
   ],
   "metadata": {
    "collapsed": false,
    "pycharm": {
     "name": "#%%\n"
    }
   }
  },
  {
   "cell_type": "code",
   "execution_count": 58,
   "outputs": [
    {
     "data": {
      "text/plain": "0"
     },
     "execution_count": 58,
     "metadata": {},
     "output_type": "execute_result"
    }
   ],
   "source": [
    "len(df_sub_1[df_sub_1[\"num_sold\"].isna()])"
   ],
   "metadata": {
    "collapsed": false,
    "pycharm": {
     "name": "#%%\n"
    }
   }
  },
  {
   "cell_type": "code",
   "execution_count": 59,
   "outputs": [
    {
     "data": {
      "text/plain": "6570"
     },
     "execution_count": 59,
     "metadata": {},
     "output_type": "execute_result"
    }
   ],
   "source": [
    "len(df_sub_1)"
   ],
   "metadata": {
    "collapsed": false,
    "pycharm": {
     "name": "#%%\n"
    }
   }
  },
  {
   "cell_type": "code",
   "execution_count": 60,
   "outputs": [
    {
     "data": {
      "text/plain": "array([], dtype=object)"
     },
     "execution_count": 60,
     "metadata": {},
     "output_type": "execute_result"
    }
   ],
   "source": [
    "df_sub_na[\"store_name\"].unique()"
   ],
   "metadata": {
    "collapsed": false,
    "pycharm": {
     "name": "#%%\n"
    }
   }
  },
  {
   "cell_type": "code",
   "execution_count": 61,
   "outputs": [
    {
     "data": {
      "text/plain": "[]"
     },
     "execution_count": 61,
     "metadata": {},
     "output_type": "execute_result"
    }
   ],
   "source": [
    "list(df_sub_na[\"store_name\"].unique())"
   ],
   "metadata": {
    "collapsed": false,
    "pycharm": {
     "name": "#%%\n"
    }
   }
  },
  {
   "cell_type": "code",
   "execution_count": 62,
   "outputs": [
    {
     "data": {
      "text/plain": "dict_keys(['Finland___KaggleMart___KagglexHat', 'Finland___KaggleMart___KagglexMug', 'Finland___KaggleMart___KagglexSticker', 'Finland___KaggleRama___KagglexHat', 'Finland___KaggleRama___KagglexMug', 'Finland___KaggleRama___KagglexSticker', 'Norway___KaggleMart___KagglexHat', 'Norway___KaggleMart___KagglexMug', 'Norway___KaggleMart___KagglexSticker', 'Norway___KaggleRama___KagglexHat', 'Norway___KaggleRama___KagglexMug', 'Norway___KaggleRama___KagglexSticker', 'Sweden___KaggleMart___KagglexHat', 'Sweden___KaggleMart___KagglexMug', 'Sweden___KaggleMart___KagglexSticker', 'Sweden___KaggleRama___KagglexHat', 'Sweden___KaggleRama___KagglexMug', 'Sweden___KaggleRama___KagglexSticker'])"
     },
     "execution_count": 62,
     "metadata": {},
     "output_type": "execute_result"
    }
   ],
   "source": [
    "forcase_dict.keys()"
   ],
   "metadata": {
    "collapsed": false,
    "pycharm": {
     "name": "#%%\n"
    }
   }
  },
  {
   "cell_type": "code",
   "execution_count": 63,
   "outputs": [
    {
     "data": {
      "text/plain": "            ds       trend  yhat_lower  yhat_upper  trend_lower  trend_upper  \\\n0   2019-01-01  120.150835  139.910146  173.378608   120.150835   120.150835   \n1   2019-01-02  120.174638  139.824850  174.386869   120.174638   120.174638   \n2   2019-01-03  120.198440  138.889167  173.742491   120.198440   120.198440   \n3   2019-01-04  120.222242  140.143553  175.399400   120.222242   120.222242   \n4   2019-01-05  120.246044  159.233683  193.620679   120.246044   120.246044   \n..         ...         ...         ...         ...          ...          ...   \n360 2019-12-27  128.719643  148.890631  184.014371   127.011473   130.243780   \n361 2019-12-28  128.743445  168.941520  203.518988   127.030575   130.278681   \n362 2019-12-29  128.767247  169.929061  205.001602   127.049678   130.313010   \n363 2019-12-30  128.791049  147.420134  181.447663   127.069296   130.344924   \n364 2019-12-31  128.814852  148.176376  182.091759   127.089127   130.376838   \n\n     additive_terms  additive_terms_lower  additive_terms_upper     weekly  \\\n0         36.156412             36.156412             36.156412  -7.946619   \n1         36.320677             36.320677             36.320677  -7.276205   \n2         36.264064             36.264064             36.264064  -6.388071   \n3         38.605754             38.605754             38.605754  -2.683388   \n4         55.672029             55.672029             55.672029  16.136502   \n..              ...                   ...                   ...        ...   \n360       36.723418             36.723418             36.723418  -2.683388   \n361       57.357913             57.357913             57.357913  16.136502   \n362       58.550411             58.550411             58.550411  15.928682   \n363       35.815145             35.815145             35.815145  -7.770901   \n364       36.153888             36.153888             36.153888  -7.946619   \n\n     weekly_lower  weekly_upper     yearly  yearly_lower  yearly_upper  \\\n0       -7.946619     -7.946619  44.103031     44.103031     44.103031   \n1       -7.276205     -7.276205  43.596882     43.596882     43.596882   \n2       -6.388071     -6.388071  42.652135     42.652135     42.652135   \n3       -2.683388     -2.683388  41.289142     41.289142     41.289142   \n4       16.136502     16.136502  39.535527     39.535527     39.535527   \n..            ...           ...        ...           ...           ...   \n360     -2.683388     -2.683388  39.406806     39.406806     39.406806   \n361     16.136502     16.136502  41.221410     41.221410     41.221410   \n362     15.928682     15.928682  42.621729     42.621729     42.621729   \n363     -7.770901     -7.770901  43.586046     43.586046     43.586046   \n364     -7.946619     -7.946619  44.100507     44.100507     44.100507   \n\n     multiplicative_terms  multiplicative_terms_lower  \\\n0                     0.0                         0.0   \n1                     0.0                         0.0   \n2                     0.0                         0.0   \n3                     0.0                         0.0   \n4                     0.0                         0.0   \n..                    ...                         ...   \n360                   0.0                         0.0   \n361                   0.0                         0.0   \n362                   0.0                         0.0   \n363                   0.0                         0.0   \n364                   0.0                         0.0   \n\n     multiplicative_terms_upper        yhat  \n0                           0.0  156.307247  \n1                           0.0  156.495315  \n2                           0.0  156.462504  \n3                           0.0  158.827996  \n4                           0.0  175.918074  \n..                          ...         ...  \n360                         0.0  165.443061  \n361                         0.0  186.101357  \n362                         0.0  187.317658  \n363                         0.0  164.606194  \n364                         0.0  164.968740  \n\n[365 rows x 19 columns]",
      "text/html": "<div>\n<style scoped>\n    .dataframe tbody tr th:only-of-type {\n        vertical-align: middle;\n    }\n\n    .dataframe tbody tr th {\n        vertical-align: top;\n    }\n\n    .dataframe thead th {\n        text-align: right;\n    }\n</style>\n<table border=\"1\" class=\"dataframe\">\n  <thead>\n    <tr style=\"text-align: right;\">\n      <th></th>\n      <th>ds</th>\n      <th>trend</th>\n      <th>yhat_lower</th>\n      <th>yhat_upper</th>\n      <th>trend_lower</th>\n      <th>trend_upper</th>\n      <th>additive_terms</th>\n      <th>additive_terms_lower</th>\n      <th>additive_terms_upper</th>\n      <th>weekly</th>\n      <th>weekly_lower</th>\n      <th>weekly_upper</th>\n      <th>yearly</th>\n      <th>yearly_lower</th>\n      <th>yearly_upper</th>\n      <th>multiplicative_terms</th>\n      <th>multiplicative_terms_lower</th>\n      <th>multiplicative_terms_upper</th>\n      <th>yhat</th>\n    </tr>\n  </thead>\n  <tbody>\n    <tr>\n      <th>0</th>\n      <td>2019-01-01</td>\n      <td>120.150835</td>\n      <td>139.910146</td>\n      <td>173.378608</td>\n      <td>120.150835</td>\n      <td>120.150835</td>\n      <td>36.156412</td>\n      <td>36.156412</td>\n      <td>36.156412</td>\n      <td>-7.946619</td>\n      <td>-7.946619</td>\n      <td>-7.946619</td>\n      <td>44.103031</td>\n      <td>44.103031</td>\n      <td>44.103031</td>\n      <td>0.0</td>\n      <td>0.0</td>\n      <td>0.0</td>\n      <td>156.307247</td>\n    </tr>\n    <tr>\n      <th>1</th>\n      <td>2019-01-02</td>\n      <td>120.174638</td>\n      <td>139.824850</td>\n      <td>174.386869</td>\n      <td>120.174638</td>\n      <td>120.174638</td>\n      <td>36.320677</td>\n      <td>36.320677</td>\n      <td>36.320677</td>\n      <td>-7.276205</td>\n      <td>-7.276205</td>\n      <td>-7.276205</td>\n      <td>43.596882</td>\n      <td>43.596882</td>\n      <td>43.596882</td>\n      <td>0.0</td>\n      <td>0.0</td>\n      <td>0.0</td>\n      <td>156.495315</td>\n    </tr>\n    <tr>\n      <th>2</th>\n      <td>2019-01-03</td>\n      <td>120.198440</td>\n      <td>138.889167</td>\n      <td>173.742491</td>\n      <td>120.198440</td>\n      <td>120.198440</td>\n      <td>36.264064</td>\n      <td>36.264064</td>\n      <td>36.264064</td>\n      <td>-6.388071</td>\n      <td>-6.388071</td>\n      <td>-6.388071</td>\n      <td>42.652135</td>\n      <td>42.652135</td>\n      <td>42.652135</td>\n      <td>0.0</td>\n      <td>0.0</td>\n      <td>0.0</td>\n      <td>156.462504</td>\n    </tr>\n    <tr>\n      <th>3</th>\n      <td>2019-01-04</td>\n      <td>120.222242</td>\n      <td>140.143553</td>\n      <td>175.399400</td>\n      <td>120.222242</td>\n      <td>120.222242</td>\n      <td>38.605754</td>\n      <td>38.605754</td>\n      <td>38.605754</td>\n      <td>-2.683388</td>\n      <td>-2.683388</td>\n      <td>-2.683388</td>\n      <td>41.289142</td>\n      <td>41.289142</td>\n      <td>41.289142</td>\n      <td>0.0</td>\n      <td>0.0</td>\n      <td>0.0</td>\n      <td>158.827996</td>\n    </tr>\n    <tr>\n      <th>4</th>\n      <td>2019-01-05</td>\n      <td>120.246044</td>\n      <td>159.233683</td>\n      <td>193.620679</td>\n      <td>120.246044</td>\n      <td>120.246044</td>\n      <td>55.672029</td>\n      <td>55.672029</td>\n      <td>55.672029</td>\n      <td>16.136502</td>\n      <td>16.136502</td>\n      <td>16.136502</td>\n      <td>39.535527</td>\n      <td>39.535527</td>\n      <td>39.535527</td>\n      <td>0.0</td>\n      <td>0.0</td>\n      <td>0.0</td>\n      <td>175.918074</td>\n    </tr>\n    <tr>\n      <th>...</th>\n      <td>...</td>\n      <td>...</td>\n      <td>...</td>\n      <td>...</td>\n      <td>...</td>\n      <td>...</td>\n      <td>...</td>\n      <td>...</td>\n      <td>...</td>\n      <td>...</td>\n      <td>...</td>\n      <td>...</td>\n      <td>...</td>\n      <td>...</td>\n      <td>...</td>\n      <td>...</td>\n      <td>...</td>\n      <td>...</td>\n      <td>...</td>\n    </tr>\n    <tr>\n      <th>360</th>\n      <td>2019-12-27</td>\n      <td>128.719643</td>\n      <td>148.890631</td>\n      <td>184.014371</td>\n      <td>127.011473</td>\n      <td>130.243780</td>\n      <td>36.723418</td>\n      <td>36.723418</td>\n      <td>36.723418</td>\n      <td>-2.683388</td>\n      <td>-2.683388</td>\n      <td>-2.683388</td>\n      <td>39.406806</td>\n      <td>39.406806</td>\n      <td>39.406806</td>\n      <td>0.0</td>\n      <td>0.0</td>\n      <td>0.0</td>\n      <td>165.443061</td>\n    </tr>\n    <tr>\n      <th>361</th>\n      <td>2019-12-28</td>\n      <td>128.743445</td>\n      <td>168.941520</td>\n      <td>203.518988</td>\n      <td>127.030575</td>\n      <td>130.278681</td>\n      <td>57.357913</td>\n      <td>57.357913</td>\n      <td>57.357913</td>\n      <td>16.136502</td>\n      <td>16.136502</td>\n      <td>16.136502</td>\n      <td>41.221410</td>\n      <td>41.221410</td>\n      <td>41.221410</td>\n      <td>0.0</td>\n      <td>0.0</td>\n      <td>0.0</td>\n      <td>186.101357</td>\n    </tr>\n    <tr>\n      <th>362</th>\n      <td>2019-12-29</td>\n      <td>128.767247</td>\n      <td>169.929061</td>\n      <td>205.001602</td>\n      <td>127.049678</td>\n      <td>130.313010</td>\n      <td>58.550411</td>\n      <td>58.550411</td>\n      <td>58.550411</td>\n      <td>15.928682</td>\n      <td>15.928682</td>\n      <td>15.928682</td>\n      <td>42.621729</td>\n      <td>42.621729</td>\n      <td>42.621729</td>\n      <td>0.0</td>\n      <td>0.0</td>\n      <td>0.0</td>\n      <td>187.317658</td>\n    </tr>\n    <tr>\n      <th>363</th>\n      <td>2019-12-30</td>\n      <td>128.791049</td>\n      <td>147.420134</td>\n      <td>181.447663</td>\n      <td>127.069296</td>\n      <td>130.344924</td>\n      <td>35.815145</td>\n      <td>35.815145</td>\n      <td>35.815145</td>\n      <td>-7.770901</td>\n      <td>-7.770901</td>\n      <td>-7.770901</td>\n      <td>43.586046</td>\n      <td>43.586046</td>\n      <td>43.586046</td>\n      <td>0.0</td>\n      <td>0.0</td>\n      <td>0.0</td>\n      <td>164.606194</td>\n    </tr>\n    <tr>\n      <th>364</th>\n      <td>2019-12-31</td>\n      <td>128.814852</td>\n      <td>148.176376</td>\n      <td>182.091759</td>\n      <td>127.089127</td>\n      <td>130.376838</td>\n      <td>36.153888</td>\n      <td>36.153888</td>\n      <td>36.153888</td>\n      <td>-7.946619</td>\n      <td>-7.946619</td>\n      <td>-7.946619</td>\n      <td>44.100507</td>\n      <td>44.100507</td>\n      <td>44.100507</td>\n      <td>0.0</td>\n      <td>0.0</td>\n      <td>0.0</td>\n      <td>164.968740</td>\n    </tr>\n  </tbody>\n</table>\n<p>365 rows × 19 columns</p>\n</div>"
     },
     "execution_count": 63,
     "metadata": {},
     "output_type": "execute_result"
    }
   ],
   "source": [
    "forcase_dict[\"Finland___KaggleMart___KagglexSticker\"]"
   ],
   "metadata": {
    "collapsed": false,
    "pycharm": {
     "name": "#%%\n"
    }
   }
  },
  {
   "cell_type": "code",
   "execution_count": 64,
   "outputs": [
    {
     "data": {
      "text/plain": "            ds       trend  yhat_lower  yhat_upper  trend_lower  trend_upper  \\\n0   2019-01-01  120.150835  139.910146  173.378608   120.150835   120.150835   \n1   2019-01-02  120.174638  139.824850  174.386869   120.174638   120.174638   \n2   2019-01-03  120.198440  138.889167  173.742491   120.198440   120.198440   \n3   2019-01-04  120.222242  140.143553  175.399400   120.222242   120.222242   \n4   2019-01-05  120.246044  159.233683  193.620679   120.246044   120.246044   \n..         ...         ...         ...         ...          ...          ...   \n360 2019-12-27  128.719643  148.890631  184.014371   127.011473   130.243780   \n361 2019-12-28  128.743445  168.941520  203.518988   127.030575   130.278681   \n362 2019-12-29  128.767247  169.929061  205.001602   127.049678   130.313010   \n363 2019-12-30  128.791049  147.420134  181.447663   127.069296   130.344924   \n364 2019-12-31  128.814852  148.176376  182.091759   127.089127   130.376838   \n\n     additive_terms  additive_terms_lower  additive_terms_upper     weekly  \\\n0         36.156412             36.156412             36.156412  -7.946619   \n1         36.320677             36.320677             36.320677  -7.276205   \n2         36.264064             36.264064             36.264064  -6.388071   \n3         38.605754             38.605754             38.605754  -2.683388   \n4         55.672029             55.672029             55.672029  16.136502   \n..              ...                   ...                   ...        ...   \n360       36.723418             36.723418             36.723418  -2.683388   \n361       57.357913             57.357913             57.357913  16.136502   \n362       58.550411             58.550411             58.550411  15.928682   \n363       35.815145             35.815145             35.815145  -7.770901   \n364       36.153888             36.153888             36.153888  -7.946619   \n\n     weekly_lower  weekly_upper     yearly  yearly_lower  yearly_upper  \\\n0       -7.946619     -7.946619  44.103031     44.103031     44.103031   \n1       -7.276205     -7.276205  43.596882     43.596882     43.596882   \n2       -6.388071     -6.388071  42.652135     42.652135     42.652135   \n3       -2.683388     -2.683388  41.289142     41.289142     41.289142   \n4       16.136502     16.136502  39.535527     39.535527     39.535527   \n..            ...           ...        ...           ...           ...   \n360     -2.683388     -2.683388  39.406806     39.406806     39.406806   \n361     16.136502     16.136502  41.221410     41.221410     41.221410   \n362     15.928682     15.928682  42.621729     42.621729     42.621729   \n363     -7.770901     -7.770901  43.586046     43.586046     43.586046   \n364     -7.946619     -7.946619  44.100507     44.100507     44.100507   \n\n     multiplicative_terms  multiplicative_terms_lower  \\\n0                     0.0                         0.0   \n1                     0.0                         0.0   \n2                     0.0                         0.0   \n3                     0.0                         0.0   \n4                     0.0                         0.0   \n..                    ...                         ...   \n360                   0.0                         0.0   \n361                   0.0                         0.0   \n362                   0.0                         0.0   \n363                   0.0                         0.0   \n364                   0.0                         0.0   \n\n     multiplicative_terms_upper        yhat  \n0                           0.0  156.307247  \n1                           0.0  156.495315  \n2                           0.0  156.462504  \n3                           0.0  158.827996  \n4                           0.0  175.918074  \n..                          ...         ...  \n360                         0.0  165.443061  \n361                         0.0  186.101357  \n362                         0.0  187.317658  \n363                         0.0  164.606194  \n364                         0.0  164.968740  \n\n[365 rows x 19 columns]",
      "text/html": "<div>\n<style scoped>\n    .dataframe tbody tr th:only-of-type {\n        vertical-align: middle;\n    }\n\n    .dataframe tbody tr th {\n        vertical-align: top;\n    }\n\n    .dataframe thead th {\n        text-align: right;\n    }\n</style>\n<table border=\"1\" class=\"dataframe\">\n  <thead>\n    <tr style=\"text-align: right;\">\n      <th></th>\n      <th>ds</th>\n      <th>trend</th>\n      <th>yhat_lower</th>\n      <th>yhat_upper</th>\n      <th>trend_lower</th>\n      <th>trend_upper</th>\n      <th>additive_terms</th>\n      <th>additive_terms_lower</th>\n      <th>additive_terms_upper</th>\n      <th>weekly</th>\n      <th>weekly_lower</th>\n      <th>weekly_upper</th>\n      <th>yearly</th>\n      <th>yearly_lower</th>\n      <th>yearly_upper</th>\n      <th>multiplicative_terms</th>\n      <th>multiplicative_terms_lower</th>\n      <th>multiplicative_terms_upper</th>\n      <th>yhat</th>\n    </tr>\n  </thead>\n  <tbody>\n    <tr>\n      <th>0</th>\n      <td>2019-01-01</td>\n      <td>120.150835</td>\n      <td>139.910146</td>\n      <td>173.378608</td>\n      <td>120.150835</td>\n      <td>120.150835</td>\n      <td>36.156412</td>\n      <td>36.156412</td>\n      <td>36.156412</td>\n      <td>-7.946619</td>\n      <td>-7.946619</td>\n      <td>-7.946619</td>\n      <td>44.103031</td>\n      <td>44.103031</td>\n      <td>44.103031</td>\n      <td>0.0</td>\n      <td>0.0</td>\n      <td>0.0</td>\n      <td>156.307247</td>\n    </tr>\n    <tr>\n      <th>1</th>\n      <td>2019-01-02</td>\n      <td>120.174638</td>\n      <td>139.824850</td>\n      <td>174.386869</td>\n      <td>120.174638</td>\n      <td>120.174638</td>\n      <td>36.320677</td>\n      <td>36.320677</td>\n      <td>36.320677</td>\n      <td>-7.276205</td>\n      <td>-7.276205</td>\n      <td>-7.276205</td>\n      <td>43.596882</td>\n      <td>43.596882</td>\n      <td>43.596882</td>\n      <td>0.0</td>\n      <td>0.0</td>\n      <td>0.0</td>\n      <td>156.495315</td>\n    </tr>\n    <tr>\n      <th>2</th>\n      <td>2019-01-03</td>\n      <td>120.198440</td>\n      <td>138.889167</td>\n      <td>173.742491</td>\n      <td>120.198440</td>\n      <td>120.198440</td>\n      <td>36.264064</td>\n      <td>36.264064</td>\n      <td>36.264064</td>\n      <td>-6.388071</td>\n      <td>-6.388071</td>\n      <td>-6.388071</td>\n      <td>42.652135</td>\n      <td>42.652135</td>\n      <td>42.652135</td>\n      <td>0.0</td>\n      <td>0.0</td>\n      <td>0.0</td>\n      <td>156.462504</td>\n    </tr>\n    <tr>\n      <th>3</th>\n      <td>2019-01-04</td>\n      <td>120.222242</td>\n      <td>140.143553</td>\n      <td>175.399400</td>\n      <td>120.222242</td>\n      <td>120.222242</td>\n      <td>38.605754</td>\n      <td>38.605754</td>\n      <td>38.605754</td>\n      <td>-2.683388</td>\n      <td>-2.683388</td>\n      <td>-2.683388</td>\n      <td>41.289142</td>\n      <td>41.289142</td>\n      <td>41.289142</td>\n      <td>0.0</td>\n      <td>0.0</td>\n      <td>0.0</td>\n      <td>158.827996</td>\n    </tr>\n    <tr>\n      <th>4</th>\n      <td>2019-01-05</td>\n      <td>120.246044</td>\n      <td>159.233683</td>\n      <td>193.620679</td>\n      <td>120.246044</td>\n      <td>120.246044</td>\n      <td>55.672029</td>\n      <td>55.672029</td>\n      <td>55.672029</td>\n      <td>16.136502</td>\n      <td>16.136502</td>\n      <td>16.136502</td>\n      <td>39.535527</td>\n      <td>39.535527</td>\n      <td>39.535527</td>\n      <td>0.0</td>\n      <td>0.0</td>\n      <td>0.0</td>\n      <td>175.918074</td>\n    </tr>\n    <tr>\n      <th>...</th>\n      <td>...</td>\n      <td>...</td>\n      <td>...</td>\n      <td>...</td>\n      <td>...</td>\n      <td>...</td>\n      <td>...</td>\n      <td>...</td>\n      <td>...</td>\n      <td>...</td>\n      <td>...</td>\n      <td>...</td>\n      <td>...</td>\n      <td>...</td>\n      <td>...</td>\n      <td>...</td>\n      <td>...</td>\n      <td>...</td>\n      <td>...</td>\n    </tr>\n    <tr>\n      <th>360</th>\n      <td>2019-12-27</td>\n      <td>128.719643</td>\n      <td>148.890631</td>\n      <td>184.014371</td>\n      <td>127.011473</td>\n      <td>130.243780</td>\n      <td>36.723418</td>\n      <td>36.723418</td>\n      <td>36.723418</td>\n      <td>-2.683388</td>\n      <td>-2.683388</td>\n      <td>-2.683388</td>\n      <td>39.406806</td>\n      <td>39.406806</td>\n      <td>39.406806</td>\n      <td>0.0</td>\n      <td>0.0</td>\n      <td>0.0</td>\n      <td>165.443061</td>\n    </tr>\n    <tr>\n      <th>361</th>\n      <td>2019-12-28</td>\n      <td>128.743445</td>\n      <td>168.941520</td>\n      <td>203.518988</td>\n      <td>127.030575</td>\n      <td>130.278681</td>\n      <td>57.357913</td>\n      <td>57.357913</td>\n      <td>57.357913</td>\n      <td>16.136502</td>\n      <td>16.136502</td>\n      <td>16.136502</td>\n      <td>41.221410</td>\n      <td>41.221410</td>\n      <td>41.221410</td>\n      <td>0.0</td>\n      <td>0.0</td>\n      <td>0.0</td>\n      <td>186.101357</td>\n    </tr>\n    <tr>\n      <th>362</th>\n      <td>2019-12-29</td>\n      <td>128.767247</td>\n      <td>169.929061</td>\n      <td>205.001602</td>\n      <td>127.049678</td>\n      <td>130.313010</td>\n      <td>58.550411</td>\n      <td>58.550411</td>\n      <td>58.550411</td>\n      <td>15.928682</td>\n      <td>15.928682</td>\n      <td>15.928682</td>\n      <td>42.621729</td>\n      <td>42.621729</td>\n      <td>42.621729</td>\n      <td>0.0</td>\n      <td>0.0</td>\n      <td>0.0</td>\n      <td>187.317658</td>\n    </tr>\n    <tr>\n      <th>363</th>\n      <td>2019-12-30</td>\n      <td>128.791049</td>\n      <td>147.420134</td>\n      <td>181.447663</td>\n      <td>127.069296</td>\n      <td>130.344924</td>\n      <td>35.815145</td>\n      <td>35.815145</td>\n      <td>35.815145</td>\n      <td>-7.770901</td>\n      <td>-7.770901</td>\n      <td>-7.770901</td>\n      <td>43.586046</td>\n      <td>43.586046</td>\n      <td>43.586046</td>\n      <td>0.0</td>\n      <td>0.0</td>\n      <td>0.0</td>\n      <td>164.606194</td>\n    </tr>\n    <tr>\n      <th>364</th>\n      <td>2019-12-31</td>\n      <td>128.814852</td>\n      <td>148.176376</td>\n      <td>182.091759</td>\n      <td>127.089127</td>\n      <td>130.376838</td>\n      <td>36.153888</td>\n      <td>36.153888</td>\n      <td>36.153888</td>\n      <td>-7.946619</td>\n      <td>-7.946619</td>\n      <td>-7.946619</td>\n      <td>44.100507</td>\n      <td>44.100507</td>\n      <td>44.100507</td>\n      <td>0.0</td>\n      <td>0.0</td>\n      <td>0.0</td>\n      <td>164.968740</td>\n    </tr>\n  </tbody>\n</table>\n<p>365 rows × 19 columns</p>\n</div>"
     },
     "execution_count": 64,
     "metadata": {},
     "output_type": "execute_result"
    }
   ],
   "source": [
    "forcase_dict[\"Finland___KaggleMart___KagglexSticker\"]"
   ],
   "metadata": {
    "collapsed": false,
    "pycharm": {
     "name": "#%%\n"
    }
   }
  },
  {
   "cell_type": "code",
   "execution_count": 65,
   "outputs": [],
   "source": [
    "check1 =  forcase_dict[\"Finland___KaggleMart___KagglexSticker\"]"
   ],
   "metadata": {
    "collapsed": false,
    "pycharm": {
     "name": "#%%\n"
    }
   }
  },
  {
   "cell_type": "code",
   "execution_count": 66,
   "outputs": [
    {
     "data": {
      "text/plain": "Empty DataFrame\nColumns: [ds, trend, yhat_lower, yhat_upper, trend_lower, trend_upper, additive_terms, additive_terms_lower, additive_terms_upper, weekly, weekly_lower, weekly_upper, yearly, yearly_lower, yearly_upper, multiplicative_terms, multiplicative_terms_lower, multiplicative_terms_upper, yhat]\nIndex: []",
      "text/html": "<div>\n<style scoped>\n    .dataframe tbody tr th:only-of-type {\n        vertical-align: middle;\n    }\n\n    .dataframe tbody tr th {\n        vertical-align: top;\n    }\n\n    .dataframe thead th {\n        text-align: right;\n    }\n</style>\n<table border=\"1\" class=\"dataframe\">\n  <thead>\n    <tr style=\"text-align: right;\">\n      <th></th>\n      <th>ds</th>\n      <th>trend</th>\n      <th>yhat_lower</th>\n      <th>yhat_upper</th>\n      <th>trend_lower</th>\n      <th>trend_upper</th>\n      <th>additive_terms</th>\n      <th>additive_terms_lower</th>\n      <th>additive_terms_upper</th>\n      <th>weekly</th>\n      <th>weekly_lower</th>\n      <th>weekly_upper</th>\n      <th>yearly</th>\n      <th>yearly_lower</th>\n      <th>yearly_upper</th>\n      <th>multiplicative_terms</th>\n      <th>multiplicative_terms_lower</th>\n      <th>multiplicative_terms_upper</th>\n      <th>yhat</th>\n    </tr>\n  </thead>\n  <tbody>\n  </tbody>\n</table>\n</div>"
     },
     "execution_count": 66,
     "metadata": {},
     "output_type": "execute_result"
    }
   ],
   "source": [
    "check1[check1[\"yhat\"].isna()]"
   ],
   "metadata": {
    "collapsed": false,
    "pycharm": {
     "name": "#%%\n"
    }
   }
  },
  {
   "cell_type": "code",
   "execution_count": 67,
   "outputs": [
    {
     "data": {
      "text/plain": "         date    num_sold                         store_name\n0  2019-01-01  548.151102  Finland___KaggleMart___KagglexHat\n1  2019-01-02  550.165233  Finland___KaggleMart___KagglexHat\n2  2019-01-03  547.575335  Finland___KaggleMart___KagglexHat\n3  2019-01-04  562.405910  Finland___KaggleMart___KagglexHat\n4  2019-01-05  626.498677  Finland___KaggleMart___KagglexHat",
      "text/html": "<div>\n<style scoped>\n    .dataframe tbody tr th:only-of-type {\n        vertical-align: middle;\n    }\n\n    .dataframe tbody tr th {\n        vertical-align: top;\n    }\n\n    .dataframe thead th {\n        text-align: right;\n    }\n</style>\n<table border=\"1\" class=\"dataframe\">\n  <thead>\n    <tr style=\"text-align: right;\">\n      <th></th>\n      <th>date</th>\n      <th>num_sold</th>\n      <th>store_name</th>\n    </tr>\n  </thead>\n  <tbody>\n    <tr>\n      <th>0</th>\n      <td>2019-01-01</td>\n      <td>548.151102</td>\n      <td>Finland___KaggleMart___KagglexHat</td>\n    </tr>\n    <tr>\n      <th>1</th>\n      <td>2019-01-02</td>\n      <td>550.165233</td>\n      <td>Finland___KaggleMart___KagglexHat</td>\n    </tr>\n    <tr>\n      <th>2</th>\n      <td>2019-01-03</td>\n      <td>547.575335</td>\n      <td>Finland___KaggleMart___KagglexHat</td>\n    </tr>\n    <tr>\n      <th>3</th>\n      <td>2019-01-04</td>\n      <td>562.405910</td>\n      <td>Finland___KaggleMart___KagglexHat</td>\n    </tr>\n    <tr>\n      <th>4</th>\n      <td>2019-01-05</td>\n      <td>626.498677</td>\n      <td>Finland___KaggleMart___KagglexHat</td>\n    </tr>\n  </tbody>\n</table>\n</div>"
     },
     "execution_count": 67,
     "metadata": {},
     "output_type": "execute_result"
    }
   ],
   "source": [
    "df_test_prepare1.head()"
   ],
   "metadata": {
    "collapsed": false,
    "pycharm": {
     "name": "#%%\n"
    }
   }
  },
  {
   "cell_type": "code",
   "execution_count": 68,
   "outputs": [
    {
     "data": {
      "text/plain": "Empty DataFrame\nColumns: [date, num_sold, store_name]\nIndex: []",
      "text/html": "<div>\n<style scoped>\n    .dataframe tbody tr th:only-of-type {\n        vertical-align: middle;\n    }\n\n    .dataframe tbody tr th {\n        vertical-align: top;\n    }\n\n    .dataframe thead th {\n        text-align: right;\n    }\n</style>\n<table border=\"1\" class=\"dataframe\">\n  <thead>\n    <tr style=\"text-align: right;\">\n      <th></th>\n      <th>date</th>\n      <th>num_sold</th>\n      <th>store_name</th>\n    </tr>\n  </thead>\n  <tbody>\n  </tbody>\n</table>\n</div>"
     },
     "execution_count": 68,
     "metadata": {},
     "output_type": "execute_result"
    }
   ],
   "source": [
    "df_test_prepare1[df_test_prepare1[\"num_sold\"].isna()]"
   ],
   "metadata": {
    "collapsed": false,
    "pycharm": {
     "name": "#%%\n"
    }
   }
  },
  {
   "cell_type": "code",
   "execution_count": 69,
   "outputs": [
    {
     "data": {
      "text/plain": "6570"
     },
     "execution_count": 69,
     "metadata": {},
     "output_type": "execute_result"
    }
   ],
   "source": [
    "len(df_test_prepare1)"
   ],
   "metadata": {
    "collapsed": false,
    "pycharm": {
     "name": "#%%\n"
    }
   }
  },
  {
   "cell_type": "code",
   "execution_count": 70,
   "outputs": [
    {
     "data": {
      "text/plain": "array(['Finland___KaggleMart___KagglexHat',\n       'Finland___KaggleMart___KagglexMug',\n       'Finland___KaggleMart___KagglexSticker',\n       'Finland___KaggleRama___KagglexHat',\n       'Finland___KaggleRama___KagglexMug',\n       'Finland___KaggleRama___KagglexSticker',\n       'Norway___KaggleMart___KagglexHat',\n       'Norway___KaggleMart___KagglexMug',\n       'Norway___KaggleMart___KagglexSticker',\n       'Norway___KaggleRama___KagglexHat',\n       'Norway___KaggleRama___KagglexMug',\n       'Norway___KaggleRama___KagglexSticker',\n       'Sweden___KaggleMart___KagglexHat',\n       'Sweden___KaggleMart___KagglexMug',\n       'Sweden___KaggleMart___KagglexSticker',\n       'Sweden___KaggleRama___KagglexHat',\n       'Sweden___KaggleRama___KagglexMug',\n       'Sweden___KaggleRama___KagglexSticker'], dtype=object)"
     },
     "execution_count": 70,
     "metadata": {},
     "output_type": "execute_result"
    }
   ],
   "source": [
    "df_test_prepare1[\"store_name\"].unique()"
   ],
   "metadata": {
    "collapsed": false,
    "pycharm": {
     "name": "#%%\n"
    }
   }
  },
  {
   "cell_type": "code",
   "execution_count": 71,
   "outputs": [],
   "source": [
    "check11 = df_test_prepare1[df_test_prepare1[\"store_name\"]==\"Norway___KaggleRama___KagglexHat\"]"
   ],
   "metadata": {
    "collapsed": false,
    "pycharm": {
     "name": "#%%\n"
    }
   }
  },
  {
   "cell_type": "code",
   "execution_count": 72,
   "outputs": [
    {
     "data": {
      "text/plain": "365"
     },
     "execution_count": 72,
     "metadata": {},
     "output_type": "execute_result"
    }
   ],
   "source": [
    "len(check11)"
   ],
   "metadata": {
    "collapsed": false,
    "pycharm": {
     "name": "#%%\n"
    }
   }
  },
  {
   "cell_type": "code",
   "execution_count": 73,
   "outputs": [
    {
     "data": {
      "text/plain": "Empty DataFrame\nColumns: [date, num_sold, store_name]\nIndex: []",
      "text/html": "<div>\n<style scoped>\n    .dataframe tbody tr th:only-of-type {\n        vertical-align: middle;\n    }\n\n    .dataframe tbody tr th {\n        vertical-align: top;\n    }\n\n    .dataframe thead th {\n        text-align: right;\n    }\n</style>\n<table border=\"1\" class=\"dataframe\">\n  <thead>\n    <tr style=\"text-align: right;\">\n      <th></th>\n      <th>date</th>\n      <th>num_sold</th>\n      <th>store_name</th>\n    </tr>\n  </thead>\n  <tbody>\n  </tbody>\n</table>\n</div>"
     },
     "execution_count": 73,
     "metadata": {},
     "output_type": "execute_result"
    }
   ],
   "source": [
    "check11[check11[\"num_sold\"].isna()]"
   ],
   "metadata": {
    "collapsed": false,
    "pycharm": {
     "name": "#%%\n"
    }
   }
  },
  {
   "cell_type": "code",
   "execution_count": 74,
   "outputs": [
    {
     "data": {
      "text/plain": "            ds        trend   yhat_lower   yhat_upper  trend_lower  \\\n0   2019-01-01  1181.554856  1315.487092  1657.211688  1181.554856   \n1   2019-01-02  1181.708227  1320.217058  1665.540951  1181.708227   \n2   2019-01-03  1181.861598  1329.970914  1675.454783  1181.861598   \n3   2019-01-04  1182.014969  1352.510931  1704.729215  1182.014969   \n4   2019-01-05  1182.168340  1531.749275  1866.691688  1182.168340   \n..         ...          ...          ...          ...          ...   \n360 2019-12-27  1236.768444  1352.969702  1714.427335  1196.626091   \n361 2019-12-28  1236.921816  1577.249349  1940.736383  1196.576138   \n362 2019-12-29  1237.075187  1581.683438  1960.524445  1196.582267   \n363 2019-12-30  1237.228558  1366.775438  1721.726061  1196.619957   \n364 2019-12-31  1237.381929  1363.312438  1720.347524  1196.668109   \n\n     trend_upper  additive_terms  additive_terms_lower  additive_terms_upper  \\\n0    1181.554856      309.090182            309.090182            309.090182   \n1    1181.708227      314.389910            314.389910            314.389910   \n2    1181.861598      309.395545            309.395545            309.395545   \n3    1182.014969      344.704829            344.704829            344.704829   \n4    1182.168340      526.898312            526.898312            526.898312   \n..           ...             ...                   ...                   ...   \n360  1273.089675      306.888157            306.888157            306.888157   \n361  1273.419961      523.420401            523.420401            523.420401   \n362  1273.750248      532.203973            532.203973            532.203973   \n363  1274.080145      305.063257            305.063257            305.063257   \n364  1274.392649      306.118670            306.118670            306.118670   \n\n         weekly  weekly_lower  weekly_upper      yearly  yearly_lower  \\\n0    -82.346908    -82.346908    -82.346908  391.437090    391.437090   \n1    -74.535318    -74.535318    -74.535318  388.925228    388.925228   \n2    -72.811549    -72.811549    -72.811549  382.207095    382.207095   \n3    -26.787737    -26.787737    -26.787737  371.492565    371.492565   \n4    169.835597    169.835597    169.835597  357.062715    357.062715   \n..          ...           ...           ...         ...           ...   \n360  -26.787737    -26.787737    -26.787737  333.675894    333.675894   \n361  169.835597    169.835597    169.835597  353.584804    353.584804   \n362  162.727909    162.727909    162.727909  369.476064    369.476064   \n363  -76.081994    -76.081994    -76.081994  381.145251    381.145251   \n364  -82.346908    -82.346908    -82.346908  388.465578    388.465578   \n\n     yearly_upper  multiplicative_terms  multiplicative_terms_lower  \\\n0      391.437090                   0.0                         0.0   \n1      388.925228                   0.0                         0.0   \n2      382.207095                   0.0                         0.0   \n3      371.492565                   0.0                         0.0   \n4      357.062715                   0.0                         0.0   \n..            ...                   ...                         ...   \n360    333.675894                   0.0                         0.0   \n361    353.584804                   0.0                         0.0   \n362    369.476064                   0.0                         0.0   \n363    381.145251                   0.0                         0.0   \n364    388.465578                   0.0                         0.0   \n\n     multiplicative_terms_upper         yhat  \n0                           0.0  1490.645038  \n1                           0.0  1496.098136  \n2                           0.0  1491.257143  \n3                           0.0  1526.719798  \n4                           0.0  1709.066652  \n..                          ...          ...  \n360                         0.0  1543.656602  \n361                         0.0  1760.342217  \n362                         0.0  1769.279159  \n363                         0.0  1542.291814  \n364                         0.0  1543.500598  \n\n[365 rows x 19 columns]",
      "text/html": "<div>\n<style scoped>\n    .dataframe tbody tr th:only-of-type {\n        vertical-align: middle;\n    }\n\n    .dataframe tbody tr th {\n        vertical-align: top;\n    }\n\n    .dataframe thead th {\n        text-align: right;\n    }\n</style>\n<table border=\"1\" class=\"dataframe\">\n  <thead>\n    <tr style=\"text-align: right;\">\n      <th></th>\n      <th>ds</th>\n      <th>trend</th>\n      <th>yhat_lower</th>\n      <th>yhat_upper</th>\n      <th>trend_lower</th>\n      <th>trend_upper</th>\n      <th>additive_terms</th>\n      <th>additive_terms_lower</th>\n      <th>additive_terms_upper</th>\n      <th>weekly</th>\n      <th>weekly_lower</th>\n      <th>weekly_upper</th>\n      <th>yearly</th>\n      <th>yearly_lower</th>\n      <th>yearly_upper</th>\n      <th>multiplicative_terms</th>\n      <th>multiplicative_terms_lower</th>\n      <th>multiplicative_terms_upper</th>\n      <th>yhat</th>\n    </tr>\n  </thead>\n  <tbody>\n    <tr>\n      <th>0</th>\n      <td>2019-01-01</td>\n      <td>1181.554856</td>\n      <td>1315.487092</td>\n      <td>1657.211688</td>\n      <td>1181.554856</td>\n      <td>1181.554856</td>\n      <td>309.090182</td>\n      <td>309.090182</td>\n      <td>309.090182</td>\n      <td>-82.346908</td>\n      <td>-82.346908</td>\n      <td>-82.346908</td>\n      <td>391.437090</td>\n      <td>391.437090</td>\n      <td>391.437090</td>\n      <td>0.0</td>\n      <td>0.0</td>\n      <td>0.0</td>\n      <td>1490.645038</td>\n    </tr>\n    <tr>\n      <th>1</th>\n      <td>2019-01-02</td>\n      <td>1181.708227</td>\n      <td>1320.217058</td>\n      <td>1665.540951</td>\n      <td>1181.708227</td>\n      <td>1181.708227</td>\n      <td>314.389910</td>\n      <td>314.389910</td>\n      <td>314.389910</td>\n      <td>-74.535318</td>\n      <td>-74.535318</td>\n      <td>-74.535318</td>\n      <td>388.925228</td>\n      <td>388.925228</td>\n      <td>388.925228</td>\n      <td>0.0</td>\n      <td>0.0</td>\n      <td>0.0</td>\n      <td>1496.098136</td>\n    </tr>\n    <tr>\n      <th>2</th>\n      <td>2019-01-03</td>\n      <td>1181.861598</td>\n      <td>1329.970914</td>\n      <td>1675.454783</td>\n      <td>1181.861598</td>\n      <td>1181.861598</td>\n      <td>309.395545</td>\n      <td>309.395545</td>\n      <td>309.395545</td>\n      <td>-72.811549</td>\n      <td>-72.811549</td>\n      <td>-72.811549</td>\n      <td>382.207095</td>\n      <td>382.207095</td>\n      <td>382.207095</td>\n      <td>0.0</td>\n      <td>0.0</td>\n      <td>0.0</td>\n      <td>1491.257143</td>\n    </tr>\n    <tr>\n      <th>3</th>\n      <td>2019-01-04</td>\n      <td>1182.014969</td>\n      <td>1352.510931</td>\n      <td>1704.729215</td>\n      <td>1182.014969</td>\n      <td>1182.014969</td>\n      <td>344.704829</td>\n      <td>344.704829</td>\n      <td>344.704829</td>\n      <td>-26.787737</td>\n      <td>-26.787737</td>\n      <td>-26.787737</td>\n      <td>371.492565</td>\n      <td>371.492565</td>\n      <td>371.492565</td>\n      <td>0.0</td>\n      <td>0.0</td>\n      <td>0.0</td>\n      <td>1526.719798</td>\n    </tr>\n    <tr>\n      <th>4</th>\n      <td>2019-01-05</td>\n      <td>1182.168340</td>\n      <td>1531.749275</td>\n      <td>1866.691688</td>\n      <td>1182.168340</td>\n      <td>1182.168340</td>\n      <td>526.898312</td>\n      <td>526.898312</td>\n      <td>526.898312</td>\n      <td>169.835597</td>\n      <td>169.835597</td>\n      <td>169.835597</td>\n      <td>357.062715</td>\n      <td>357.062715</td>\n      <td>357.062715</td>\n      <td>0.0</td>\n      <td>0.0</td>\n      <td>0.0</td>\n      <td>1709.066652</td>\n    </tr>\n    <tr>\n      <th>...</th>\n      <td>...</td>\n      <td>...</td>\n      <td>...</td>\n      <td>...</td>\n      <td>...</td>\n      <td>...</td>\n      <td>...</td>\n      <td>...</td>\n      <td>...</td>\n      <td>...</td>\n      <td>...</td>\n      <td>...</td>\n      <td>...</td>\n      <td>...</td>\n      <td>...</td>\n      <td>...</td>\n      <td>...</td>\n      <td>...</td>\n      <td>...</td>\n    </tr>\n    <tr>\n      <th>360</th>\n      <td>2019-12-27</td>\n      <td>1236.768444</td>\n      <td>1352.969702</td>\n      <td>1714.427335</td>\n      <td>1196.626091</td>\n      <td>1273.089675</td>\n      <td>306.888157</td>\n      <td>306.888157</td>\n      <td>306.888157</td>\n      <td>-26.787737</td>\n      <td>-26.787737</td>\n      <td>-26.787737</td>\n      <td>333.675894</td>\n      <td>333.675894</td>\n      <td>333.675894</td>\n      <td>0.0</td>\n      <td>0.0</td>\n      <td>0.0</td>\n      <td>1543.656602</td>\n    </tr>\n    <tr>\n      <th>361</th>\n      <td>2019-12-28</td>\n      <td>1236.921816</td>\n      <td>1577.249349</td>\n      <td>1940.736383</td>\n      <td>1196.576138</td>\n      <td>1273.419961</td>\n      <td>523.420401</td>\n      <td>523.420401</td>\n      <td>523.420401</td>\n      <td>169.835597</td>\n      <td>169.835597</td>\n      <td>169.835597</td>\n      <td>353.584804</td>\n      <td>353.584804</td>\n      <td>353.584804</td>\n      <td>0.0</td>\n      <td>0.0</td>\n      <td>0.0</td>\n      <td>1760.342217</td>\n    </tr>\n    <tr>\n      <th>362</th>\n      <td>2019-12-29</td>\n      <td>1237.075187</td>\n      <td>1581.683438</td>\n      <td>1960.524445</td>\n      <td>1196.582267</td>\n      <td>1273.750248</td>\n      <td>532.203973</td>\n      <td>532.203973</td>\n      <td>532.203973</td>\n      <td>162.727909</td>\n      <td>162.727909</td>\n      <td>162.727909</td>\n      <td>369.476064</td>\n      <td>369.476064</td>\n      <td>369.476064</td>\n      <td>0.0</td>\n      <td>0.0</td>\n      <td>0.0</td>\n      <td>1769.279159</td>\n    </tr>\n    <tr>\n      <th>363</th>\n      <td>2019-12-30</td>\n      <td>1237.228558</td>\n      <td>1366.775438</td>\n      <td>1721.726061</td>\n      <td>1196.619957</td>\n      <td>1274.080145</td>\n      <td>305.063257</td>\n      <td>305.063257</td>\n      <td>305.063257</td>\n      <td>-76.081994</td>\n      <td>-76.081994</td>\n      <td>-76.081994</td>\n      <td>381.145251</td>\n      <td>381.145251</td>\n      <td>381.145251</td>\n      <td>0.0</td>\n      <td>0.0</td>\n      <td>0.0</td>\n      <td>1542.291814</td>\n    </tr>\n    <tr>\n      <th>364</th>\n      <td>2019-12-31</td>\n      <td>1237.381929</td>\n      <td>1363.312438</td>\n      <td>1720.347524</td>\n      <td>1196.668109</td>\n      <td>1274.392649</td>\n      <td>306.118670</td>\n      <td>306.118670</td>\n      <td>306.118670</td>\n      <td>-82.346908</td>\n      <td>-82.346908</td>\n      <td>-82.346908</td>\n      <td>388.465578</td>\n      <td>388.465578</td>\n      <td>388.465578</td>\n      <td>0.0</td>\n      <td>0.0</td>\n      <td>0.0</td>\n      <td>1543.500598</td>\n    </tr>\n  </tbody>\n</table>\n<p>365 rows × 19 columns</p>\n</div>"
     },
     "execution_count": 74,
     "metadata": {},
     "output_type": "execute_result"
    }
   ],
   "source": [
    "forcase_dict[\"Norway___KaggleRama___KagglexHat\"]"
   ],
   "metadata": {
    "collapsed": false,
    "pycharm": {
     "name": "#%%\n"
    }
   }
  },
  {
   "cell_type": "markdown",
   "source": [
    "## try something"
   ],
   "metadata": {
    "collapsed": false,
    "pycharm": {
     "name": "#%% md\n"
    }
   }
  },
  {
   "cell_type": "code",
   "execution_count": 75,
   "outputs": [],
   "source": [
    "store_name = \"Norway___KaggleRama___KagglexHat\"\n",
    "df_meow = df_test[[\"date\"]].drop_duplicates().reset_index().drop(\"index\", axis=1)\n",
    "# df_meow[\"num_sold\"] = forcase_dict[store_name][\"yhat\"]\n",
    "# df_meow[\"store_name\"] = store_name"
   ],
   "metadata": {
    "collapsed": false,
    "pycharm": {
     "name": "#%%\n"
    }
   }
  },
  {
   "cell_type": "code",
   "execution_count": 76,
   "outputs": [
    {
     "data": {
      "text/plain": "         date\n0  2019-01-01\n1  2019-01-02\n2  2019-01-03\n3  2019-01-04\n4  2019-01-05",
      "text/html": "<div>\n<style scoped>\n    .dataframe tbody tr th:only-of-type {\n        vertical-align: middle;\n    }\n\n    .dataframe tbody tr th {\n        vertical-align: top;\n    }\n\n    .dataframe thead th {\n        text-align: right;\n    }\n</style>\n<table border=\"1\" class=\"dataframe\">\n  <thead>\n    <tr style=\"text-align: right;\">\n      <th></th>\n      <th>date</th>\n    </tr>\n  </thead>\n  <tbody>\n    <tr>\n      <th>0</th>\n      <td>2019-01-01</td>\n    </tr>\n    <tr>\n      <th>1</th>\n      <td>2019-01-02</td>\n    </tr>\n    <tr>\n      <th>2</th>\n      <td>2019-01-03</td>\n    </tr>\n    <tr>\n      <th>3</th>\n      <td>2019-01-04</td>\n    </tr>\n    <tr>\n      <th>4</th>\n      <td>2019-01-05</td>\n    </tr>\n  </tbody>\n</table>\n</div>"
     },
     "execution_count": 76,
     "metadata": {},
     "output_type": "execute_result"
    }
   ],
   "source": [
    "df_meow.head()"
   ],
   "metadata": {
    "collapsed": false,
    "pycharm": {
     "name": "#%%\n"
    }
   }
  },
  {
   "cell_type": "code",
   "execution_count": 77,
   "outputs": [],
   "source": [
    "df_meow[\"num_sold\"] = forcase_dict[store_name][\"yhat\"]\n",
    "df_meow[\"store_name\"] = store_name"
   ],
   "metadata": {
    "collapsed": false,
    "pycharm": {
     "name": "#%%\n"
    }
   }
  },
  {
   "cell_type": "code",
   "execution_count": 78,
   "outputs": [
    {
     "data": {
      "text/plain": "Empty DataFrame\nColumns: [date, num_sold, store_name]\nIndex: []",
      "text/html": "<div>\n<style scoped>\n    .dataframe tbody tr th:only-of-type {\n        vertical-align: middle;\n    }\n\n    .dataframe tbody tr th {\n        vertical-align: top;\n    }\n\n    .dataframe thead th {\n        text-align: right;\n    }\n</style>\n<table border=\"1\" class=\"dataframe\">\n  <thead>\n    <tr style=\"text-align: right;\">\n      <th></th>\n      <th>date</th>\n      <th>num_sold</th>\n      <th>store_name</th>\n    </tr>\n  </thead>\n  <tbody>\n  </tbody>\n</table>\n</div>"
     },
     "execution_count": 78,
     "metadata": {},
     "output_type": "execute_result"
    }
   ],
   "source": [
    "df_meow[df_meow[\"num_sold\"].isna()].head()"
   ],
   "metadata": {
    "collapsed": false,
    "pycharm": {
     "name": "#%%\n"
    }
   }
  },
  {
   "cell_type": "code",
   "execution_count": 79,
   "outputs": [],
   "source": [
    "# df_meow.reset_index()"
   ],
   "metadata": {
    "collapsed": false,
    "pycharm": {
     "name": "#%%\n"
    }
   }
  },
  {
   "cell_type": "markdown",
   "source": [],
   "metadata": {
    "collapsed": false
   }
  },
  {
   "cell_type": "code",
   "execution_count": 80,
   "outputs": [],
   "source": [
    "df_meow[\"num_sold\"]  = forcase_dict[store_name][\"yhat\"]"
   ],
   "metadata": {
    "collapsed": false,
    "pycharm": {
     "name": "#%%\n"
    }
   }
  },
  {
   "cell_type": "code",
   "execution_count": 81,
   "outputs": [
    {
     "data": {
      "text/plain": "           date     num_sold                        store_name\n0    2019-01-01  1490.645038  Norway___KaggleRama___KagglexHat\n1    2019-01-02  1496.098136  Norway___KaggleRama___KagglexHat\n2    2019-01-03  1491.257143  Norway___KaggleRama___KagglexHat\n3    2019-01-04  1526.719798  Norway___KaggleRama___KagglexHat\n4    2019-01-05  1709.066652  Norway___KaggleRama___KagglexHat\n..          ...          ...                               ...\n360  2019-12-27  1543.656602  Norway___KaggleRama___KagglexHat\n361  2019-12-28  1760.342217  Norway___KaggleRama___KagglexHat\n362  2019-12-29  1769.279159  Norway___KaggleRama___KagglexHat\n363  2019-12-30  1542.291814  Norway___KaggleRama___KagglexHat\n364  2019-12-31  1543.500598  Norway___KaggleRama___KagglexHat\n\n[365 rows x 3 columns]",
      "text/html": "<div>\n<style scoped>\n    .dataframe tbody tr th:only-of-type {\n        vertical-align: middle;\n    }\n\n    .dataframe tbody tr th {\n        vertical-align: top;\n    }\n\n    .dataframe thead th {\n        text-align: right;\n    }\n</style>\n<table border=\"1\" class=\"dataframe\">\n  <thead>\n    <tr style=\"text-align: right;\">\n      <th></th>\n      <th>date</th>\n      <th>num_sold</th>\n      <th>store_name</th>\n    </tr>\n  </thead>\n  <tbody>\n    <tr>\n      <th>0</th>\n      <td>2019-01-01</td>\n      <td>1490.645038</td>\n      <td>Norway___KaggleRama___KagglexHat</td>\n    </tr>\n    <tr>\n      <th>1</th>\n      <td>2019-01-02</td>\n      <td>1496.098136</td>\n      <td>Norway___KaggleRama___KagglexHat</td>\n    </tr>\n    <tr>\n      <th>2</th>\n      <td>2019-01-03</td>\n      <td>1491.257143</td>\n      <td>Norway___KaggleRama___KagglexHat</td>\n    </tr>\n    <tr>\n      <th>3</th>\n      <td>2019-01-04</td>\n      <td>1526.719798</td>\n      <td>Norway___KaggleRama___KagglexHat</td>\n    </tr>\n    <tr>\n      <th>4</th>\n      <td>2019-01-05</td>\n      <td>1709.066652</td>\n      <td>Norway___KaggleRama___KagglexHat</td>\n    </tr>\n    <tr>\n      <th>...</th>\n      <td>...</td>\n      <td>...</td>\n      <td>...</td>\n    </tr>\n    <tr>\n      <th>360</th>\n      <td>2019-12-27</td>\n      <td>1543.656602</td>\n      <td>Norway___KaggleRama___KagglexHat</td>\n    </tr>\n    <tr>\n      <th>361</th>\n      <td>2019-12-28</td>\n      <td>1760.342217</td>\n      <td>Norway___KaggleRama___KagglexHat</td>\n    </tr>\n    <tr>\n      <th>362</th>\n      <td>2019-12-29</td>\n      <td>1769.279159</td>\n      <td>Norway___KaggleRama___KagglexHat</td>\n    </tr>\n    <tr>\n      <th>363</th>\n      <td>2019-12-30</td>\n      <td>1542.291814</td>\n      <td>Norway___KaggleRama___KagglexHat</td>\n    </tr>\n    <tr>\n      <th>364</th>\n      <td>2019-12-31</td>\n      <td>1543.500598</td>\n      <td>Norway___KaggleRama___KagglexHat</td>\n    </tr>\n  </tbody>\n</table>\n<p>365 rows × 3 columns</p>\n</div>"
     },
     "execution_count": 81,
     "metadata": {},
     "output_type": "execute_result"
    }
   ],
   "source": [
    "df_meow"
   ],
   "metadata": {
    "collapsed": false,
    "pycharm": {
     "name": "#%%\n"
    }
   }
  },
  {
   "cell_type": "code",
   "execution_count": 81,
   "outputs": [],
   "source": [],
   "metadata": {
    "collapsed": false,
    "pycharm": {
     "name": "#%%\n"
    }
   }
  }
 ],
 "metadata": {
  "kernelspec": {
   "display_name": "Python 3",
   "language": "python",
   "name": "python3"
  },
  "language_info": {
   "codemirror_mode": {
    "name": "ipython",
    "version": 2
   },
   "file_extension": ".py",
   "mimetype": "text/x-python",
   "name": "python",
   "nbconvert_exporter": "python",
   "pygments_lexer": "ipython2",
   "version": "2.7.6"
  }
 },
 "nbformat": 4,
 "nbformat_minor": 0
}