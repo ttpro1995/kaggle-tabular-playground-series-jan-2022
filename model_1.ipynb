{
 "cells": [
  {
   "cell_type": "code",
   "execution_count": 76,
   "metadata": {
    "collapsed": true
   },
   "outputs": [],
   "source": [
    "import pandas as pd\n",
    "import seaborn as sns\n",
    "import prophet\n",
    "import swifter\n",
    "from prophet import Prophet\n",
    "from tqdm import tqdm"
   ]
  },
  {
   "cell_type": "code",
   "execution_count": 3,
   "outputs": [],
   "source": [
    "df = pd.read_csv(\"/data/kaggle/tabular-playground-series-jan-2022/train.csv\")"
   ],
   "metadata": {
    "collapsed": false,
    "pycharm": {
     "name": "#%%\n"
    }
   }
  },
  {
   "cell_type": "code",
   "execution_count": 57,
   "outputs": [],
   "source": [
    "df_test = pd.read_csv(\"/data/kaggle/tabular-playground-series-jan-2022/test.csv\")"
   ],
   "metadata": {
    "collapsed": false,
    "pycharm": {
     "name": "#%%\n"
    }
   }
  },
  {
   "cell_type": "code",
   "execution_count": 4,
   "outputs": [
    {
     "data": {
      "text/plain": "   row_id        date  country       store         product  num_sold\n0       0  2015-01-01  Finland  KaggleMart      Kaggle Mug       329\n1       1  2015-01-01  Finland  KaggleMart      Kaggle Hat       520\n2       2  2015-01-01  Finland  KaggleMart  Kaggle Sticker       146\n3       3  2015-01-01  Finland  KaggleRama      Kaggle Mug       572\n4       4  2015-01-01  Finland  KaggleRama      Kaggle Hat       911",
      "text/html": "<div>\n<style scoped>\n    .dataframe tbody tr th:only-of-type {\n        vertical-align: middle;\n    }\n\n    .dataframe tbody tr th {\n        vertical-align: top;\n    }\n\n    .dataframe thead th {\n        text-align: right;\n    }\n</style>\n<table border=\"1\" class=\"dataframe\">\n  <thead>\n    <tr style=\"text-align: right;\">\n      <th></th>\n      <th>row_id</th>\n      <th>date</th>\n      <th>country</th>\n      <th>store</th>\n      <th>product</th>\n      <th>num_sold</th>\n    </tr>\n  </thead>\n  <tbody>\n    <tr>\n      <th>0</th>\n      <td>0</td>\n      <td>2015-01-01</td>\n      <td>Finland</td>\n      <td>KaggleMart</td>\n      <td>Kaggle Mug</td>\n      <td>329</td>\n    </tr>\n    <tr>\n      <th>1</th>\n      <td>1</td>\n      <td>2015-01-01</td>\n      <td>Finland</td>\n      <td>KaggleMart</td>\n      <td>Kaggle Hat</td>\n      <td>520</td>\n    </tr>\n    <tr>\n      <th>2</th>\n      <td>2</td>\n      <td>2015-01-01</td>\n      <td>Finland</td>\n      <td>KaggleMart</td>\n      <td>Kaggle Sticker</td>\n      <td>146</td>\n    </tr>\n    <tr>\n      <th>3</th>\n      <td>3</td>\n      <td>2015-01-01</td>\n      <td>Finland</td>\n      <td>KaggleRama</td>\n      <td>Kaggle Mug</td>\n      <td>572</td>\n    </tr>\n    <tr>\n      <th>4</th>\n      <td>4</td>\n      <td>2015-01-01</td>\n      <td>Finland</td>\n      <td>KaggleRama</td>\n      <td>Kaggle Hat</td>\n      <td>911</td>\n    </tr>\n  </tbody>\n</table>\n</div>"
     },
     "execution_count": 4,
     "metadata": {},
     "output_type": "execute_result"
    }
   ],
   "source": [
    "df.head()"
   ],
   "metadata": {
    "collapsed": false,
    "pycharm": {
     "name": "#%%\n"
    }
   }
  },
  {
   "cell_type": "markdown",
   "source": [
    "# preprocess"
   ],
   "metadata": {
    "collapsed": false,
    "pycharm": {
     "name": "#%% md\n"
    }
   }
  },
  {
   "cell_type": "markdown",
   "source": [
    "We link country, store, product together"
   ],
   "metadata": {
    "collapsed": false,
    "pycharm": {
     "name": "#%% md\n"
    }
   }
  },
  {
   "cell_type": "code",
   "execution_count": 26,
   "outputs": [],
   "source": [
    "def link_store(row):\n",
    "    sep = \"___\"\n",
    "    store_name = row[\"country\"] + sep + row[\"store\"] + sep + row[\"product\"].replace(\" \", \"x\")\n",
    "    row[\"store_name\"] = store_name\n",
    "    return row"
   ],
   "metadata": {
    "collapsed": false,
    "pycharm": {
     "name": "#%%\n"
    }
   }
  },
  {
   "cell_type": "code",
   "execution_count": 27,
   "outputs": [],
   "source": [
    "df_small = df.head()"
   ],
   "metadata": {
    "collapsed": false,
    "pycharm": {
     "name": "#%%\n"
    }
   }
  },
  {
   "cell_type": "code",
   "execution_count": 28,
   "outputs": [
    {
     "data": {
      "text/plain": "   row_id        date  country       store         product  num_sold  \\\n0       0  2015-01-01  Finland  KaggleMart      Kaggle Mug       329   \n1       1  2015-01-01  Finland  KaggleMart      Kaggle Hat       520   \n2       2  2015-01-01  Finland  KaggleMart  Kaggle Sticker       146   \n3       3  2015-01-01  Finland  KaggleRama      Kaggle Mug       572   \n4       4  2015-01-01  Finland  KaggleRama      Kaggle Hat       911   \n\n                              store_name  \n0      Finland___KaggleMart___KagglexMug  \n1      Finland___KaggleMart___KagglexHat  \n2  Finland___KaggleMart___KagglexSticker  \n3      Finland___KaggleRama___KagglexMug  \n4      Finland___KaggleRama___KagglexHat  ",
      "text/html": "<div>\n<style scoped>\n    .dataframe tbody tr th:only-of-type {\n        vertical-align: middle;\n    }\n\n    .dataframe tbody tr th {\n        vertical-align: top;\n    }\n\n    .dataframe thead th {\n        text-align: right;\n    }\n</style>\n<table border=\"1\" class=\"dataframe\">\n  <thead>\n    <tr style=\"text-align: right;\">\n      <th></th>\n      <th>row_id</th>\n      <th>date</th>\n      <th>country</th>\n      <th>store</th>\n      <th>product</th>\n      <th>num_sold</th>\n      <th>store_name</th>\n    </tr>\n  </thead>\n  <tbody>\n    <tr>\n      <th>0</th>\n      <td>0</td>\n      <td>2015-01-01</td>\n      <td>Finland</td>\n      <td>KaggleMart</td>\n      <td>Kaggle Mug</td>\n      <td>329</td>\n      <td>Finland___KaggleMart___KagglexMug</td>\n    </tr>\n    <tr>\n      <th>1</th>\n      <td>1</td>\n      <td>2015-01-01</td>\n      <td>Finland</td>\n      <td>KaggleMart</td>\n      <td>Kaggle Hat</td>\n      <td>520</td>\n      <td>Finland___KaggleMart___KagglexHat</td>\n    </tr>\n    <tr>\n      <th>2</th>\n      <td>2</td>\n      <td>2015-01-01</td>\n      <td>Finland</td>\n      <td>KaggleMart</td>\n      <td>Kaggle Sticker</td>\n      <td>146</td>\n      <td>Finland___KaggleMart___KagglexSticker</td>\n    </tr>\n    <tr>\n      <th>3</th>\n      <td>3</td>\n      <td>2015-01-01</td>\n      <td>Finland</td>\n      <td>KaggleRama</td>\n      <td>Kaggle Mug</td>\n      <td>572</td>\n      <td>Finland___KaggleRama___KagglexMug</td>\n    </tr>\n    <tr>\n      <th>4</th>\n      <td>4</td>\n      <td>2015-01-01</td>\n      <td>Finland</td>\n      <td>KaggleRama</td>\n      <td>Kaggle Hat</td>\n      <td>911</td>\n      <td>Finland___KaggleRama___KagglexHat</td>\n    </tr>\n  </tbody>\n</table>\n</div>"
     },
     "execution_count": 28,
     "metadata": {},
     "output_type": "execute_result"
    }
   ],
   "source": [
    "r1 = df_small.apply(link_store, axis=1)\n",
    "r1.head()"
   ],
   "metadata": {
    "collapsed": false,
    "pycharm": {
     "name": "#%%\n"
    }
   }
  },
  {
   "cell_type": "code",
   "execution_count": 29,
   "outputs": [],
   "source": [
    "df2 = df.swifter.apply(link_store, axis=1)"
   ],
   "metadata": {
    "collapsed": false,
    "pycharm": {
     "name": "#%%\n"
    }
   }
  },
  {
   "cell_type": "code",
   "execution_count": 30,
   "outputs": [
    {
     "data": {
      "text/plain": "   row_id        date  country       store         product  num_sold  \\\n0       0  2015-01-01  Finland  KaggleMart      Kaggle Mug       329   \n1       1  2015-01-01  Finland  KaggleMart      Kaggle Hat       520   \n2       2  2015-01-01  Finland  KaggleMart  Kaggle Sticker       146   \n3       3  2015-01-01  Finland  KaggleRama      Kaggle Mug       572   \n4       4  2015-01-01  Finland  KaggleRama      Kaggle Hat       911   \n\n                              store_name  \n0      Finland___KaggleMart___KagglexMug  \n1      Finland___KaggleMart___KagglexHat  \n2  Finland___KaggleMart___KagglexSticker  \n3      Finland___KaggleRama___KagglexMug  \n4      Finland___KaggleRama___KagglexHat  ",
      "text/html": "<div>\n<style scoped>\n    .dataframe tbody tr th:only-of-type {\n        vertical-align: middle;\n    }\n\n    .dataframe tbody tr th {\n        vertical-align: top;\n    }\n\n    .dataframe thead th {\n        text-align: right;\n    }\n</style>\n<table border=\"1\" class=\"dataframe\">\n  <thead>\n    <tr style=\"text-align: right;\">\n      <th></th>\n      <th>row_id</th>\n      <th>date</th>\n      <th>country</th>\n      <th>store</th>\n      <th>product</th>\n      <th>num_sold</th>\n      <th>store_name</th>\n    </tr>\n  </thead>\n  <tbody>\n    <tr>\n      <th>0</th>\n      <td>0</td>\n      <td>2015-01-01</td>\n      <td>Finland</td>\n      <td>KaggleMart</td>\n      <td>Kaggle Mug</td>\n      <td>329</td>\n      <td>Finland___KaggleMart___KagglexMug</td>\n    </tr>\n    <tr>\n      <th>1</th>\n      <td>1</td>\n      <td>2015-01-01</td>\n      <td>Finland</td>\n      <td>KaggleMart</td>\n      <td>Kaggle Hat</td>\n      <td>520</td>\n      <td>Finland___KaggleMart___KagglexHat</td>\n    </tr>\n    <tr>\n      <th>2</th>\n      <td>2</td>\n      <td>2015-01-01</td>\n      <td>Finland</td>\n      <td>KaggleMart</td>\n      <td>Kaggle Sticker</td>\n      <td>146</td>\n      <td>Finland___KaggleMart___KagglexSticker</td>\n    </tr>\n    <tr>\n      <th>3</th>\n      <td>3</td>\n      <td>2015-01-01</td>\n      <td>Finland</td>\n      <td>KaggleRama</td>\n      <td>Kaggle Mug</td>\n      <td>572</td>\n      <td>Finland___KaggleRama___KagglexMug</td>\n    </tr>\n    <tr>\n      <th>4</th>\n      <td>4</td>\n      <td>2015-01-01</td>\n      <td>Finland</td>\n      <td>KaggleRama</td>\n      <td>Kaggle Hat</td>\n      <td>911</td>\n      <td>Finland___KaggleRama___KagglexHat</td>\n    </tr>\n  </tbody>\n</table>\n</div>"
     },
     "execution_count": 30,
     "metadata": {},
     "output_type": "execute_result"
    }
   ],
   "source": [
    "df2.head()"
   ],
   "metadata": {
    "collapsed": false,
    "pycharm": {
     "name": "#%%\n"
    }
   }
  },
  {
   "cell_type": "code",
   "execution_count": 31,
   "outputs": [
    {
     "data": {
      "text/plain": "(26298, 7)"
     },
     "execution_count": 31,
     "metadata": {},
     "output_type": "execute_result"
    }
   ],
   "source": [
    "df2.shape"
   ],
   "metadata": {
    "collapsed": false,
    "pycharm": {
     "name": "#%%\n"
    }
   }
  },
  {
   "cell_type": "code",
   "execution_count": 32,
   "outputs": [],
   "source": [
    "df3 = df2[[\"row_id\", \"date\", \"store_name\", \"num_sold\"]]"
   ],
   "metadata": {
    "collapsed": false,
    "pycharm": {
     "name": "#%%\n"
    }
   }
  },
  {
   "cell_type": "code",
   "execution_count": 33,
   "outputs": [
    {
     "data": {
      "text/plain": "   row_id        date                             store_name  num_sold\n0       0  2015-01-01      Finland___KaggleMart___KagglexMug       329\n1       1  2015-01-01      Finland___KaggleMart___KagglexHat       520\n2       2  2015-01-01  Finland___KaggleMart___KagglexSticker       146\n3       3  2015-01-01      Finland___KaggleRama___KagglexMug       572\n4       4  2015-01-01      Finland___KaggleRama___KagglexHat       911",
      "text/html": "<div>\n<style scoped>\n    .dataframe tbody tr th:only-of-type {\n        vertical-align: middle;\n    }\n\n    .dataframe tbody tr th {\n        vertical-align: top;\n    }\n\n    .dataframe thead th {\n        text-align: right;\n    }\n</style>\n<table border=\"1\" class=\"dataframe\">\n  <thead>\n    <tr style=\"text-align: right;\">\n      <th></th>\n      <th>row_id</th>\n      <th>date</th>\n      <th>store_name</th>\n      <th>num_sold</th>\n    </tr>\n  </thead>\n  <tbody>\n    <tr>\n      <th>0</th>\n      <td>0</td>\n      <td>2015-01-01</td>\n      <td>Finland___KaggleMart___KagglexMug</td>\n      <td>329</td>\n    </tr>\n    <tr>\n      <th>1</th>\n      <td>1</td>\n      <td>2015-01-01</td>\n      <td>Finland___KaggleMart___KagglexHat</td>\n      <td>520</td>\n    </tr>\n    <tr>\n      <th>2</th>\n      <td>2</td>\n      <td>2015-01-01</td>\n      <td>Finland___KaggleMart___KagglexSticker</td>\n      <td>146</td>\n    </tr>\n    <tr>\n      <th>3</th>\n      <td>3</td>\n      <td>2015-01-01</td>\n      <td>Finland___KaggleRama___KagglexMug</td>\n      <td>572</td>\n    </tr>\n    <tr>\n      <th>4</th>\n      <td>4</td>\n      <td>2015-01-01</td>\n      <td>Finland___KaggleRama___KagglexHat</td>\n      <td>911</td>\n    </tr>\n  </tbody>\n</table>\n</div>"
     },
     "execution_count": 33,
     "metadata": {},
     "output_type": "execute_result"
    }
   ],
   "source": [
    "df3.head()"
   ],
   "metadata": {
    "collapsed": false,
    "pycharm": {
     "name": "#%%\n"
    }
   }
  },
  {
   "cell_type": "code",
   "execution_count": 34,
   "outputs": [],
   "source": [
    "df4 = df3[[\"date\", \"store_name\", \"num_sold\"]]"
   ],
   "metadata": {
    "collapsed": false,
    "pycharm": {
     "name": "#%%\n"
    }
   }
  },
  {
   "cell_type": "code",
   "execution_count": 35,
   "outputs": [
    {
     "data": {
      "text/plain": "         date                             store_name  num_sold\n0  2015-01-01      Finland___KaggleMart___KagglexMug       329\n1  2015-01-01      Finland___KaggleMart___KagglexHat       520\n2  2015-01-01  Finland___KaggleMart___KagglexSticker       146\n3  2015-01-01      Finland___KaggleRama___KagglexMug       572\n4  2015-01-01      Finland___KaggleRama___KagglexHat       911",
      "text/html": "<div>\n<style scoped>\n    .dataframe tbody tr th:only-of-type {\n        vertical-align: middle;\n    }\n\n    .dataframe tbody tr th {\n        vertical-align: top;\n    }\n\n    .dataframe thead th {\n        text-align: right;\n    }\n</style>\n<table border=\"1\" class=\"dataframe\">\n  <thead>\n    <tr style=\"text-align: right;\">\n      <th></th>\n      <th>date</th>\n      <th>store_name</th>\n      <th>num_sold</th>\n    </tr>\n  </thead>\n  <tbody>\n    <tr>\n      <th>0</th>\n      <td>2015-01-01</td>\n      <td>Finland___KaggleMart___KagglexMug</td>\n      <td>329</td>\n    </tr>\n    <tr>\n      <th>1</th>\n      <td>2015-01-01</td>\n      <td>Finland___KaggleMart___KagglexHat</td>\n      <td>520</td>\n    </tr>\n    <tr>\n      <th>2</th>\n      <td>2015-01-01</td>\n      <td>Finland___KaggleMart___KagglexSticker</td>\n      <td>146</td>\n    </tr>\n    <tr>\n      <th>3</th>\n      <td>2015-01-01</td>\n      <td>Finland___KaggleRama___KagglexMug</td>\n      <td>572</td>\n    </tr>\n    <tr>\n      <th>4</th>\n      <td>2015-01-01</td>\n      <td>Finland___KaggleRama___KagglexHat</td>\n      <td>911</td>\n    </tr>\n  </tbody>\n</table>\n</div>"
     },
     "execution_count": 35,
     "metadata": {},
     "output_type": "execute_result"
    }
   ],
   "source": [
    "df4.head()"
   ],
   "metadata": {
    "collapsed": false,
    "pycharm": {
     "name": "#%%\n"
    }
   }
  },
  {
   "cell_type": "code",
   "execution_count": 37,
   "outputs": [],
   "source": [
    "df_pivot1 = pd.pivot_table(df4, index=\"date\", columns=\"store_name\", values=\"num_sold\")"
   ],
   "metadata": {
    "collapsed": false,
    "pycharm": {
     "name": "#%%\n"
    }
   }
  },
  {
   "cell_type": "code",
   "execution_count": 39,
   "outputs": [
    {
     "data": {
      "text/plain": "store_name  Finland___KaggleMart___KagglexHat  \\\ndate                                            \n2015-01-01                                520   \n2015-01-02                                493   \n2015-01-03                                535   \n2015-01-04                                544   \n2015-01-05                                378   \n\nstore_name  Finland___KaggleMart___KagglexMug  \\\ndate                                            \n2015-01-01                                329   \n2015-01-02                                318   \n2015-01-03                                360   \n2015-01-04                                332   \n2015-01-05                                243   \n\nstore_name  Finland___KaggleMart___KagglexSticker  \\\ndate                                                \n2015-01-01                                    146   \n2015-01-02                                    127   \n2015-01-03                                    141   \n2015-01-04                                    125   \n2015-01-05                                    102   \n\nstore_name  Finland___KaggleRama___KagglexHat  \\\ndate                                            \n2015-01-01                                911   \n2015-01-02                                794   \n2015-01-03                                843   \n2015-01-04                                873   \n2015-01-05                                668   \n\nstore_name  Finland___KaggleRama___KagglexMug  \\\ndate                                            \n2015-01-01                                572   \n2015-01-02                                544   \n2015-01-03                                579   \n2015-01-04                                582   \n2015-01-05                                423   \n\nstore_name  Finland___KaggleRama___KagglexSticker  \\\ndate                                                \n2015-01-01                                    283   \n2015-01-02                                    249   \n2015-01-03                                    265   \n2015-01-04                                    245   \n2015-01-05                                    187   \n\nstore_name  Norway___KaggleMart___KagglexHat  \\\ndate                                           \n2015-01-01                               906   \n2015-01-02                               845   \n2015-01-03                               930   \n2015-01-04                               889   \n2015-01-05                               671   \n\nstore_name  Norway___KaggleMart___KagglexMug  \\\ndate                                           \n2015-01-01                               526   \n2015-01-02                               538   \n2015-01-03                               614   \n2015-01-04                               589   \n2015-01-05                               435   \n\nstore_name  Norway___KaggleMart___KagglexSticker  \\\ndate                                               \n2015-01-01                                   250   \n2015-01-02                                   237   \n2015-01-03                                   254   \n2015-01-04                                   255   \n2015-01-05                                   184   \n\nstore_name  Norway___KaggleRama___KagglexHat  \\\ndate                                           \n2015-01-01                              1461   \n2015-01-02                              1446   \n2015-01-03                              1631   \n2015-01-04                              1540   \n2015-01-05                              1126   \n\nstore_name  Norway___KaggleRama___KagglexMug  \\\ndate                                           \n2015-01-01                              1005   \n2015-01-02                               949   \n2015-01-03                              1029   \n2015-01-04                               957   \n2015-01-05                               739   \n\nstore_name  Norway___KaggleRama___KagglexSticker  \\\ndate                                               \n2015-01-01                                   395   \n2015-01-02                                   415   \n2015-01-03                                   451   \n2015-01-04                                   455   \n2015-01-05                                   310   \n\nstore_name  Sweden___KaggleMart___KagglexHat  \\\ndate                                           \n2015-01-01                               624   \n2015-01-02                               572   \n2015-01-03                               630   \n2015-01-04                               697   \n2015-01-05                               442   \n\nstore_name  Sweden___KaggleMart___KagglexMug  \\\ndate                                           \n2015-01-01                               440   \n2015-01-02                               384   \n2015-01-03                               420   \n2015-01-04                               406   \n2015-01-05                               298   \n\nstore_name  Sweden___KaggleMart___KagglexSticker  \\\ndate                                               \n2015-01-01                                   175   \n2015-01-02                                   155   \n2015-01-03                                   173   \n2015-01-04                                   169   \n2015-01-05                                   127   \n\nstore_name  Sweden___KaggleRama___KagglexHat  \\\ndate                                           \n2015-01-01                              1195   \n2015-01-02                               986   \n2015-01-03                              1167   \n2015-01-04                              1112   \n2015-01-05                               796   \n\nstore_name  Sweden___KaggleRama___KagglexMug  \\\ndate                                           \n2015-01-01                               706   \n2015-01-02                               653   \n2015-01-03                               734   \n2015-01-04                               657   \n2015-01-05                               512   \n\nstore_name  Sweden___KaggleRama___KagglexSticker  \ndate                                              \n2015-01-01                                   324  \n2015-01-02                                   293  \n2015-01-03                                   319  \n2015-01-04                                   300  \n2015-01-05                                   227  ",
      "text/html": "<div>\n<style scoped>\n    .dataframe tbody tr th:only-of-type {\n        vertical-align: middle;\n    }\n\n    .dataframe tbody tr th {\n        vertical-align: top;\n    }\n\n    .dataframe thead th {\n        text-align: right;\n    }\n</style>\n<table border=\"1\" class=\"dataframe\">\n  <thead>\n    <tr style=\"text-align: right;\">\n      <th>store_name</th>\n      <th>Finland___KaggleMart___KagglexHat</th>\n      <th>Finland___KaggleMart___KagglexMug</th>\n      <th>Finland___KaggleMart___KagglexSticker</th>\n      <th>Finland___KaggleRama___KagglexHat</th>\n      <th>Finland___KaggleRama___KagglexMug</th>\n      <th>Finland___KaggleRama___KagglexSticker</th>\n      <th>Norway___KaggleMart___KagglexHat</th>\n      <th>Norway___KaggleMart___KagglexMug</th>\n      <th>Norway___KaggleMart___KagglexSticker</th>\n      <th>Norway___KaggleRama___KagglexHat</th>\n      <th>Norway___KaggleRama___KagglexMug</th>\n      <th>Norway___KaggleRama___KagglexSticker</th>\n      <th>Sweden___KaggleMart___KagglexHat</th>\n      <th>Sweden___KaggleMart___KagglexMug</th>\n      <th>Sweden___KaggleMart___KagglexSticker</th>\n      <th>Sweden___KaggleRama___KagglexHat</th>\n      <th>Sweden___KaggleRama___KagglexMug</th>\n      <th>Sweden___KaggleRama___KagglexSticker</th>\n    </tr>\n    <tr>\n      <th>date</th>\n      <th></th>\n      <th></th>\n      <th></th>\n      <th></th>\n      <th></th>\n      <th></th>\n      <th></th>\n      <th></th>\n      <th></th>\n      <th></th>\n      <th></th>\n      <th></th>\n      <th></th>\n      <th></th>\n      <th></th>\n      <th></th>\n      <th></th>\n      <th></th>\n    </tr>\n  </thead>\n  <tbody>\n    <tr>\n      <th>2015-01-01</th>\n      <td>520</td>\n      <td>329</td>\n      <td>146</td>\n      <td>911</td>\n      <td>572</td>\n      <td>283</td>\n      <td>906</td>\n      <td>526</td>\n      <td>250</td>\n      <td>1461</td>\n      <td>1005</td>\n      <td>395</td>\n      <td>624</td>\n      <td>440</td>\n      <td>175</td>\n      <td>1195</td>\n      <td>706</td>\n      <td>324</td>\n    </tr>\n    <tr>\n      <th>2015-01-02</th>\n      <td>493</td>\n      <td>318</td>\n      <td>127</td>\n      <td>794</td>\n      <td>544</td>\n      <td>249</td>\n      <td>845</td>\n      <td>538</td>\n      <td>237</td>\n      <td>1446</td>\n      <td>949</td>\n      <td>415</td>\n      <td>572</td>\n      <td>384</td>\n      <td>155</td>\n      <td>986</td>\n      <td>653</td>\n      <td>293</td>\n    </tr>\n    <tr>\n      <th>2015-01-03</th>\n      <td>535</td>\n      <td>360</td>\n      <td>141</td>\n      <td>843</td>\n      <td>579</td>\n      <td>265</td>\n      <td>930</td>\n      <td>614</td>\n      <td>254</td>\n      <td>1631</td>\n      <td>1029</td>\n      <td>451</td>\n      <td>630</td>\n      <td>420</td>\n      <td>173</td>\n      <td>1167</td>\n      <td>734</td>\n      <td>319</td>\n    </tr>\n    <tr>\n      <th>2015-01-04</th>\n      <td>544</td>\n      <td>332</td>\n      <td>125</td>\n      <td>873</td>\n      <td>582</td>\n      <td>245</td>\n      <td>889</td>\n      <td>589</td>\n      <td>255</td>\n      <td>1540</td>\n      <td>957</td>\n      <td>455</td>\n      <td>697</td>\n      <td>406</td>\n      <td>169</td>\n      <td>1112</td>\n      <td>657</td>\n      <td>300</td>\n    </tr>\n    <tr>\n      <th>2015-01-05</th>\n      <td>378</td>\n      <td>243</td>\n      <td>102</td>\n      <td>668</td>\n      <td>423</td>\n      <td>187</td>\n      <td>671</td>\n      <td>435</td>\n      <td>184</td>\n      <td>1126</td>\n      <td>739</td>\n      <td>310</td>\n      <td>442</td>\n      <td>298</td>\n      <td>127</td>\n      <td>796</td>\n      <td>512</td>\n      <td>227</td>\n    </tr>\n  </tbody>\n</table>\n</div>"
     },
     "execution_count": 39,
     "metadata": {},
     "output_type": "execute_result"
    }
   ],
   "source": [
    "df_pivot1.head()"
   ],
   "metadata": {
    "collapsed": false,
    "pycharm": {
     "name": "#%%\n"
    }
   }
  },
  {
   "cell_type": "markdown",
   "source": [
    "# 2. model"
   ],
   "metadata": {
    "collapsed": false,
    "pycharm": {
     "name": "#%% md\n"
    }
   }
  },
  {
   "cell_type": "code",
   "execution_count": 54,
   "outputs": [],
   "source": [
    "m = Prophet()"
   ],
   "metadata": {
    "collapsed": false,
    "pycharm": {
     "name": "#%%\n"
    }
   }
  },
  {
   "cell_type": "code",
   "execution_count": 45,
   "outputs": [
    {
     "data": {
      "text/plain": "['Finland___KaggleMart___KagglexHat',\n 'Finland___KaggleMart___KagglexMug',\n 'Finland___KaggleMart___KagglexSticker',\n 'Finland___KaggleRama___KagglexHat',\n 'Finland___KaggleRama___KagglexMug',\n 'Finland___KaggleRama___KagglexSticker',\n 'Norway___KaggleMart___KagglexHat',\n 'Norway___KaggleMart___KagglexMug',\n 'Norway___KaggleMart___KagglexSticker',\n 'Norway___KaggleRama___KagglexHat',\n 'Norway___KaggleRama___KagglexMug',\n 'Norway___KaggleRama___KagglexSticker',\n 'Sweden___KaggleMart___KagglexHat',\n 'Sweden___KaggleMart___KagglexMug',\n 'Sweden___KaggleMart___KagglexSticker',\n 'Sweden___KaggleRama___KagglexHat',\n 'Sweden___KaggleRama___KagglexMug',\n 'Sweden___KaggleRama___KagglexSticker']"
     },
     "execution_count": 45,
     "metadata": {},
     "output_type": "execute_result"
    }
   ],
   "source": [
    "list(df_pivot1.columns)"
   ],
   "metadata": {
    "collapsed": false,
    "pycharm": {
     "name": "#%%\n"
    }
   }
  },
  {
   "cell_type": "code",
   "execution_count": 47,
   "outputs": [
    {
     "data": {
      "text/plain": "Index(['2015-01-01', '2015-01-02', '2015-01-03', '2015-01-04', '2015-01-05',\n       '2015-01-06', '2015-01-07', '2015-01-08', '2015-01-09', '2015-01-10',\n       ...\n       '2018-12-22', '2018-12-23', '2018-12-24', '2018-12-25', '2018-12-26',\n       '2018-12-27', '2018-12-28', '2018-12-29', '2018-12-30', '2018-12-31'],\n      dtype='object', name='date', length=1461)"
     },
     "execution_count": 47,
     "metadata": {},
     "output_type": "execute_result"
    }
   ],
   "source": [
    "df_pivot1.index"
   ],
   "metadata": {
    "collapsed": false,
    "pycharm": {
     "name": "#%%\n"
    }
   }
  },
  {
   "cell_type": "code",
   "execution_count": 51,
   "outputs": [],
   "source": [
    "df_sample = pd.DataFrame(data={\"ds\": df_pivot1.index, \"y\": df_pivot1[\"Finland___KaggleMart___KagglexHat\"]})"
   ],
   "metadata": {
    "collapsed": false,
    "pycharm": {
     "name": "#%%\n"
    }
   }
  },
  {
   "cell_type": "code",
   "execution_count": 55,
   "outputs": [
    {
     "data": {
      "text/plain": "<prophet.forecaster.Prophet at 0x7f37fc3c0dc0>"
     },
     "execution_count": 55,
     "metadata": {},
     "output_type": "execute_result"
    }
   ],
   "source": [
    "m.fit(df_sample)"
   ],
   "metadata": {
    "collapsed": false,
    "pycharm": {
     "name": "#%%\n"
    }
   }
  },
  {
   "cell_type": "code",
   "execution_count": 56,
   "outputs": [
    {
     "data": {
      "text/plain": "          ds\n0 2015-01-01\n1 2015-01-02\n2 2015-01-03\n3 2015-01-04\n4 2015-01-05",
      "text/html": "<div>\n<style scoped>\n    .dataframe tbody tr th:only-of-type {\n        vertical-align: middle;\n    }\n\n    .dataframe tbody tr th {\n        vertical-align: top;\n    }\n\n    .dataframe thead th {\n        text-align: right;\n    }\n</style>\n<table border=\"1\" class=\"dataframe\">\n  <thead>\n    <tr style=\"text-align: right;\">\n      <th></th>\n      <th>ds</th>\n    </tr>\n  </thead>\n  <tbody>\n    <tr>\n      <th>0</th>\n      <td>2015-01-01</td>\n    </tr>\n    <tr>\n      <th>1</th>\n      <td>2015-01-02</td>\n    </tr>\n    <tr>\n      <th>2</th>\n      <td>2015-01-03</td>\n    </tr>\n    <tr>\n      <th>3</th>\n      <td>2015-01-04</td>\n    </tr>\n    <tr>\n      <th>4</th>\n      <td>2015-01-05</td>\n    </tr>\n  </tbody>\n</table>\n</div>"
     },
     "execution_count": 56,
     "metadata": {},
     "output_type": "execute_result"
    }
   ],
   "source": [
    "future = m.make_future_dataframe(periods=365)\n",
    "future.head()"
   ],
   "metadata": {
    "collapsed": false,
    "pycharm": {
     "name": "#%%\n"
    }
   }
  },
  {
   "cell_type": "code",
   "execution_count": 62,
   "outputs": [],
   "source": [
    "df_test_date = df_test[[\"date\"]]\n",
    "df_test_date.columns = [\"ds\"]"
   ],
   "metadata": {
    "collapsed": false,
    "pycharm": {
     "name": "#%%\n"
    }
   }
  },
  {
   "cell_type": "code",
   "execution_count": 64,
   "outputs": [],
   "source": [
    "df_forecast = m.predict(df_test_date)"
   ],
   "metadata": {
    "collapsed": false,
    "pycharm": {
     "name": "#%%\n"
    }
   }
  },
  {
   "cell_type": "code",
   "execution_count": 65,
   "outputs": [
    {
     "data": {
      "text/plain": "<Figure size 720x432 with 1 Axes>",
      "image/png": "[encoded data removed]"
     },
     "metadata": {},
     "output_type": "display_data"
    }
   ],
   "source": [
    "fig1 = m.plot(df_forecast)"
   ],
   "metadata": {
    "collapsed": false,
    "pycharm": {
     "name": "#%%\n"
    }
   }
  },
  {
   "cell_type": "markdown",
   "source": [
    "## 2.1 Loop"
   ],
   "metadata": {
    "collapsed": false,
    "pycharm": {
     "name": "#%% md\n"
    }
   }
  },
  {
   "cell_type": "code",
   "execution_count": 66,
   "outputs": [],
   "source": [
    "model_dict = {}\n",
    "train_dict = {}\n",
    "forcase_dict = {}"
   ],
   "metadata": {
    "collapsed": false,
    "pycharm": {
     "name": "#%%\n"
    }
   }
  },
  {
   "cell_type": "code",
   "execution_count": null,
   "outputs": [],
   "source": [],
   "metadata": {
    "collapsed": false,
    "pycharm": {
     "name": "#%%\n"
    }
   }
  },
  {
   "cell_type": "code",
   "execution_count": 67,
   "outputs": [],
   "source": [
    "store_name = \"Finland___KaggleMart___KagglexHat\""
   ],
   "metadata": {
    "collapsed": false,
    "pycharm": {
     "name": "#%%\n"
    }
   }
  },
  {
   "cell_type": "code",
   "execution_count": null,
   "outputs": [],
   "source": [
    "df_test_date = df_test[[\"date\"]]\n",
    "df_test_date.columns = [\"ds\"]"
   ],
   "metadata": {
    "collapsed": false,
    "pycharm": {
     "name": "#%%\n"
    }
   }
  },
  {
   "cell_type": "code",
   "execution_count": 71,
   "outputs": [],
   "source": [
    "df_process = pd.DataFrame(data={\"ds\": df_pivot1.index, \"y\": df_pivot1[store_name]})\n",
    "model = Prophet()\n",
    "model.fit(df_process)\n",
    "df_test_date = df_test[[\"date\"]]\n",
    "df_test_date.columns = [\"ds\"]\n",
    "df_forecast = m.predict(df_test_date)"
   ],
   "metadata": {
    "collapsed": false,
    "pycharm": {
     "name": "#%%\n"
    }
   }
  },
  {
   "cell_type": "code",
   "execution_count": 100,
   "outputs": [],
   "source": [
    "def process_a_store(store_name, model_dict, train_dict, forcase_dict):\n",
    "    df_process = pd.DataFrame(data={\"ds\": df_pivot1.index, \"y\": df_pivot1[store_name]})\n",
    "    model = Prophet()\n",
    "    model.fit(df_process)\n",
    "    df_test_date = df_test[[\"date\"]].drop_duplicates()\n",
    "    df_test_date.columns = [\"ds\"]\n",
    "    df_forecast = model.predict(df_test_date)\n",
    "    model_dict[store_name] = model\n",
    "    train_dict[store_name] = df_process\n",
    "    forcase_dict[store_name] = df_forecast\n",
    "    return df_forecast"
   ],
   "metadata": {
    "collapsed": false,
    "pycharm": {
     "name": "#%%\n"
    }
   }
  },
  {
   "cell_type": "code",
   "execution_count": 101,
   "outputs": [
    {
     "data": {
      "text/plain": "['Finland___KaggleMart___KagglexHat',\n 'Finland___KaggleMart___KagglexMug',\n 'Finland___KaggleMart___KagglexSticker',\n 'Finland___KaggleRama___KagglexHat',\n 'Finland___KaggleRama___KagglexMug',\n 'Finland___KaggleRama___KagglexSticker',\n 'Norway___KaggleMart___KagglexHat',\n 'Norway___KaggleMart___KagglexMug',\n 'Norway___KaggleMart___KagglexSticker',\n 'Norway___KaggleRama___KagglexHat',\n 'Norway___KaggleRama___KagglexMug',\n 'Norway___KaggleRama___KagglexSticker',\n 'Sweden___KaggleMart___KagglexHat',\n 'Sweden___KaggleMart___KagglexMug',\n 'Sweden___KaggleMart___KagglexSticker',\n 'Sweden___KaggleRama___KagglexHat',\n 'Sweden___KaggleRama___KagglexMug',\n 'Sweden___KaggleRama___KagglexSticker']"
     },
     "execution_count": 101,
     "metadata": {},
     "output_type": "execute_result"
    }
   ],
   "source": [
    "store_list = list(df_pivot1.columns)\n",
    "store_list"
   ],
   "metadata": {
    "collapsed": false,
    "pycharm": {
     "name": "#%%\n"
    }
   }
  },
  {
   "cell_type": "code",
   "execution_count": 103,
   "outputs": [
    {
     "name": "stderr",
     "output_type": "stream",
     "text": [
      "  6%|▌         | 1/18 [00:01<00:27,  1.59s/it]"
     ]
    },
    {
     "name": "stdout",
     "output_type": "stream",
     "text": [
      "done with  Finland___KaggleMart___KagglexHat\n"
     ]
    },
    {
     "name": "stderr",
     "output_type": "stream",
     "text": [
      " 11%|█         | 2/18 [00:03<00:25,  1.56s/it]"
     ]
    },
    {
     "name": "stdout",
     "output_type": "stream",
     "text": [
      "done with  Finland___KaggleMart___KagglexMug\n"
     ]
    },
    {
     "name": "stderr",
     "output_type": "stream",
     "text": [
      " 17%|█▋        | 3/18 [00:04<00:23,  1.55s/it]"
     ]
    },
    {
     "name": "stdout",
     "output_type": "stream",
     "text": [
      "done with  Finland___KaggleMart___KagglexSticker\n"
     ]
    },
    {
     "name": "stderr",
     "output_type": "stream",
     "text": [
      " 22%|██▏       | 4/18 [00:06<00:21,  1.57s/it]"
     ]
    },
    {
     "name": "stdout",
     "output_type": "stream",
     "text": [
      "done with  Finland___KaggleRama___KagglexHat\n"
     ]
    },
    {
     "name": "stderr",
     "output_type": "stream",
     "text": [
      " 28%|██▊       | 5/18 [00:07<00:20,  1.55s/it]"
     ]
    },
    {
     "name": "stdout",
     "output_type": "stream",
     "text": [
      "done with  Finland___KaggleRama___KagglexMug\n"
     ]
    },
    {
     "name": "stderr",
     "output_type": "stream",
     "text": [
      " 33%|███▎      | 6/18 [00:09<00:18,  1.54s/it]"
     ]
    },
    {
     "name": "stdout",
     "output_type": "stream",
     "text": [
      "done with  Finland___KaggleRama___KagglexSticker\n"
     ]
    },
    {
     "name": "stderr",
     "output_type": "stream",
     "text": [
      " 39%|███▉      | 7/18 [00:10<00:17,  1.56s/it]"
     ]
    },
    {
     "name": "stdout",
     "output_type": "stream",
     "text": [
      "done with  Norway___KaggleMart___KagglexHat\n"
     ]
    },
    {
     "name": "stderr",
     "output_type": "stream",
     "text": [
      " 44%|████▍     | 8/18 [00:12<00:15,  1.56s/it]"
     ]
    },
    {
     "name": "stdout",
     "output_type": "stream",
     "text": [
      "done with  Norway___KaggleMart___KagglexMug\n"
     ]
    },
    {
     "name": "stderr",
     "output_type": "stream",
     "text": [
      " 50%|█████     | 9/18 [00:14<00:14,  1.57s/it]"
     ]
    },
    {
     "name": "stdout",
     "output_type": "stream",
     "text": [
      "done with  Norway___KaggleMart___KagglexSticker\n"
     ]
    },
    {
     "name": "stderr",
     "output_type": "stream",
     "text": [
      " 56%|█████▌    | 10/18 [00:15<00:12,  1.55s/it]"
     ]
    },
    {
     "name": "stdout",
     "output_type": "stream",
     "text": [
      "done with  Norway___KaggleRama___KagglexHat\n"
     ]
    },
    {
     "name": "stderr",
     "output_type": "stream",
     "text": [
      " 61%|██████    | 11/18 [00:17<00:11,  1.57s/it]"
     ]
    },
    {
     "name": "stdout",
     "output_type": "stream",
     "text": [
      "done with  Norway___KaggleRama___KagglexMug\n"
     ]
    },
    {
     "name": "stderr",
     "output_type": "stream",
     "text": [
      " 67%|██████▋   | 12/18 [00:18<00:09,  1.58s/it]"
     ]
    },
    {
     "name": "stdout",
     "output_type": "stream",
     "text": [
      "done with  Norway___KaggleRama___KagglexSticker\n"
     ]
    },
    {
     "name": "stderr",
     "output_type": "stream",
     "text": [
      " 72%|███████▏  | 13/18 [00:20<00:07,  1.53s/it]"
     ]
    },
    {
     "name": "stdout",
     "output_type": "stream",
     "text": [
      "done with  Sweden___KaggleMart___KagglexHat\n"
     ]
    },
    {
     "name": "stderr",
     "output_type": "stream",
     "text": [
      " 78%|███████▊  | 14/18 [00:21<00:06,  1.52s/it]"
     ]
    },
    {
     "name": "stdout",
     "output_type": "stream",
     "text": [
      "done with  Sweden___KaggleMart___KagglexMug\n"
     ]
    },
    {
     "name": "stderr",
     "output_type": "stream",
     "text": [
      " 83%|████████▎ | 15/18 [00:23<00:04,  1.56s/it]"
     ]
    },
    {
     "name": "stdout",
     "output_type": "stream",
     "text": [
      "done with  Sweden___KaggleMart___KagglexSticker\n"
     ]
    },
    {
     "name": "stderr",
     "output_type": "stream",
     "text": [
      " 89%|████████▉ | 16/18 [00:24<00:03,  1.54s/it]"
     ]
    },
    {
     "name": "stdout",
     "output_type": "stream",
     "text": [
      "done with  Sweden___KaggleRama___KagglexHat\n"
     ]
    },
    {
     "name": "stderr",
     "output_type": "stream",
     "text": [
      " 94%|█████████▍| 17/18 [00:26<00:01,  1.53s/it]"
     ]
    },
    {
     "name": "stdout",
     "output_type": "stream",
     "text": [
      "done with  Sweden___KaggleRama___KagglexMug\n"
     ]
    },
    {
     "name": "stderr",
     "output_type": "stream",
     "text": [
      "100%|██████████| 18/18 [00:27<00:00,  1.55s/it]"
     ]
    },
    {
     "name": "stdout",
     "output_type": "stream",
     "text": [
      "done with  Sweden___KaggleRama___KagglexSticker\n"
     ]
    },
    {
     "name": "stderr",
     "output_type": "stream",
     "text": [
      "\n"
     ]
    }
   ],
   "source": [
    "model_dict = {}\n",
    "train_dict = {}\n",
    "forcase_dict = {}\n",
    "for store_name in tqdm(store_list):\n",
    "    process_a_store(store_name, model_dict, train_dict, forcase_dict)\n",
    "    print(\"done with \", store_name)"
   ],
   "metadata": {
    "collapsed": false,
    "pycharm": {
     "name": "#%%\n"
    }
   }
  },
  {
   "cell_type": "code",
   "execution_count": 105,
   "outputs": [
    {
     "data": {
      "text/plain": "(365, 19)"
     },
     "execution_count": 105,
     "metadata": {},
     "output_type": "execute_result"
    }
   ],
   "source": [
    "forcase_dict[\"Finland___KaggleMart___KagglexHat\"].shape"
   ],
   "metadata": {
    "collapsed": false,
    "pycharm": {
     "name": "#%%\n"
    }
   }
  },
  {
   "cell_type": "code",
   "execution_count": 106,
   "outputs": [
    {
     "data": {
      "text/plain": "(365, 1)"
     },
     "execution_count": 106,
     "metadata": {},
     "output_type": "execute_result"
    }
   ],
   "source": [
    "df_test_prepare = df_test[[\"date\"]].drop_duplicates()\n",
    "df_test_prepare.shape"
   ],
   "metadata": {
    "collapsed": false,
    "pycharm": {
     "name": "#%%\n"
    }
   }
  },
  {
   "cell_type": "code",
   "execution_count": 107,
   "outputs": [
    {
     "name": "stderr",
     "output_type": "stream",
     "text": [
      "100%|██████████| 18/18 [00:00<00:00, 396.61it/s]\n"
     ]
    }
   ],
   "source": [
    "df_test_list = []\n",
    "for store_name in tqdm(store_list):\n",
    "    df_test_prepare = df_test[[\"date\"]].drop_duplicates()\n",
    "    df_test_prepare[\"num_sold\"] = forcase_dict[store_name][\"yhat\"]\n",
    "    df_test_prepare[\"store_name\"] = store_name\n",
    "    df_test_list.append(df_test_prepare)"
   ],
   "metadata": {
    "collapsed": false,
    "pycharm": {
     "name": "#%%\n"
    }
   }
  },
  {
   "cell_type": "code",
   "execution_count": 108,
   "outputs": [
    {
     "data": {
      "text/plain": "          date    num_sold                         store_name\n0   2019-01-01  548.151102  Finland___KaggleMart___KagglexHat\n18  2019-01-02  500.924602  Finland___KaggleMart___KagglexHat\n36  2019-01-03  430.572445  Finland___KaggleMart___KagglexHat\n54  2019-01-04  526.201716  Finland___KaggleMart___KagglexHat\n72  2019-01-05  456.792571  Finland___KaggleMart___KagglexHat",
      "text/html": "<div>\n<style scoped>\n    .dataframe tbody tr th:only-of-type {\n        vertical-align: middle;\n    }\n\n    .dataframe tbody tr th {\n        vertical-align: top;\n    }\n\n    .dataframe thead th {\n        text-align: right;\n    }\n</style>\n<table border=\"1\" class=\"dataframe\">\n  <thead>\n    <tr style=\"text-align: right;\">\n      <th></th>\n      <th>date</th>\n      <th>num_sold</th>\n      <th>store_name</th>\n    </tr>\n  </thead>\n  <tbody>\n    <tr>\n      <th>0</th>\n      <td>2019-01-01</td>\n      <td>548.151102</td>\n      <td>Finland___KaggleMart___KagglexHat</td>\n    </tr>\n    <tr>\n      <th>18</th>\n      <td>2019-01-02</td>\n      <td>500.924602</td>\n      <td>Finland___KaggleMart___KagglexHat</td>\n    </tr>\n    <tr>\n      <th>36</th>\n      <td>2019-01-03</td>\n      <td>430.572445</td>\n      <td>Finland___KaggleMart___KagglexHat</td>\n    </tr>\n    <tr>\n      <th>54</th>\n      <td>2019-01-04</td>\n      <td>526.201716</td>\n      <td>Finland___KaggleMart___KagglexHat</td>\n    </tr>\n    <tr>\n      <th>72</th>\n      <td>2019-01-05</td>\n      <td>456.792571</td>\n      <td>Finland___KaggleMart___KagglexHat</td>\n    </tr>\n  </tbody>\n</table>\n</div>"
     },
     "execution_count": 108,
     "metadata": {},
     "output_type": "execute_result"
    }
   ],
   "source": [
    "df_test_list[0].head()"
   ],
   "metadata": {
    "collapsed": false,
    "pycharm": {
     "name": "#%%\n"
    }
   }
  },
  {
   "cell_type": "code",
   "execution_count": 109,
   "outputs": [],
   "source": [
    "df_test_prepare1 = pd.concat(df_test_list)"
   ],
   "metadata": {
    "collapsed": false,
    "pycharm": {
     "name": "#%%\n"
    }
   }
  },
  {
   "cell_type": "code",
   "execution_count": 110,
   "outputs": [
    {
     "data": {
      "text/plain": "(6570, 3)"
     },
     "execution_count": 110,
     "metadata": {},
     "output_type": "execute_result"
    }
   ],
   "source": [
    "df_test_prepare1.shape"
   ],
   "metadata": {
    "collapsed": false,
    "pycharm": {
     "name": "#%%\n"
    }
   }
  },
  {
   "cell_type": "code",
   "execution_count": 111,
   "outputs": [
    {
     "data": {
      "text/plain": "(6570, 5)"
     },
     "execution_count": 111,
     "metadata": {},
     "output_type": "execute_result"
    }
   ],
   "source": [
    "df_test.shape"
   ],
   "metadata": {
    "collapsed": false,
    "pycharm": {
     "name": "#%%\n"
    }
   }
  },
  {
   "cell_type": "code",
   "execution_count": 113,
   "outputs": [
    {
     "data": {
      "text/plain": "   row_id        date  country       store         product\n0   26298  2019-01-01  Finland  KaggleMart      Kaggle Mug\n1   26299  2019-01-01  Finland  KaggleMart      Kaggle Hat\n2   26300  2019-01-01  Finland  KaggleMart  Kaggle Sticker\n3   26301  2019-01-01  Finland  KaggleRama      Kaggle Mug\n4   26302  2019-01-01  Finland  KaggleRama      Kaggle Hat",
      "text/html": "<div>\n<style scoped>\n    .dataframe tbody tr th:only-of-type {\n        vertical-align: middle;\n    }\n\n    .dataframe tbody tr th {\n        vertical-align: top;\n    }\n\n    .dataframe thead th {\n        text-align: right;\n    }\n</style>\n<table border=\"1\" class=\"dataframe\">\n  <thead>\n    <tr style=\"text-align: right;\">\n      <th></th>\n      <th>row_id</th>\n      <th>date</th>\n      <th>country</th>\n      <th>store</th>\n      <th>product</th>\n    </tr>\n  </thead>\n  <tbody>\n    <tr>\n      <th>0</th>\n      <td>26298</td>\n      <td>2019-01-01</td>\n      <td>Finland</td>\n      <td>KaggleMart</td>\n      <td>Kaggle Mug</td>\n    </tr>\n    <tr>\n      <th>1</th>\n      <td>26299</td>\n      <td>2019-01-01</td>\n      <td>Finland</td>\n      <td>KaggleMart</td>\n      <td>Kaggle Hat</td>\n    </tr>\n    <tr>\n      <th>2</th>\n      <td>26300</td>\n      <td>2019-01-01</td>\n      <td>Finland</td>\n      <td>KaggleMart</td>\n      <td>Kaggle Sticker</td>\n    </tr>\n    <tr>\n      <th>3</th>\n      <td>26301</td>\n      <td>2019-01-01</td>\n      <td>Finland</td>\n      <td>KaggleRama</td>\n      <td>Kaggle Mug</td>\n    </tr>\n    <tr>\n      <th>4</th>\n      <td>26302</td>\n      <td>2019-01-01</td>\n      <td>Finland</td>\n      <td>KaggleRama</td>\n      <td>Kaggle Hat</td>\n    </tr>\n  </tbody>\n</table>\n</div>"
     },
     "execution_count": 113,
     "metadata": {},
     "output_type": "execute_result"
    }
   ],
   "source": [
    "df_test.head()"
   ],
   "metadata": {
    "collapsed": false,
    "pycharm": {
     "name": "#%%\n"
    }
   }
  },
  {
   "cell_type": "code",
   "execution_count": 114,
   "outputs": [],
   "source": [
    "def unlink_store(row):\n",
    "    sep = \"___\"\n",
    "    # store_name = row[\"country\"] + sep + row[\"store\"] + sep + row[\"product\"].replace(\" \", \"x\")\n",
    "    store_name = row[\"store_name\"].split(\"___\")\n",
    "    row[\"country\"] = store_name[0]\n",
    "    row[\"store\"] = store_name[1]\n",
    "    row[\"product\"] = store_name[2].replace(\"x\", \" \")\n",
    "    return row"
   ],
   "metadata": {
    "collapsed": false,
    "pycharm": {
     "name": "#%%\n"
    }
   }
  },
  {
   "cell_type": "code",
   "execution_count": 135,
   "outputs": [],
   "source": [
    "df_test_prepare2 = df_test_prepare1.swifter.apply(unlink_store, axis=1)"
   ],
   "metadata": {
    "collapsed": false,
    "pycharm": {
     "name": "#%%\n"
    }
   }
  },
  {
   "cell_type": "code",
   "execution_count": 136,
   "outputs": [
    {
     "data": {
      "text/plain": "          date    num_sold                         store_name  country  \\\n0   2019-01-01  548.151102  Finland___KaggleMart___KagglexHat  Finland   \n18  2019-01-02  500.924602  Finland___KaggleMart___KagglexHat  Finland   \n36  2019-01-03  430.572445  Finland___KaggleMart___KagglexHat  Finland   \n54  2019-01-04  526.201716  Finland___KaggleMart___KagglexHat  Finland   \n72  2019-01-05  456.792571  Finland___KaggleMart___KagglexHat  Finland   \n\n         store     product  \n0   KaggleMart  Kaggle Hat  \n18  KaggleMart  Kaggle Hat  \n36  KaggleMart  Kaggle Hat  \n54  KaggleMart  Kaggle Hat  \n72  KaggleMart  Kaggle Hat  ",
      "text/html": "<div>\n<style scoped>\n    .dataframe tbody tr th:only-of-type {\n        vertical-align: middle;\n    }\n\n    .dataframe tbody tr th {\n        vertical-align: top;\n    }\n\n    .dataframe thead th {\n        text-align: right;\n    }\n</style>\n<table border=\"1\" class=\"dataframe\">\n  <thead>\n    <tr style=\"text-align: right;\">\n      <th></th>\n      <th>date</th>\n      <th>num_sold</th>\n      <th>store_name</th>\n      <th>country</th>\n      <th>store</th>\n      <th>product</th>\n    </tr>\n  </thead>\n  <tbody>\n    <tr>\n      <th>0</th>\n      <td>2019-01-01</td>\n      <td>548.151102</td>\n      <td>Finland___KaggleMart___KagglexHat</td>\n      <td>Finland</td>\n      <td>KaggleMart</td>\n      <td>Kaggle Hat</td>\n    </tr>\n    <tr>\n      <th>18</th>\n      <td>2019-01-02</td>\n      <td>500.924602</td>\n      <td>Finland___KaggleMart___KagglexHat</td>\n      <td>Finland</td>\n      <td>KaggleMart</td>\n      <td>Kaggle Hat</td>\n    </tr>\n    <tr>\n      <th>36</th>\n      <td>2019-01-03</td>\n      <td>430.572445</td>\n      <td>Finland___KaggleMart___KagglexHat</td>\n      <td>Finland</td>\n      <td>KaggleMart</td>\n      <td>Kaggle Hat</td>\n    </tr>\n    <tr>\n      <th>54</th>\n      <td>2019-01-04</td>\n      <td>526.201716</td>\n      <td>Finland___KaggleMart___KagglexHat</td>\n      <td>Finland</td>\n      <td>KaggleMart</td>\n      <td>Kaggle Hat</td>\n    </tr>\n    <tr>\n      <th>72</th>\n      <td>2019-01-05</td>\n      <td>456.792571</td>\n      <td>Finland___KaggleMart___KagglexHat</td>\n      <td>Finland</td>\n      <td>KaggleMart</td>\n      <td>Kaggle Hat</td>\n    </tr>\n  </tbody>\n</table>\n</div>"
     },
     "execution_count": 136,
     "metadata": {},
     "output_type": "execute_result"
    }
   ],
   "source": [
    "df_test_prepare2.head()"
   ],
   "metadata": {
    "collapsed": false,
    "pycharm": {
     "name": "#%%\n"
    }
   }
  },
  {
   "cell_type": "code",
   "execution_count": 137,
   "outputs": [
    {
     "data": {
      "text/plain": "   row_id        date  country       store         product\n0   26298  2019-01-01  Finland  KaggleMart      Kaggle Mug\n1   26299  2019-01-01  Finland  KaggleMart      Kaggle Hat\n2   26300  2019-01-01  Finland  KaggleMart  Kaggle Sticker\n3   26301  2019-01-01  Finland  KaggleRama      Kaggle Mug\n4   26302  2019-01-01  Finland  KaggleRama      Kaggle Hat",
      "text/html": "<div>\n<style scoped>\n    .dataframe tbody tr th:only-of-type {\n        vertical-align: middle;\n    }\n\n    .dataframe tbody tr th {\n        vertical-align: top;\n    }\n\n    .dataframe thead th {\n        text-align: right;\n    }\n</style>\n<table border=\"1\" class=\"dataframe\">\n  <thead>\n    <tr style=\"text-align: right;\">\n      <th></th>\n      <th>row_id</th>\n      <th>date</th>\n      <th>country</th>\n      <th>store</th>\n      <th>product</th>\n    </tr>\n  </thead>\n  <tbody>\n    <tr>\n      <th>0</th>\n      <td>26298</td>\n      <td>2019-01-01</td>\n      <td>Finland</td>\n      <td>KaggleMart</td>\n      <td>Kaggle Mug</td>\n    </tr>\n    <tr>\n      <th>1</th>\n      <td>26299</td>\n      <td>2019-01-01</td>\n      <td>Finland</td>\n      <td>KaggleMart</td>\n      <td>Kaggle Hat</td>\n    </tr>\n    <tr>\n      <th>2</th>\n      <td>26300</td>\n      <td>2019-01-01</td>\n      <td>Finland</td>\n      <td>KaggleMart</td>\n      <td>Kaggle Sticker</td>\n    </tr>\n    <tr>\n      <th>3</th>\n      <td>26301</td>\n      <td>2019-01-01</td>\n      <td>Finland</td>\n      <td>KaggleRama</td>\n      <td>Kaggle Mug</td>\n    </tr>\n    <tr>\n      <th>4</th>\n      <td>26302</td>\n      <td>2019-01-01</td>\n      <td>Finland</td>\n      <td>KaggleRama</td>\n      <td>Kaggle Hat</td>\n    </tr>\n  </tbody>\n</table>\n</div>"
     },
     "execution_count": 137,
     "metadata": {},
     "output_type": "execute_result"
    }
   ],
   "source": [
    "df_test.head()"
   ],
   "metadata": {
    "collapsed": false,
    "pycharm": {
     "name": "#%%\n"
    }
   }
  },
  {
   "cell_type": "code",
   "execution_count": 138,
   "outputs": [
    {
     "data": {
      "text/plain": "   row_id        date  country       store         product  \\\n0   26298  2019-01-01  Finland  KaggleMart      Kaggle Mug   \n1   26299  2019-01-01  Finland  KaggleMart      Kaggle Hat   \n2   26300  2019-01-01  Finland  KaggleMart  Kaggle Sticker   \n3   26301  2019-01-01  Finland  KaggleRama      Kaggle Mug   \n4   26302  2019-01-01  Finland  KaggleRama      Kaggle Hat   \n\n                              store_name  \n0      Finland___KaggleMart___KagglexMug  \n1      Finland___KaggleMart___KagglexHat  \n2  Finland___KaggleMart___KagglexSticker  \n3      Finland___KaggleRama___KagglexMug  \n4      Finland___KaggleRama___KagglexHat  ",
      "text/html": "<div>\n<style scoped>\n    .dataframe tbody tr th:only-of-type {\n        vertical-align: middle;\n    }\n\n    .dataframe tbody tr th {\n        vertical-align: top;\n    }\n\n    .dataframe thead th {\n        text-align: right;\n    }\n</style>\n<table border=\"1\" class=\"dataframe\">\n  <thead>\n    <tr style=\"text-align: right;\">\n      <th></th>\n      <th>row_id</th>\n      <th>date</th>\n      <th>country</th>\n      <th>store</th>\n      <th>product</th>\n      <th>store_name</th>\n    </tr>\n  </thead>\n  <tbody>\n    <tr>\n      <th>0</th>\n      <td>26298</td>\n      <td>2019-01-01</td>\n      <td>Finland</td>\n      <td>KaggleMart</td>\n      <td>Kaggle Mug</td>\n      <td>Finland___KaggleMart___KagglexMug</td>\n    </tr>\n    <tr>\n      <th>1</th>\n      <td>26299</td>\n      <td>2019-01-01</td>\n      <td>Finland</td>\n      <td>KaggleMart</td>\n      <td>Kaggle Hat</td>\n      <td>Finland___KaggleMart___KagglexHat</td>\n    </tr>\n    <tr>\n      <th>2</th>\n      <td>26300</td>\n      <td>2019-01-01</td>\n      <td>Finland</td>\n      <td>KaggleMart</td>\n      <td>Kaggle Sticker</td>\n      <td>Finland___KaggleMart___KagglexSticker</td>\n    </tr>\n    <tr>\n      <th>3</th>\n      <td>26301</td>\n      <td>2019-01-01</td>\n      <td>Finland</td>\n      <td>KaggleRama</td>\n      <td>Kaggle Mug</td>\n      <td>Finland___KaggleRama___KagglexMug</td>\n    </tr>\n    <tr>\n      <th>4</th>\n      <td>26302</td>\n      <td>2019-01-01</td>\n      <td>Finland</td>\n      <td>KaggleRama</td>\n      <td>Kaggle Hat</td>\n      <td>Finland___KaggleRama___KagglexHat</td>\n    </tr>\n  </tbody>\n</table>\n</div>"
     },
     "execution_count": 138,
     "metadata": {},
     "output_type": "execute_result"
    }
   ],
   "source": [
    "df_test_store_name = df_test.swifter.apply(link_store, axis=1)\n",
    "df_test_store_name.head()"
   ],
   "metadata": {
    "collapsed": false,
    "pycharm": {
     "name": "#%%\n"
    }
   }
  },
  {
   "cell_type": "code",
   "execution_count": 139,
   "outputs": [],
   "source": [
    "df_test_store_name2 = df_test_store_name[[\"row_id\", \"date\", \"store_name\"]]"
   ],
   "metadata": {
    "collapsed": false,
    "pycharm": {
     "name": "#%%\n"
    }
   }
  },
  {
   "cell_type": "code",
   "execution_count": 140,
   "outputs": [],
   "source": [
    "df_sub_1 = pd.merge(df_test_prepare2, df_test_store_name2, on=[\"date\", \"store_name\"])"
   ],
   "metadata": {
    "collapsed": false,
    "pycharm": {
     "name": "#%%\n"
    }
   }
  },
  {
   "cell_type": "code",
   "execution_count": 141,
   "outputs": [
    {
     "data": {
      "text/plain": "(6570, 6)"
     },
     "execution_count": 141,
     "metadata": {},
     "output_type": "execute_result"
    }
   ],
   "source": [
    "df_test_prepare2.shape"
   ],
   "metadata": {
    "collapsed": false,
    "pycharm": {
     "name": "#%%\n"
    }
   }
  },
  {
   "cell_type": "code",
   "execution_count": 142,
   "outputs": [
    {
     "data": {
      "text/plain": "   row_id        date                             store_name\n0   26298  2019-01-01      Finland___KaggleMart___KagglexMug\n1   26299  2019-01-01      Finland___KaggleMart___KagglexHat\n2   26300  2019-01-01  Finland___KaggleMart___KagglexSticker\n3   26301  2019-01-01      Finland___KaggleRama___KagglexMug\n4   26302  2019-01-01      Finland___KaggleRama___KagglexHat",
      "text/html": "<div>\n<style scoped>\n    .dataframe tbody tr th:only-of-type {\n        vertical-align: middle;\n    }\n\n    .dataframe tbody tr th {\n        vertical-align: top;\n    }\n\n    .dataframe thead th {\n        text-align: right;\n    }\n</style>\n<table border=\"1\" class=\"dataframe\">\n  <thead>\n    <tr style=\"text-align: right;\">\n      <th></th>\n      <th>row_id</th>\n      <th>date</th>\n      <th>store_name</th>\n    </tr>\n  </thead>\n  <tbody>\n    <tr>\n      <th>0</th>\n      <td>26298</td>\n      <td>2019-01-01</td>\n      <td>Finland___KaggleMart___KagglexMug</td>\n    </tr>\n    <tr>\n      <th>1</th>\n      <td>26299</td>\n      <td>2019-01-01</td>\n      <td>Finland___KaggleMart___KagglexHat</td>\n    </tr>\n    <tr>\n      <th>2</th>\n      <td>26300</td>\n      <td>2019-01-01</td>\n      <td>Finland___KaggleMart___KagglexSticker</td>\n    </tr>\n    <tr>\n      <th>3</th>\n      <td>26301</td>\n      <td>2019-01-01</td>\n      <td>Finland___KaggleRama___KagglexMug</td>\n    </tr>\n    <tr>\n      <th>4</th>\n      <td>26302</td>\n      <td>2019-01-01</td>\n      <td>Finland___KaggleRama___KagglexHat</td>\n    </tr>\n  </tbody>\n</table>\n</div>"
     },
     "execution_count": 142,
     "metadata": {},
     "output_type": "execute_result"
    }
   ],
   "source": [
    "df_test_store_name2.head()"
   ],
   "metadata": {
    "collapsed": false,
    "pycharm": {
     "name": "#%%\n"
    }
   }
  },
  {
   "cell_type": "code",
   "execution_count": 146,
   "outputs": [
    {
     "data": {
      "text/plain": "         date    num_sold                         store_name  country  \\\n0  2019-01-01  548.151102  Finland___KaggleMart___KagglexHat  Finland   \n1  2019-01-02  500.924602  Finland___KaggleMart___KagglexHat  Finland   \n2  2019-01-03  430.572445  Finland___KaggleMart___KagglexHat  Finland   \n3  2019-01-04  526.201716  Finland___KaggleMart___KagglexHat  Finland   \n4  2019-01-05  456.792571  Finland___KaggleMart___KagglexHat  Finland   \n\n        store     product  row_id  \n0  KaggleMart  Kaggle Hat   26299  \n1  KaggleMart  Kaggle Hat   26317  \n2  KaggleMart  Kaggle Hat   26335  \n3  KaggleMart  Kaggle Hat   26353  \n4  KaggleMart  Kaggle Hat   26371  ",
      "text/html": "<div>\n<style scoped>\n    .dataframe tbody tr th:only-of-type {\n        vertical-align: middle;\n    }\n\n    .dataframe tbody tr th {\n        vertical-align: top;\n    }\n\n    .dataframe thead th {\n        text-align: right;\n    }\n</style>\n<table border=\"1\" class=\"dataframe\">\n  <thead>\n    <tr style=\"text-align: right;\">\n      <th></th>\n      <th>date</th>\n      <th>num_sold</th>\n      <th>store_name</th>\n      <th>country</th>\n      <th>store</th>\n      <th>product</th>\n      <th>row_id</th>\n    </tr>\n  </thead>\n  <tbody>\n    <tr>\n      <th>0</th>\n      <td>2019-01-01</td>\n      <td>548.151102</td>\n      <td>Finland___KaggleMart___KagglexHat</td>\n      <td>Finland</td>\n      <td>KaggleMart</td>\n      <td>Kaggle Hat</td>\n      <td>26299</td>\n    </tr>\n    <tr>\n      <th>1</th>\n      <td>2019-01-02</td>\n      <td>500.924602</td>\n      <td>Finland___KaggleMart___KagglexHat</td>\n      <td>Finland</td>\n      <td>KaggleMart</td>\n      <td>Kaggle Hat</td>\n      <td>26317</td>\n    </tr>\n    <tr>\n      <th>2</th>\n      <td>2019-01-03</td>\n      <td>430.572445</td>\n      <td>Finland___KaggleMart___KagglexHat</td>\n      <td>Finland</td>\n      <td>KaggleMart</td>\n      <td>Kaggle Hat</td>\n      <td>26335</td>\n    </tr>\n    <tr>\n      <th>3</th>\n      <td>2019-01-04</td>\n      <td>526.201716</td>\n      <td>Finland___KaggleMart___KagglexHat</td>\n      <td>Finland</td>\n      <td>KaggleMart</td>\n      <td>Kaggle Hat</td>\n      <td>26353</td>\n    </tr>\n    <tr>\n      <th>4</th>\n      <td>2019-01-05</td>\n      <td>456.792571</td>\n      <td>Finland___KaggleMart___KagglexHat</td>\n      <td>Finland</td>\n      <td>KaggleMart</td>\n      <td>Kaggle Hat</td>\n      <td>26371</td>\n    </tr>\n  </tbody>\n</table>\n</div>"
     },
     "execution_count": 146,
     "metadata": {},
     "output_type": "execute_result"
    }
   ],
   "source": [
    "df_sub_1.head()"
   ],
   "metadata": {
    "collapsed": false,
    "pycharm": {
     "name": "#%%\n"
    }
   }
  },
  {
   "cell_type": "code",
   "execution_count": 148,
   "outputs": [],
   "source": [
    "df_sub_2 = df_sub_1[[\"row_id\", \"num_sold\"]]"
   ],
   "metadata": {
    "collapsed": false,
    "pycharm": {
     "name": "#%%\n"
    }
   }
  },
  {
   "cell_type": "code",
   "execution_count": 152,
   "outputs": [],
   "source": [
    "df_sub_3 = df_sub_2.fillna(0)"
   ],
   "metadata": {
    "collapsed": false,
    "pycharm": {
     "name": "#%%\n"
    }
   }
  },
  {
   "cell_type": "code",
   "execution_count": 153,
   "outputs": [],
   "source": [
    "df_sub_3.to_csv(\"sub/submission_model_1.csv\", index=False)"
   ],
   "metadata": {
    "collapsed": false,
    "pycharm": {
     "name": "#%%\n"
    }
   }
  },
  {
   "cell_type": "code",
   "execution_count": null,
   "outputs": [],
   "source": [],
   "metadata": {
    "collapsed": false,
    "pycharm": {
     "name": "#%%\n"
    }
   }
  },
  {
   "cell_type": "code",
   "execution_count": 150,
   "outputs": [
    {
     "data": {
      "text/plain": "(6570, 2)"
     },
     "execution_count": 150,
     "metadata": {},
     "output_type": "execute_result"
    }
   ],
   "source": [
    "df_sub_2.shape"
   ],
   "metadata": {
    "collapsed": false,
    "pycharm": {
     "name": "#%%\n"
    }
   }
  },
  {
   "cell_type": "code",
   "execution_count": 151,
   "outputs": [
    {
     "data": {
      "text/plain": "   row_id    num_sold\n0   26299  548.151102\n1   26317  500.924602\n2   26335  430.572445\n3   26353  526.201716\n4   26371  456.792571",
      "text/html": "<div>\n<style scoped>\n    .dataframe tbody tr th:only-of-type {\n        vertical-align: middle;\n    }\n\n    .dataframe tbody tr th {\n        vertical-align: top;\n    }\n\n    .dataframe thead th {\n        text-align: right;\n    }\n</style>\n<table border=\"1\" class=\"dataframe\">\n  <thead>\n    <tr style=\"text-align: right;\">\n      <th></th>\n      <th>row_id</th>\n      <th>num_sold</th>\n    </tr>\n  </thead>\n  <tbody>\n    <tr>\n      <th>0</th>\n      <td>26299</td>\n      <td>548.151102</td>\n    </tr>\n    <tr>\n      <th>1</th>\n      <td>26317</td>\n      <td>500.924602</td>\n    </tr>\n    <tr>\n      <th>2</th>\n      <td>26335</td>\n      <td>430.572445</td>\n    </tr>\n    <tr>\n      <th>3</th>\n      <td>26353</td>\n      <td>526.201716</td>\n    </tr>\n    <tr>\n      <th>4</th>\n      <td>26371</td>\n      <td>456.792571</td>\n    </tr>\n  </tbody>\n</table>\n</div>"
     },
     "execution_count": 151,
     "metadata": {},
     "output_type": "execute_result"
    }
   ],
   "source": [
    "df_sub_2.head()"
   ],
   "metadata": {
    "collapsed": false,
    "pycharm": {
     "name": "#%%\n"
    }
   }
  },
  {
   "cell_type": "markdown",
   "source": [
    "# Check why null ?"
   ],
   "metadata": {
    "collapsed": false,
    "pycharm": {
     "name": "#%% md\n"
    }
   }
  },
  {
   "cell_type": "code",
   "execution_count": 155,
   "outputs": [
    {
     "data": {
      "text/plain": "            date  num_sold                            store_name  country  \\\n21    2019-01-22       NaN     Finland___KaggleMart___KagglexHat  Finland   \n22    2019-01-23       NaN     Finland___KaggleMart___KagglexHat  Finland   \n23    2019-01-24       NaN     Finland___KaggleMart___KagglexHat  Finland   \n24    2019-01-25       NaN     Finland___KaggleMart___KagglexHat  Finland   \n25    2019-01-26       NaN     Finland___KaggleMart___KagglexHat  Finland   \n...          ...       ...                                   ...      ...   \n6565  2019-12-27       NaN  Sweden___KaggleRama___KagglexSticker   Sweden   \n6566  2019-12-28       NaN  Sweden___KaggleRama___KagglexSticker   Sweden   \n6567  2019-12-29       NaN  Sweden___KaggleRama___KagglexSticker   Sweden   \n6568  2019-12-30       NaN  Sweden___KaggleRama___KagglexSticker   Sweden   \n6569  2019-12-31       NaN  Sweden___KaggleRama___KagglexSticker   Sweden   \n\n           store         product  row_id  \n21    KaggleMart      Kaggle Hat   26677  \n22    KaggleMart      Kaggle Hat   26695  \n23    KaggleMart      Kaggle Hat   26713  \n24    KaggleMart      Kaggle Hat   26731  \n25    KaggleMart      Kaggle Hat   26749  \n...          ...             ...     ...  \n6565  KaggleRama  Kaggle Sticker   32795  \n6566  KaggleRama  Kaggle Sticker   32813  \n6567  KaggleRama  Kaggle Sticker   32831  \n6568  KaggleRama  Kaggle Sticker   32849  \n6569  KaggleRama  Kaggle Sticker   32867  \n\n[6192 rows x 7 columns]",
      "text/html": "<div>\n<style scoped>\n    .dataframe tbody tr th:only-of-type {\n        vertical-align: middle;\n    }\n\n    .dataframe tbody tr th {\n        vertical-align: top;\n    }\n\n    .dataframe thead th {\n        text-align: right;\n    }\n</style>\n<table border=\"1\" class=\"dataframe\">\n  <thead>\n    <tr style=\"text-align: right;\">\n      <th></th>\n      <th>date</th>\n      <th>num_sold</th>\n      <th>store_name</th>\n      <th>country</th>\n      <th>store</th>\n      <th>product</th>\n      <th>row_id</th>\n    </tr>\n  </thead>\n  <tbody>\n    <tr>\n      <th>21</th>\n      <td>2019-01-22</td>\n      <td>NaN</td>\n      <td>Finland___KaggleMart___KagglexHat</td>\n      <td>Finland</td>\n      <td>KaggleMart</td>\n      <td>Kaggle Hat</td>\n      <td>26677</td>\n    </tr>\n    <tr>\n      <th>22</th>\n      <td>2019-01-23</td>\n      <td>NaN</td>\n      <td>Finland___KaggleMart___KagglexHat</td>\n      <td>Finland</td>\n      <td>KaggleMart</td>\n      <td>Kaggle Hat</td>\n      <td>26695</td>\n    </tr>\n    <tr>\n      <th>23</th>\n      <td>2019-01-24</td>\n      <td>NaN</td>\n      <td>Finland___KaggleMart___KagglexHat</td>\n      <td>Finland</td>\n      <td>KaggleMart</td>\n      <td>Kaggle Hat</td>\n      <td>26713</td>\n    </tr>\n    <tr>\n      <th>24</th>\n      <td>2019-01-25</td>\n      <td>NaN</td>\n      <td>Finland___KaggleMart___KagglexHat</td>\n      <td>Finland</td>\n      <td>KaggleMart</td>\n      <td>Kaggle Hat</td>\n      <td>26731</td>\n    </tr>\n    <tr>\n      <th>25</th>\n      <td>2019-01-26</td>\n      <td>NaN</td>\n      <td>Finland___KaggleMart___KagglexHat</td>\n      <td>Finland</td>\n      <td>KaggleMart</td>\n      <td>Kaggle Hat</td>\n      <td>26749</td>\n    </tr>\n    <tr>\n      <th>...</th>\n      <td>...</td>\n      <td>...</td>\n      <td>...</td>\n      <td>...</td>\n      <td>...</td>\n      <td>...</td>\n      <td>...</td>\n    </tr>\n    <tr>\n      <th>6565</th>\n      <td>2019-12-27</td>\n      <td>NaN</td>\n      <td>Sweden___KaggleRama___KagglexSticker</td>\n      <td>Sweden</td>\n      <td>KaggleRama</td>\n      <td>Kaggle Sticker</td>\n      <td>32795</td>\n    </tr>\n    <tr>\n      <th>6566</th>\n      <td>2019-12-28</td>\n      <td>NaN</td>\n      <td>Sweden___KaggleRama___KagglexSticker</td>\n      <td>Sweden</td>\n      <td>KaggleRama</td>\n      <td>Kaggle Sticker</td>\n      <td>32813</td>\n    </tr>\n    <tr>\n      <th>6567</th>\n      <td>2019-12-29</td>\n      <td>NaN</td>\n      <td>Sweden___KaggleRama___KagglexSticker</td>\n      <td>Sweden</td>\n      <td>KaggleRama</td>\n      <td>Kaggle Sticker</td>\n      <td>32831</td>\n    </tr>\n    <tr>\n      <th>6568</th>\n      <td>2019-12-30</td>\n      <td>NaN</td>\n      <td>Sweden___KaggleRama___KagglexSticker</td>\n      <td>Sweden</td>\n      <td>KaggleRama</td>\n      <td>Kaggle Sticker</td>\n      <td>32849</td>\n    </tr>\n    <tr>\n      <th>6569</th>\n      <td>2019-12-31</td>\n      <td>NaN</td>\n      <td>Sweden___KaggleRama___KagglexSticker</td>\n      <td>Sweden</td>\n      <td>KaggleRama</td>\n      <td>Kaggle Sticker</td>\n      <td>32867</td>\n    </tr>\n  </tbody>\n</table>\n<p>6192 rows × 7 columns</p>\n</div>"
     },
     "execution_count": 155,
     "metadata": {},
     "output_type": "execute_result"
    }
   ],
   "source": [
    "df_sub_1[df_sub_1[\"num_sold\"].isna()]"
   ],
   "metadata": {
    "collapsed": false,
    "pycharm": {
     "name": "#%%\n"
    }
   }
  },
  {
   "cell_type": "code",
   "execution_count": null,
   "outputs": [],
   "source": [],
   "metadata": {
    "collapsed": false,
    "pycharm": {
     "name": "#%%\n"
    }
   }
  }
 ],
 "metadata": {
  "kernelspec": {
   "display_name": "Python 3",
   "language": "python",
   "name": "python3"
  },
  "language_info": {
   "codemirror_mode": {
    "name": "ipython",
    "version": 2
   },
   "file_extension": ".py",
   "mimetype": "text/x-python",
   "name": "python",
   "nbconvert_exporter": "python",
   "pygments_lexer": "ipython2",
   "version": "2.7.6"
  }
 },
 "nbformat": 4,
 "nbformat_minor": 0
}